{
 "cells": [
  {
   "cell_type": "code",
   "execution_count": 2,
   "metadata": {},
   "outputs": [],
   "source": [
    "EPOCHS = 500\n",
    "LR = 3e-3\n",
    "LABEL_SMOOTHING = 0.\n",
    "WEIGHT_DECAY = 0#5e-4\n",
    "WARMUP_EPOCHS = 0"
   ]
  },
  {
   "cell_type": "code",
   "execution_count": null,
   "metadata": {},
   "outputs": [],
   "source": [
    "import torch\n",
    "import torch.nn as nn\n",
    "import torch.nn.functional as F\n",
    "from torch.utils.data import DataLoader\n",
    "from torchvision import datasets, transforms\n",
    "import matplotlib.pyplot as plt\n",
    "from tqdm import tqdm\n",
    "from collections import defaultdict\n",
    "import numpy as np\n",
    "from typing import List, Tuple, Optional\n",
    "from torch.optim import Adam, AdamW, Adamax, SGD\n",
    "import torch.optim as optim\n",
    "\n",
    "device='cuda' if torch.cuda.is_available() else 'cpu'\n",
    "import torch\n",
    "def similarity_matrix(x):\n",
    "    ''' Calculate adjusted cosine similarity matrix of size x.size(0) x x.size(0). '''\n",
    "    if x.dim() == 4:\n",
    "        x = x.view(x.size(0),-1)\n",
    "    xc = x - x.mean(dim=1).unsqueeze(1)\n",
    "    xn = xc / (1e-8 + torch.sqrt(torch.sum(xc**2, dim=1))).unsqueeze(1)\n",
    "    R = xn.matmul(xn.transpose(1,0)).clamp(-1,1)\n",
    "    return R\n",
    "\n",
    "def L_per(q: torch.Tensor, p: torch.Tensor,\n",
    "                      reduction: str = \"mean\",\n",
    "                      eps: float = 1e-12,\n",
    "                      detach_p: bool = True) -> torch.Tensor:\n",
    "    \"\"\"\n",
    "    q, p: [B, K] probabilities (nonnegative; rows ~ sum to 1).\n",
    "    \"\"\"\n",
    "    if detach_p:\n",
    "        p = p.detach()\n",
    "    q = (q.clamp_min(eps) / q.clamp_min(eps).sum(dim=-1, keepdim=True))\n",
    "    p = (p.clamp_min(eps) / p.clamp_min(eps).sum(dim=-1, keepdim=True))\n",
    "    # log BC via log-sum-exp for stability\n",
    "    log_bc = torch.logsumexp(0.5 * (q.log() + p.log()), dim=-1)\n",
    "    loss_per = -log_bc\n",
    "    return (loss_per.mean() if reduction == \"mean\"\n",
    "            else loss_per.sum() if reduction == \"sum\"\n",
    "            else loss_per)\n",
    "    \n",
    "class VGG11(nn.Module):\n",
    "    def __init__(\n",
    "        self,\n",
    "        in_channels: int = 3,\n",
    "        num_classes: int = 200,\n",
    "        lr: float = 0.001,\n",
    "    ):\n",
    "        super().__init__()\n",
    "        \n",
    "        self.num_classes = num_classes\n",
    "        self.device = 'cuda' if torch.cuda.is_available() else 'cpu'\n",
    "        self.alpha = 1\n",
    "        \n",
    "\n",
    "        self.conv_configs = [\n",
    "            (in_channels, 256),    # Conv1 - pool\n",
    "            (256, 512),           # Conv2 - pool\n",
    "            (512, 512),          # Conv3\n",
    "            (512, 1024),          # Conv4 - pool\n",
    "            (1024, 1024),          # Conv5\n",
    "            (1024, 1024),          # Conv6 - pool\n",
    "            (1024, 1024),          # Conv7\n",
    "            (1024, 1024),          # Conv8 - pool\n",
    "        ]\n",
    "        \n",
    "        self.conv_layers = nn.ModuleList()\n",
    "        self.conv_norms = nn.ModuleList() \n",
    "        self.conv_beta = nn.ParameterList() \n",
    "        \n",
    "        self.conv_optimizers = []\n",
    "        self.conv_param_layer = []\n",
    "        \n",
    "        for i, (in_ch, out_ch) in enumerate(self.conv_configs):\n",
    "            conv_i = nn.Conv2d(in_ch, out_ch, kernel_size=3, padding=1)\n",
    "            bn_i = nn.BatchNorm2d(out_ch)\n",
    "            self.conv_layers.append(conv_i)\n",
    "            self.conv_norms.append(bn_i)\n",
    "                \n",
    "            selected_params = list(conv_i.parameters())\n",
    "            selected_params += list(bn_i.parameters())\n",
    "            self.conv_optimizers.append(Adam(selected_params,lr = LR,eps=1e-8, betas=(.9, .999),weight_decay=WEIGHT_DECAY))\n",
    "            self.conv_param_layer.append(selected_params)\n",
    "            \n",
    "        # Learning rate scheduler\n",
    "        self.scheduler = torch.optim.lr_scheduler.CosineAnnealingLR(self.conv_optimizers[0], T_max=EPOCHS, eta_min=1e-5)\n",
    "        self.feature_size = 1024\n",
    "        \n",
    "        self.fc_configs = [\n",
    "            (self.feature_size, 4096),\n",
    "            (4096,4096),\n",
    "            (4096, num_classes)\n",
    "        ]\n",
    "        \n",
    "        self.fc_layers = nn.ModuleList()\n",
    "        self.fc_norms = nn.ModuleList()\n",
    "        self.fc_optimizers = []\n",
    "        self.fc_param_layer = []\n",
    "        \n",
    "        for i, (in_features, out_features) in enumerate(self.fc_configs):\n",
    "            layer_i = nn.Linear(in_features, out_features)\n",
    "            self.fc_layers.append(layer_i)\n",
    "            if i < len(self.fc_configs) - 1:\n",
    "                bn_i = nn.BatchNorm1d(out_features)\n",
    "                self.fc_norms.append(bn_i)\n",
    "            else:\n",
    "                bn_i = nn.LayerNorm(out_features)\n",
    "                self.fc_norms.append(bn_i)\n",
    "            selected_params = list(layer_i.parameters())\n",
    "            selected_params += list(bn_i.parameters())\n",
    "            self.fc_optimizers.append(Adam(selected_params,lr = lr,eps=1e-8, betas=(.9, .999),weight_decay=WEIGHT_DECAY))\n",
    "            self.fc_param_layer.append(selected_params)\n",
    "            \n",
    "        self.optimizers = self.fc_optimizers + self.conv_optimizers\n",
    "        self._init_weights()\n",
    "        \n",
    "        self.out_features = 1024\n",
    "        self.conv_projections = []\n",
    "        input_size = 64\n",
    "        for i, layer in enumerate(self.conv_layers):\n",
    "            out_channels = layer.out_channels\n",
    "            if i in [0, 1, 3, 5, 7]:  # Layers with pooling\n",
    "                input_size = input_size // 2\n",
    "            if input_size >8:\n",
    "                feat_size = out_channels * 64\n",
    "            else:\n",
    "                feat_size = out_channels * input_size * input_size\n",
    "            proj_dim = self.compute_dim_proj(feat_size)+self.num_classes\n",
    "            R = torch.randn(proj_dim, self.num_classes).to(self.device) / np.sqrt(proj_dim)\n",
    "            self.conv_projections.append(R)\n",
    "        \n",
    "        self.fc_projections = []\n",
    "        for layer in self.fc_layers[:-1]:\n",
    "            R = torch.randn(layer.out_features+self.num_classes, self.num_classes).to(self.device) / np.sqrt(layer.out_features)\n",
    "            self.fc_projections.append(R)\n",
    "        \n",
    "        \n",
    "        \n",
    "    def compute_conv_drift(self, features, targets, pre_feat,layer_idx: int):\n",
    "        \"\"\"Compute supervised drift for initial conv layer\"\"\"\n",
    "        tg_onehote = F.one_hot(targets, num_classes=self.num_classes).float()\n",
    "        batch_size, channels, height, width = features.shape\n",
    "        if height > 8:\n",
    "            avg_feat = F.adaptive_avg_pool2d(features, (8, 8))\n",
    "        else:\n",
    "            avg_feat = features\n",
    "        flattened = avg_feat.view(batch_size, -1)\n",
    "        flattened = F.adaptive_avg_pool1d(flattened, self.conv_projections[layer_idx].shape[0])\n",
    "        logits = flattened @ F.dropout(self.conv_projections[layer_idx], p=0.1)\n",
    "        ce_loss  = F.cross_entropy(logits, targets,label_smoothing=LABEL_SMOOTHING)\n",
    "        if pre_feat is not None:\n",
    "            sim_loss = L_per(F.softmax(logits,dim=-1),pre_feat.detach())\n",
    "        else:\n",
    "            sim_loss = L_per(F.softmax(logits,dim=-1),tg_onehote)\n",
    "            \n",
    "        loss = 0.5*ce_loss + 0.5* sim_loss\n",
    "        grad = torch.autograd.grad(loss, features, retain_graph=True)[0]\n",
    "        return grad, F.softmax(logits, dim=1)\n",
    "\n",
    "        \n",
    "    def compute_fc_drift(self, activations: torch.Tensor, targets: torch.Tensor, pre_feat: torch.Tensor,\n",
    "                                 layer_idx: int) -> torch.Tensor:\n",
    "        tg_onehote = F.one_hot(targets, num_classes=self.num_classes).float()\n",
    "        sup_act = torch.cat((activations, tg_onehote), dim=1)\n",
    "        layer_output = torch.matmul(sup_act, F.dropout(self.fc_projections[layer_idx],.1))\n",
    "        # add the feature aligment loss\n",
    "        if pre_feat is not None:\n",
    "            ce_loss = F.cross_entropy(layer_output, targets, label_smoothing=LABEL_SMOOTHING) \n",
    "            sim_loss = L_per(F.softmax(layer_output,dim=-1),pre_feat.detach())\n",
    "        else:\n",
    "            ce_loss = F.cross_entropy(layer_output, targets)\n",
    "            sim_loss = F.mse_loss(similarity_matrix(layer_output), similarity_matrix(tg_onehote))\n",
    "        \n",
    "        loss = 0.2*ce_loss + 0.8* sim_loss\n",
    "        grad = torch.autograd.grad(loss, activations, retain_graph=False)[0]\n",
    "        return grad, F.softmax(layer_output, dim=1)\n",
    "    \n",
    "    def forward_with_update(self, x: torch.Tensor,y: torch.Tensor):\n",
    "        # zero_grad all optimizers\n",
    "        self.opts_zero_grad()\n",
    "        pre_Rproj = None\n",
    "        \n",
    "        h = x\n",
    "        \n",
    "        for i, (conv, norm) in enumerate(zip(self.conv_layers, self.conv_norms)):\n",
    "            h = h.detach()\n",
    "            h = conv(h)\n",
    "            h = norm(h)\n",
    "            h = F.relu(h)\n",
    "            if i in [0, 1, 3, 5, 7]:\n",
    "                h = F.max_pool2d(h, 2)\n",
    "            # update the layer\n",
    "            supervised_drift,pre_Rproj = self.compute_conv_drift(h,y,pre_Rproj,i)\n",
    "            h.backward(supervised_drift)\n",
    "            # torch.nn.utils.clip_grad_norm_(self.conv_param_layer[i], max_norm=1.0)\n",
    "            self.conv_optimizers[i].step()\n",
    "        \n",
    "        h = F.adaptive_avg_pool2d(h, (1, 1))\n",
    "\n",
    "        h = h.view(h.size(0), -1)\n",
    "        \n",
    "        \n",
    "        for i, fc in enumerate(self.fc_layers[:-1]):\n",
    "            h = h.detach()\n",
    "            h = fc(h)\n",
    "            if i < len(self.fc_norms):\n",
    "                h = self.fc_norms[i](h)\n",
    "            h = F.relu(h)\n",
    "            h = F.dropout(h, p=0.5, training=self.training)\n",
    "            # update the layer\n",
    "            supervised_drift,pre_Rproj = self.compute_fc_drift(\n",
    "                h,y,pre_Rproj,i)\n",
    "            h.backward(supervised_drift)\n",
    "            # torch.nn.utils.clip_grad_norm_(self.fc_param_layer[i], max_norm=1.0)\n",
    "            self.fc_optimizers[i].step()\n",
    "\n",
    "        h = h.detach()\n",
    "        h = self.fc_norms[-1](self.fc_layers[-1](h))\n",
    "        # h = self.fc_layers[-1](h)\n",
    "        loss = F.cross_entropy(h, y) + L_per(F.softmax(h,dim=-1),pre_Rproj.detach())\n",
    "        loss.backward()\n",
    "        torch.nn.utils.clip_grad_norm_(self.fc_param_layer[-1], max_norm=1.0)\n",
    "        self.fc_optimizers[-1].step()\n",
    "        \n",
    "        return h, loss.item()\n",
    "    \n",
    "\n",
    "    def forward(self, x: torch.Tensor) -> torch.Tensor:\n",
    "        h = x\n",
    "        \n",
    "        for i, (conv, norm) in enumerate(zip(self.conv_layers, self.conv_norms)):\n",
    "            h = conv(h)\n",
    "            h = norm(h)\n",
    "            h = F.relu(h)\n",
    "            if i in [0, 1, 3, 5, 7]:\n",
    "                h = F.max_pool2d(h, 2)\n",
    "                \n",
    "        h = F.adaptive_avg_pool2d(h, (1, 1))\n",
    "        h = h.view(h.size(0), -1)\n",
    "        \n",
    "        for i, fc in enumerate(self.fc_layers[:-1]):\n",
    "            h = fc(h)\n",
    "            if i < len(self.fc_norms):\n",
    "                h = self.fc_norms[i](h)\n",
    "            h = F.relu(h)\n",
    "            h = F.dropout(h, p=0.1, training=self.training)\n",
    "        \n",
    "        return self.fc_norms[-1](self.fc_layers[-1](h))\n",
    "        # return self.fc_layers[-1](h)\n",
    "\n",
    "    def _init_weights(self):\n",
    "        for m in self.modules():\n",
    "            if isinstance(m, nn.Conv2d):\n",
    "                nn.init.kaiming_uniform_(m.weight, mode='fan_out', nonlinearity='relu')\n",
    "                if m.bias is not None:\n",
    "                    nn.init.constant_(m.bias, 0)\n",
    "            elif isinstance(m, nn.Linear):\n",
    "                nn.init.kaiming_uniform_(m.weight)\n",
    "                nn.init.constant_(m.bias, 0)\n",
    "                \n",
    "    def opts_zero_grad(self):\n",
    "        for opt_l in self.conv_optimizers+self.fc_optimizers:\n",
    "            opt_l.zero_grad()\n",
    "    def id_zero_grad(self,i):\n",
    "        self.optimizers[i].zero_grad()\n",
    "    def compute_dim_proj(self, in_dim: int) -> int:\n",
    "        eps = 0.1\n",
    "        min_dim = int(4 * np.log(in_dim) / (eps**2/2 - eps**3/3))\n",
    "        return min(in_dim, max(min_dim, 2048))\n",
    "    \n",
    "    def update_lr(self):\n",
    "        lr = self.scheduler.get_last_lr()[0]  # Get the updated LR from the scheduler\n",
    "        for opt_i in self.optimizers:\n",
    "            for param_group in opt_i.param_groups:\n",
    "                param_group['lr'] = lr\n",
    "                \n",
    "                "
   ]
  },
  {
   "cell_type": "code",
   "execution_count": null,
   "metadata": {},
   "outputs": [],
   "source": [
    "from torch.utils.data import Dataset, DataLoader\n",
    "from torchvision import datasets\n",
    "from PIL import Image\n",
    "import torch\n",
    "\n",
    "class RAMImageFolder(Dataset): # faster\n",
    "    def __init__(self, root, transform=None):\n",
    "        base = datasets.ImageFolder(root)\n",
    "        self.classes  = base.classes\n",
    "        self.class_to_idx = base.class_to_idx\n",
    "        self.samples  = base.samples           # (path, label)\n",
    "        self.transform = transform\n",
    "\n",
    "        # --- preload all images into RAM as PIL (copy() closes file & keeps pixels in memory)\n",
    "        imgs, labels = [], []\n",
    "        for path, y in self.samples:\n",
    "            with Image.open(path) as im:\n",
    "                imgs.append(im.convert(\"RGB\").copy())\n",
    "            labels.append(y)\n",
    "        self.imgs = imgs\n",
    "        self.targets = torch.as_tensor(labels)\n",
    "\n",
    "    def __len__(self): return len(self.imgs)\n",
    "\n",
    "    def __getitem__(self, i):\n",
    "        img = self.imgs[i]\n",
    "        if self.transform is not None:\n",
    "            img = self.transform(img)  # your existing PIL-based transforms work\n",
    "        return img, int(self.targets[i])\n"
   ]
  },
  {
   "cell_type": "code",
   "execution_count": null,
   "metadata": {},
   "outputs": [
    {
     "name": "stdout",
     "output_type": "stream",
     "text": [
      "Using device: cuda\n",
      "data loaded\n"
     ]
    },
    {
     "name": "stderr",
     "output_type": "stream",
     "text": [
      "Epoch 1/500: 100%|████████████████████████████████████████████████████████████████████████████████████████████████████████████████████████████████████████████████████████████████████████████████████████████████████████████████████████████████████████████████████████████| 196/196 [01:10<00:00,  2.77it/s, loss=5.1247, acc_t=0.0187, acc=0.0113]\n"
     ]
    },
    {
     "name": "stdout",
     "output_type": "stream",
     "text": [
      "Average Train Loss: 5.4135; Test Loss: 4.9289;                 Train Accuracy: 0.0113; Test Accuracy: 0.0264;\n"
     ]
    },
    {
     "name": "stderr",
     "output_type": "stream",
     "text": [
      "Epoch 2/500: 100%|████████████████████████████████████████████████████████████████████████████████████████████████████████████████████████████████████████████████████████████████████████████████████████████████████████████████████████████████████████████████████████████| 196/196 [01:08<00:00,  2.86it/s, loss=4.7575, acc_t=0.0625, acc=0.0397]\n"
     ]
    },
    {
     "name": "stdout",
     "output_type": "stream",
     "text": [
      "Average Train Loss: 4.8944; Test Loss: 4.4871;                 Train Accuracy: 0.0397; Test Accuracy: 0.0796;\n"
     ]
    },
    {
     "name": "stderr",
     "output_type": "stream",
     "text": [
      "Epoch 3/500: 100%|████████████████████████████████████████████████████████████████████████████████████████████████████████████████████████████████████████████████████████████████████████████████████████████████████████████████████████████████████████████████████████████| 196/196 [01:08<00:00,  2.85it/s, loss=4.4103, acc_t=0.1125, acc=0.0668]\n"
     ]
    },
    {
     "name": "stdout",
     "output_type": "stream",
     "text": [
      "Average Train Loss: 4.6302; Test Loss: 4.2893;                 Train Accuracy: 0.0668; Test Accuracy: 0.0912;\n"
     ]
    },
    {
     "name": "stderr",
     "output_type": "stream",
     "text": [
      "Epoch 4/500: 100%|████████████████████████████████████████████████████████████████████████████████████████████████████████████████████████████████████████████████████████████████████████████████████████████████████████████████████████████████████████████████████████████| 196/196 [01:09<00:00,  2.84it/s, loss=4.5869, acc_t=0.0563, acc=0.0858]\n"
     ]
    },
    {
     "name": "stdout",
     "output_type": "stream",
     "text": [
      "Average Train Loss: 4.4673; Test Loss: 4.1098;                 Train Accuracy: 0.0858; Test Accuracy: 0.1220;\n"
     ]
    },
    {
     "name": "stderr",
     "output_type": "stream",
     "text": [
      "Epoch 5/500: 100%|████████████████████████████████████████████████████████████████████████████████████████████████████████████████████████████████████████████████████████████████████████████████████████████████████████████████████████████████████████████████████████████| 196/196 [01:09<00:00,  2.84it/s, loss=4.1048, acc_t=0.1375, acc=0.1058]\n"
     ]
    },
    {
     "name": "stdout",
     "output_type": "stream",
     "text": [
      "Average Train Loss: 4.3308; Test Loss: 3.9321;                 Train Accuracy: 0.1058; Test Accuracy: 0.1486;\n"
     ]
    },
    {
     "name": "stderr",
     "output_type": "stream",
     "text": [
      "Epoch 6/500: 100%|████████████████████████████████████████████████████████████████████████████████████████████████████████████████████████████████████████████████████████████████████████████████████████████████████████████████████████████████████████████████████████████| 196/196 [01:08<00:00,  2.86it/s, loss=4.2794, acc_t=0.1125, acc=0.1164]\n"
     ]
    },
    {
     "name": "stdout",
     "output_type": "stream",
     "text": [
      "Average Train Loss: 4.2496; Test Loss: 3.9286;                 Train Accuracy: 0.1164; Test Accuracy: 0.1490;\n"
     ]
    },
    {
     "name": "stderr",
     "output_type": "stream",
     "text": [
      "Epoch 7/500: 100%|████████████████████████████████████████████████████████████████████████████████████████████████████████████████████████████████████████████████████████████████████████████████████████████████████████████████████████████████████████████████████████████| 196/196 [01:08<00:00,  2.85it/s, loss=4.0986, acc_t=0.1250, acc=0.1294]\n"
     ]
    },
    {
     "name": "stdout",
     "output_type": "stream",
     "text": [
      "Average Train Loss: 4.1563; Test Loss: 3.9944;                 Train Accuracy: 0.1294; Test Accuracy: 0.1456;\n"
     ]
    },
    {
     "name": "stderr",
     "output_type": "stream",
     "text": [
      "Epoch 8/500: 100%|████████████████████████████████████████████████████████████████████████████████████████████████████████████████████████████████████████████████████████████████████████████████████████████████████████████████████████████████████████████████████████████| 196/196 [01:08<00:00,  2.85it/s, loss=3.8780, acc_t=0.1688, acc=0.1425]\n"
     ]
    },
    {
     "name": "stdout",
     "output_type": "stream",
     "text": [
      "Average Train Loss: 4.0707; Test Loss: 3.7391;                 Train Accuracy: 0.1425; Test Accuracy: 0.1846;\n"
     ]
    },
    {
     "name": "stderr",
     "output_type": "stream",
     "text": [
      "Epoch 9/500: 100%|████████████████████████████████████████████████████████████████████████████████████████████████████████████████████████████████████████████████████████████████████████████████████████████████████████████████████████████████████████████████████████████| 196/196 [01:08<00:00,  2.85it/s, loss=4.1062, acc_t=0.1313, acc=0.1546]\n"
     ]
    },
    {
     "name": "stdout",
     "output_type": "stream",
     "text": [
      "Average Train Loss: 4.0017; Test Loss: 3.6225;                 Train Accuracy: 0.1546; Test Accuracy: 0.1912;\n"
     ]
    },
    {
     "name": "stderr",
     "output_type": "stream",
     "text": [
      "Epoch 10/500: 100%|███████████████████████████████████████████████████████████████████████████████████████████████████████████████████████████████████████████████████████████████████████████████████████████████████████████████████████████████████████████████████████████| 196/196 [01:08<00:00,  2.86it/s, loss=4.0153, acc_t=0.1437, acc=0.1602]\n"
     ]
    },
    {
     "name": "stdout",
     "output_type": "stream",
     "text": [
      "Average Train Loss: 3.9615; Test Loss: 3.6374;                 Train Accuracy: 0.1602; Test Accuracy: 0.1924;\n"
     ]
    },
    {
     "name": "stderr",
     "output_type": "stream",
     "text": [
      "Epoch 11/500: 100%|███████████████████████████████████████████████████████████████████████████████████████████████████████████████████████████████████████████████████████████████████████████████████████████████████████████████████████████████████████████████████████████| 196/196 [01:08<00:00,  2.85it/s, loss=3.8238, acc_t=0.1688, acc=0.1698]\n"
     ]
    },
    {
     "name": "stdout",
     "output_type": "stream",
     "text": [
      "Average Train Loss: 3.9051; Test Loss: 3.5489;                 Train Accuracy: 0.1698; Test Accuracy: 0.2104;\n"
     ]
    },
    {
     "name": "stderr",
     "output_type": "stream",
     "text": [
      "Epoch 12/500: 100%|███████████████████████████████████████████████████████████████████████████████████████████████████████████████████████████████████████████████████████████████████████████████████████████████████████████████████████████████████████████████████████████| 196/196 [01:09<00:00,  2.84it/s, loss=4.1246, acc_t=0.1375, acc=0.1781]\n"
     ]
    },
    {
     "name": "stdout",
     "output_type": "stream",
     "text": [
      "Average Train Loss: 3.8411; Test Loss: 3.5644;                 Train Accuracy: 0.1781; Test Accuracy: 0.2068;\n"
     ]
    },
    {
     "name": "stderr",
     "output_type": "stream",
     "text": [
      "Epoch 13/500: 100%|███████████████████████████████████████████████████████████████████████████████████████████████████████████████████████████████████████████████████████████████████████████████████████████████████████████████████████████████████████████████████████████| 196/196 [01:08<00:00,  2.85it/s, loss=3.7645, acc_t=0.1812, acc=0.1882]\n"
     ]
    },
    {
     "name": "stdout",
     "output_type": "stream",
     "text": [
      "Average Train Loss: 3.7941; Test Loss: 3.4748;                 Train Accuracy: 0.1882; Test Accuracy: 0.2126;\n"
     ]
    },
    {
     "name": "stderr",
     "output_type": "stream",
     "text": [
      "Epoch 14/500: 100%|███████████████████████████████████████████████████████████████████████████████████████████████████████████████████████████████████████████████████████████████████████████████████████████████████████████████████████████████████████████████████████████| 196/196 [01:08<00:00,  2.85it/s, loss=3.7552, acc_t=0.2125, acc=0.1912]\n"
     ]
    },
    {
     "name": "stdout",
     "output_type": "stream",
     "text": [
      "Average Train Loss: 3.7648; Test Loss: 3.3810;                 Train Accuracy: 0.1912; Test Accuracy: 0.2358;\n"
     ]
    },
    {
     "name": "stderr",
     "output_type": "stream",
     "text": [
      "Epoch 15/500: 100%|███████████████████████████████████████████████████████████████████████████████████████████████████████████████████████████████████████████████████████████████████████████████████████████████████████████████████████████████████████████████████████████| 196/196 [01:08<00:00,  2.86it/s, loss=3.9587, acc_t=0.1875, acc=0.2020]\n"
     ]
    },
    {
     "name": "stdout",
     "output_type": "stream",
     "text": [
      "Average Train Loss: 3.7079; Test Loss: 3.3371;                 Train Accuracy: 0.2020; Test Accuracy: 0.2430;\n"
     ]
    },
    {
     "name": "stderr",
     "output_type": "stream",
     "text": [
      "Epoch 16/500: 100%|███████████████████████████████████████████████████████████████████████████████████████████████████████████████████████████████████████████████████████████████████████████████████████████████████████████████████████████████████████████████████████████| 196/196 [01:08<00:00,  2.86it/s, loss=3.6533, acc_t=0.2125, acc=0.2068]\n"
     ]
    },
    {
     "name": "stdout",
     "output_type": "stream",
     "text": [
      "Average Train Loss: 3.6713; Test Loss: 3.3668;                 Train Accuracy: 0.2068; Test Accuracy: 0.2366;\n"
     ]
    },
    {
     "name": "stderr",
     "output_type": "stream",
     "text": [
      "Epoch 17/500: 100%|███████████████████████████████████████████████████████████████████████████████████████████████████████████████████████████████████████████████████████████████████████████████████████████████████████████████████████████████████████████████████████████| 196/196 [01:08<00:00,  2.85it/s, loss=3.8372, acc_t=0.1750, acc=0.2126]\n"
     ]
    },
    {
     "name": "stdout",
     "output_type": "stream",
     "text": [
      "Average Train Loss: 3.6420; Test Loss: 3.2891;                 Train Accuracy: 0.2126; Test Accuracy: 0.2524;\n"
     ]
    },
    {
     "name": "stderr",
     "output_type": "stream",
     "text": [
      "Epoch 18/500: 100%|███████████████████████████████████████████████████████████████████████████████████████████████████████████████████████████████████████████████████████████████████████████████████████████████████████████████████████████████████████████████████████████| 196/196 [01:08<00:00,  2.85it/s, loss=3.9662, acc_t=0.1875, acc=0.2210]\n"
     ]
    },
    {
     "name": "stdout",
     "output_type": "stream",
     "text": [
      "Average Train Loss: 3.5880; Test Loss: 3.2768;                 Train Accuracy: 0.2210; Test Accuracy: 0.2500;\n"
     ]
    },
    {
     "name": "stderr",
     "output_type": "stream",
     "text": [
      "Epoch 19/500: 100%|███████████████████████████████████████████████████████████████████████████████████████████████████████████████████████████████████████████████████████████████████████████████████████████████████████████████████████████████████████████████████████████| 196/196 [01:08<00:00,  2.84it/s, loss=3.2945, acc_t=0.2812, acc=0.2292]\n"
     ]
    },
    {
     "name": "stdout",
     "output_type": "stream",
     "text": [
      "Average Train Loss: 3.5407; Test Loss: 3.1350;                 Train Accuracy: 0.2292; Test Accuracy: 0.2768;\n"
     ]
    },
    {
     "name": "stderr",
     "output_type": "stream",
     "text": [
      "Epoch 20/500: 100%|███████████████████████████████████████████████████████████████████████████████████████████████████████████████████████████████████████████████████████████████████████████████████████████████████████████████████████████████████████████████████████████| 196/196 [01:08<00:00,  2.86it/s, loss=3.4742, acc_t=0.2750, acc=0.2322]\n"
     ]
    },
    {
     "name": "stdout",
     "output_type": "stream",
     "text": [
      "Average Train Loss: 3.5239; Test Loss: 3.1669;                 Train Accuracy: 0.2322; Test Accuracy: 0.2704;\n"
     ]
    },
    {
     "name": "stderr",
     "output_type": "stream",
     "text": [
      "Epoch 21/500: 100%|███████████████████████████████████████████████████████████████████████████████████████████████████████████████████████████████████████████████████████████████████████████████████████████████████████████████████████████████████████████████████████████| 196/196 [01:08<00:00,  2.85it/s, loss=3.3992, acc_t=0.2375, acc=0.2366]\n"
     ]
    },
    {
     "name": "stdout",
     "output_type": "stream",
     "text": [
      "Average Train Loss: 3.4936; Test Loss: 3.1391;                 Train Accuracy: 0.2366; Test Accuracy: 0.2770;\n"
     ]
    },
    {
     "name": "stderr",
     "output_type": "stream",
     "text": [
      "Epoch 22/500: 100%|███████████████████████████████████████████████████████████████████████████████████████████████████████████████████████████████████████████████████████████████████████████████████████████████████████████████████████████████████████████████████████████| 196/196 [01:09<00:00,  2.84it/s, loss=3.3412, acc_t=0.2562, acc=0.2441]\n"
     ]
    },
    {
     "name": "stdout",
     "output_type": "stream",
     "text": [
      "Average Train Loss: 3.4498; Test Loss: 3.1798;                 Train Accuracy: 0.2441; Test Accuracy: 0.2670;\n"
     ]
    },
    {
     "name": "stderr",
     "output_type": "stream",
     "text": [
      "Epoch 23/500: 100%|███████████████████████████████████████████████████████████████████████████████████████████████████████████████████████████████████████████████████████████████████████████████████████████████████████████████████████████████████████████████████████████| 196/196 [01:09<00:00,  2.84it/s, loss=3.2852, acc_t=0.2812, acc=0.2490]\n"
     ]
    },
    {
     "name": "stdout",
     "output_type": "stream",
     "text": [
      "Average Train Loss: 3.4270; Test Loss: 3.1055;                 Train Accuracy: 0.2490; Test Accuracy: 0.2858;\n"
     ]
    },
    {
     "name": "stderr",
     "output_type": "stream",
     "text": [
      "Epoch 24/500: 100%|███████████████████████████████████████████████████████████████████████████████████████████████████████████████████████████████████████████████████████████████████████████████████████████████████████████████████████████████████████████████████████████| 196/196 [01:08<00:00,  2.85it/s, loss=3.7193, acc_t=0.1812, acc=0.2529]\n"
     ]
    },
    {
     "name": "stdout",
     "output_type": "stream",
     "text": [
      "Average Train Loss: 3.4158; Test Loss: 3.1493;                 Train Accuracy: 0.2529; Test Accuracy: 0.2718;\n"
     ]
    },
    {
     "name": "stderr",
     "output_type": "stream",
     "text": [
      "Epoch 25/500: 100%|███████████████████████████████████████████████████████████████████████████████████████████████████████████████████████████████████████████████████████████████████████████████████████████████████████████████████████████████████████████████████████████| 196/196 [01:08<00:00,  2.86it/s, loss=3.1606, acc_t=0.3063, acc=0.2602]\n"
     ]
    },
    {
     "name": "stdout",
     "output_type": "stream",
     "text": [
      "Average Train Loss: 3.3759; Test Loss: 3.1280;                 Train Accuracy: 0.2602; Test Accuracy: 0.2868;\n"
     ]
    },
    {
     "name": "stderr",
     "output_type": "stream",
     "text": [
      "Epoch 26/500: 100%|███████████████████████████████████████████████████████████████████████████████████████████████████████████████████████████████████████████████████████████████████████████████████████████████████████████████████████████████████████████████████████████| 196/196 [01:08<00:00,  2.85it/s, loss=3.2818, acc_t=0.2313, acc=0.2650]\n"
     ]
    },
    {
     "name": "stdout",
     "output_type": "stream",
     "text": [
      "Average Train Loss: 3.3377; Test Loss: 3.0272;                 Train Accuracy: 0.2650; Test Accuracy: 0.3022;\n"
     ]
    },
    {
     "name": "stderr",
     "output_type": "stream",
     "text": [
      "Epoch 27/500: 100%|███████████████████████████████████████████████████████████████████████████████████████████████████████████████████████████████████████████████████████████████████████████████████████████████████████████████████████████████████████████████████████████| 196/196 [01:08<00:00,  2.84it/s, loss=3.5613, acc_t=0.2437, acc=0.2671]\n"
     ]
    },
    {
     "name": "stdout",
     "output_type": "stream",
     "text": [
      "Average Train Loss: 3.3289; Test Loss: 3.0347;                 Train Accuracy: 0.2671; Test Accuracy: 0.2962;\n"
     ]
    },
    {
     "name": "stderr",
     "output_type": "stream",
     "text": [
      "Epoch 28/500: 100%|███████████████████████████████████████████████████████████████████████████████████████████████████████████████████████████████████████████████████████████████████████████████████████████████████████████████████████████████████████████████████████████| 196/196 [01:09<00:00,  2.84it/s, loss=3.4098, acc_t=0.2750, acc=0.2731]\n"
     ]
    },
    {
     "name": "stdout",
     "output_type": "stream",
     "text": [
      "Average Train Loss: 3.2977; Test Loss: 3.1674;                 Train Accuracy: 0.2731; Test Accuracy: 0.2838;\n"
     ]
    },
    {
     "name": "stderr",
     "output_type": "stream",
     "text": [
      "Epoch 29/500: 100%|███████████████████████████████████████████████████████████████████████████████████████████████████████████████████████████████████████████████████████████████████████████████████████████████████████████████████████████████████████████████████████████| 196/196 [01:08<00:00,  2.85it/s, loss=3.3334, acc_t=0.2750, acc=0.2799]\n"
     ]
    },
    {
     "name": "stdout",
     "output_type": "stream",
     "text": [
      "Average Train Loss: 3.2602; Test Loss: 2.9573;                 Train Accuracy: 0.2799; Test Accuracy: 0.3186;\n"
     ]
    },
    {
     "name": "stderr",
     "output_type": "stream",
     "text": [
      "Epoch 30/500: 100%|███████████████████████████████████████████████████████████████████████████████████████████████████████████████████████████████████████████████████████████████████████████████████████████████████████████████████████████████████████████████████████████| 196/196 [01:08<00:00,  2.85it/s, loss=3.2184, acc_t=0.3187, acc=0.2825]\n"
     ]
    },
    {
     "name": "stdout",
     "output_type": "stream",
     "text": [
      "Average Train Loss: 3.2341; Test Loss: 2.9378;                 Train Accuracy: 0.2825; Test Accuracy: 0.3220;\n"
     ]
    },
    {
     "name": "stderr",
     "output_type": "stream",
     "text": [
      "Epoch 31/500: 100%|███████████████████████████████████████████████████████████████████████████████████████████████████████████████████████████████████████████████████████████████████████████████████████████████████████████████████████████████████████████████████████████| 196/196 [01:08<00:00,  2.85it/s, loss=3.3313, acc_t=0.2375, acc=0.2835]\n"
     ]
    },
    {
     "name": "stdout",
     "output_type": "stream",
     "text": [
      "Average Train Loss: 3.2321; Test Loss: 3.0221;                 Train Accuracy: 0.2835; Test Accuracy: 0.2990;\n"
     ]
    },
    {
     "name": "stderr",
     "output_type": "stream",
     "text": [
      "Epoch 32/500: 100%|███████████████████████████████████████████████████████████████████████████████████████████████████████████████████████████████████████████████████████████████████████████████████████████████████████████████████████████████████████████████████████████| 196/196 [01:09<00:00,  2.83it/s, loss=3.0845, acc_t=0.3250, acc=0.2917]\n"
     ]
    },
    {
     "name": "stdout",
     "output_type": "stream",
     "text": [
      "Average Train Loss: 3.1999; Test Loss: 3.0292;                 Train Accuracy: 0.2917; Test Accuracy: 0.3070;\n"
     ]
    },
    {
     "name": "stderr",
     "output_type": "stream",
     "text": [
      "Epoch 33/500: 100%|███████████████████████████████████████████████████████████████████████████████████████████████████████████████████████████████████████████████████████████████████████████████████████████████████████████████████████████████████████████████████████████| 196/196 [01:08<00:00,  2.85it/s, loss=2.9753, acc_t=0.3500, acc=0.2949]\n"
     ]
    },
    {
     "name": "stdout",
     "output_type": "stream",
     "text": [
      "Average Train Loss: 3.1675; Test Loss: 3.0178;                 Train Accuracy: 0.2949; Test Accuracy: 0.3088;\n"
     ]
    },
    {
     "name": "stderr",
     "output_type": "stream",
     "text": [
      "Epoch 34/500: 100%|███████████████████████████████████████████████████████████████████████████████████████████████████████████████████████████████████████████████████████████████████████████████████████████████████████████████████████████████████████████████████████████| 196/196 [01:08<00:00,  2.85it/s, loss=3.1070, acc_t=0.2625, acc=0.3012]\n"
     ]
    },
    {
     "name": "stdout",
     "output_type": "stream",
     "text": [
      "Average Train Loss: 3.1408; Test Loss: 2.8859;                 Train Accuracy: 0.3012; Test Accuracy: 0.3322;\n"
     ]
    },
    {
     "name": "stderr",
     "output_type": "stream",
     "text": [
      "Epoch 35/500: 100%|███████████████████████████████████████████████████████████████████████████████████████████████████████████████████████████████████████████████████████████████████████████████████████████████████████████████████████████████████████████████████████████| 196/196 [01:08<00:00,  2.84it/s, loss=3.0962, acc_t=0.3125, acc=0.3047]\n"
     ]
    },
    {
     "name": "stdout",
     "output_type": "stream",
     "text": [
      "Average Train Loss: 3.1184; Test Loss: 2.9268;                 Train Accuracy: 0.3047; Test Accuracy: 0.3268;\n"
     ]
    },
    {
     "name": "stderr",
     "output_type": "stream",
     "text": [
      "Epoch 36/500: 100%|███████████████████████████████████████████████████████████████████████████████████████████████████████████████████████████████████████████████████████████████████████████████████████████████████████████████████████████████████████████████████████████| 196/196 [01:08<00:00,  2.84it/s, loss=3.0662, acc_t=0.3250, acc=0.3087]\n"
     ]
    },
    {
     "name": "stdout",
     "output_type": "stream",
     "text": [
      "Average Train Loss: 3.0991; Test Loss: 2.7897;                 Train Accuracy: 0.3087; Test Accuracy: 0.3510;\n"
     ]
    },
    {
     "name": "stderr",
     "output_type": "stream",
     "text": [
      "Epoch 37/500: 100%|███████████████████████████████████████████████████████████████████████████████████████████████████████████████████████████████████████████████████████████████████████████████████████████████████████████████████████████████████████████████████████████| 196/196 [01:08<00:00,  2.85it/s, loss=3.1884, acc_t=0.2938, acc=0.3150]\n"
     ]
    },
    {
     "name": "stdout",
     "output_type": "stream",
     "text": [
      "Average Train Loss: 3.0650; Test Loss: 2.8669;                 Train Accuracy: 0.3150; Test Accuracy: 0.3360;\n"
     ]
    },
    {
     "name": "stderr",
     "output_type": "stream",
     "text": [
      "Epoch 38/500: 100%|███████████████████████████████████████████████████████████████████████████████████████████████████████████████████████████████████████████████████████████████████████████████████████████████████████████████████████████████████████████████████████████| 196/196 [01:08<00:00,  2.85it/s, loss=3.2901, acc_t=0.2687, acc=0.3135]\n"
     ]
    },
    {
     "name": "stdout",
     "output_type": "stream",
     "text": [
      "Average Train Loss: 3.0746; Test Loss: 2.9263;                 Train Accuracy: 0.3135; Test Accuracy: 0.3326;\n"
     ]
    },
    {
     "name": "stderr",
     "output_type": "stream",
     "text": [
      "Epoch 39/500: 100%|███████████████████████████████████████████████████████████████████████████████████████████████████████████████████████████████████████████████████████████████████████████████████████████████████████████████████████████████████████████████████████████| 196/196 [01:08<00:00,  2.85it/s, loss=2.8567, acc_t=0.3937, acc=0.3164]\n"
     ]
    },
    {
     "name": "stdout",
     "output_type": "stream",
     "text": [
      "Average Train Loss: 3.0665; Test Loss: 2.8338;                 Train Accuracy: 0.3164; Test Accuracy: 0.3480;\n"
     ]
    },
    {
     "name": "stderr",
     "output_type": "stream",
     "text": [
      "Epoch 40/500: 100%|███████████████████████████████████████████████████████████████████████████████████████████████████████████████████████████████████████████████████████████████████████████████████████████████████████████████████████████████████████████████████████████| 196/196 [01:08<00:00,  2.85it/s, loss=2.8046, acc_t=0.3312, acc=0.3239]\n"
     ]
    },
    {
     "name": "stdout",
     "output_type": "stream",
     "text": [
      "Average Train Loss: 3.0169; Test Loss: 2.8299;                 Train Accuracy: 0.3239; Test Accuracy: 0.3424;\n"
     ]
    },
    {
     "name": "stderr",
     "output_type": "stream",
     "text": [
      "Epoch 41/500: 100%|███████████████████████████████████████████████████████████████████████████████████████████████████████████████████████████████████████████████████████████████████████████████████████████████████████████████████████████████████████████████████████████| 196/196 [01:08<00:00,  2.86it/s, loss=3.0961, acc_t=0.3312, acc=0.3275]\n"
     ]
    },
    {
     "name": "stdout",
     "output_type": "stream",
     "text": [
      "Average Train Loss: 3.0001; Test Loss: 2.8571;                 Train Accuracy: 0.3275; Test Accuracy: 0.3372;\n"
     ]
    },
    {
     "name": "stderr",
     "output_type": "stream",
     "text": [
      "Epoch 42/500: 100%|███████████████████████████████████████████████████████████████████████████████████████████████████████████████████████████████████████████████████████████████████████████████████████████████████████████████████████████████████████████████████████████| 196/196 [01:08<00:00,  2.86it/s, loss=3.1319, acc_t=0.3187, acc=0.3276]\n"
     ]
    },
    {
     "name": "stdout",
     "output_type": "stream",
     "text": [
      "Average Train Loss: 2.9954; Test Loss: 2.9750;                 Train Accuracy: 0.3276; Test Accuracy: 0.3310;\n"
     ]
    },
    {
     "name": "stderr",
     "output_type": "stream",
     "text": [
      "Epoch 43/500: 100%|███████████████████████████████████████████████████████████████████████████████████████████████████████████████████████████████████████████████████████████████████████████████████████████████████████████████████████████████████████████████████████████| 196/196 [01:08<00:00,  2.86it/s, loss=2.6619, acc_t=0.3688, acc=0.3357]\n"
     ]
    },
    {
     "name": "stdout",
     "output_type": "stream",
     "text": [
      "Average Train Loss: 2.9521; Test Loss: 2.7421;                 Train Accuracy: 0.3357; Test Accuracy: 0.3646;\n"
     ]
    },
    {
     "name": "stderr",
     "output_type": "stream",
     "text": [
      "Epoch 44/500: 100%|███████████████████████████████████████████████████████████████████████████████████████████████████████████████████████████████████████████████████████████████████████████████████████████████████████████████████████████████████████████████████████████| 196/196 [01:08<00:00,  2.85it/s, loss=2.8169, acc_t=0.3812, acc=0.3418]\n"
     ]
    },
    {
     "name": "stdout",
     "output_type": "stream",
     "text": [
      "Average Train Loss: 2.9189; Test Loss: 2.8265;                 Train Accuracy: 0.3418; Test Accuracy: 0.3404;\n"
     ]
    },
    {
     "name": "stderr",
     "output_type": "stream",
     "text": [
      "Epoch 45/500: 100%|███████████████████████████████████████████████████████████████████████████████████████████████████████████████████████████████████████████████████████████████████████████████████████████████████████████████████████████████████████████████████████████| 196/196 [01:09<00:00,  2.84it/s, loss=2.9407, acc_t=0.3250, acc=0.3414]\n"
     ]
    },
    {
     "name": "stdout",
     "output_type": "stream",
     "text": [
      "Average Train Loss: 2.9272; Test Loss: 2.8069;                 Train Accuracy: 0.3414; Test Accuracy: 0.3502;\n"
     ]
    },
    {
     "name": "stderr",
     "output_type": "stream",
     "text": [
      "Epoch 46/500: 100%|███████████████████████████████████████████████████████████████████████████████████████████████████████████████████████████████████████████████████████████████████████████████████████████████████████████████████████████████████████████████████████████| 196/196 [01:08<00:00,  2.85it/s, loss=2.7179, acc_t=0.3875, acc=0.3470]\n"
     ]
    },
    {
     "name": "stdout",
     "output_type": "stream",
     "text": [
      "Average Train Loss: 2.8982; Test Loss: 2.8140;                 Train Accuracy: 0.3470; Test Accuracy: 0.3482;\n"
     ]
    },
    {
     "name": "stderr",
     "output_type": "stream",
     "text": [
      "Epoch 47/500: 100%|███████████████████████████████████████████████████████████████████████████████████████████████████████████████████████████████████████████████████████████████████████████████████████████████████████████████████████████████████████████████████████████| 196/196 [01:08<00:00,  2.85it/s, loss=2.9150, acc_t=0.3438, acc=0.3482]\n"
     ]
    },
    {
     "name": "stdout",
     "output_type": "stream",
     "text": [
      "Average Train Loss: 2.8888; Test Loss: 2.8617;                 Train Accuracy: 0.3482; Test Accuracy: 0.3490;\n"
     ]
    },
    {
     "name": "stderr",
     "output_type": "stream",
     "text": [
      "Epoch 48/500: 100%|███████████████████████████████████████████████████████████████████████████████████████████████████████████████████████████████████████████████████████████████████████████████████████████████████████████████████████████████████████████████████████████| 196/196 [01:08<00:00,  2.85it/s, loss=2.7350, acc_t=0.3750, acc=0.3538]\n"
     ]
    },
    {
     "name": "stdout",
     "output_type": "stream",
     "text": [
      "Average Train Loss: 2.8602; Test Loss: 2.7904;                 Train Accuracy: 0.3538; Test Accuracy: 0.3574;\n"
     ]
    },
    {
     "name": "stderr",
     "output_type": "stream",
     "text": [
      "Epoch 49/500: 100%|███████████████████████████████████████████████████████████████████████████████████████████████████████████████████████████████████████████████████████████████████████████████████████████████████████████████████████████████████████████████████████████| 196/196 [01:08<00:00,  2.85it/s, loss=2.8714, acc_t=0.3250, acc=0.3537]\n"
     ]
    },
    {
     "name": "stdout",
     "output_type": "stream",
     "text": [
      "Average Train Loss: 2.8498; Test Loss: 2.7643;                 Train Accuracy: 0.3537; Test Accuracy: 0.3624;\n"
     ]
    },
    {
     "name": "stderr",
     "output_type": "stream",
     "text": [
      "Epoch 50/500: 100%|███████████████████████████████████████████████████████████████████████████████████████████████████████████████████████████████████████████████████████████████████████████████████████████████████████████████████████████████████████████████████████████| 196/196 [01:08<00:00,  2.84it/s, loss=3.0898, acc_t=0.3312, acc=0.3567]\n"
     ]
    },
    {
     "name": "stdout",
     "output_type": "stream",
     "text": [
      "Average Train Loss: 2.8507; Test Loss: 2.7885;                 Train Accuracy: 0.3567; Test Accuracy: 0.3582;\n"
     ]
    },
    {
     "name": "stderr",
     "output_type": "stream",
     "text": [
      "Epoch 51/500: 100%|███████████████████████████████████████████████████████████████████████████████████████████████████████████████████████████████████████████████████████████████████████████████████████████████████████████████████████████████████████████████████████████| 196/196 [01:08<00:00,  2.85it/s, loss=2.9853, acc_t=0.3375, acc=0.3652]\n"
     ]
    },
    {
     "name": "stdout",
     "output_type": "stream",
     "text": [
      "Average Train Loss: 2.8062; Test Loss: 2.7620;                 Train Accuracy: 0.3652; Test Accuracy: 0.3622;\n"
     ]
    },
    {
     "name": "stderr",
     "output_type": "stream",
     "text": [
      "Epoch 52/500: 100%|███████████████████████████████████████████████████████████████████████████████████████████████████████████████████████████████████████████████████████████████████████████████████████████████████████████████████████████████████████████████████████████| 196/196 [01:08<00:00,  2.84it/s, loss=2.7913, acc_t=0.3187, acc=0.3681]\n"
     ]
    },
    {
     "name": "stdout",
     "output_type": "stream",
     "text": [
      "Average Train Loss: 2.7884; Test Loss: 2.8534;                 Train Accuracy: 0.3681; Test Accuracy: 0.3550;\n"
     ]
    },
    {
     "name": "stderr",
     "output_type": "stream",
     "text": [
      "Epoch 53/500: 100%|███████████████████████████████████████████████████████████████████████████████████████████████████████████████████████████████████████████████████████████████████████████████████████████████████████████████████████████████████████████████████████████| 196/196 [01:08<00:00,  2.86it/s, loss=3.2104, acc_t=0.3125, acc=0.3678]\n"
     ]
    },
    {
     "name": "stdout",
     "output_type": "stream",
     "text": [
      "Average Train Loss: 2.7833; Test Loss: 2.9408;                 Train Accuracy: 0.3678; Test Accuracy: 0.3452;\n"
     ]
    },
    {
     "name": "stderr",
     "output_type": "stream",
     "text": [
      "Epoch 54/500: 100%|███████████████████████████████████████████████████████████████████████████████████████████████████████████████████████████████████████████████████████████████████████████████████████████████████████████████████████████████████████████████████████████| 196/196 [01:08<00:00,  2.85it/s, loss=2.5912, acc_t=0.3812, acc=0.3687]\n"
     ]
    },
    {
     "name": "stdout",
     "output_type": "stream",
     "text": [
      "Average Train Loss: 2.7828; Test Loss: 2.7176;                 Train Accuracy: 0.3687; Test Accuracy: 0.3716;\n"
     ]
    },
    {
     "name": "stderr",
     "output_type": "stream",
     "text": [
      "Epoch 55/500: 100%|███████████████████████████████████████████████████████████████████████████████████████████████████████████████████████████████████████████████████████████████████████████████████████████████████████████████████████████████████████████████████████████| 196/196 [01:08<00:00,  2.85it/s, loss=2.7447, acc_t=0.3563, acc=0.3763]\n"
     ]
    },
    {
     "name": "stdout",
     "output_type": "stream",
     "text": [
      "Average Train Loss: 2.7433; Test Loss: 2.7503;                 Train Accuracy: 0.3763; Test Accuracy: 0.3680;\n"
     ]
    },
    {
     "name": "stderr",
     "output_type": "stream",
     "text": [
      "Epoch 56/500: 100%|███████████████████████████████████████████████████████████████████████████████████████████████████████████████████████████████████████████████████████████████████████████████████████████████████████████████████████████████████████████████████████████| 196/196 [01:08<00:00,  2.85it/s, loss=2.7403, acc_t=0.3375, acc=0.3759]\n"
     ]
    },
    {
     "name": "stdout",
     "output_type": "stream",
     "text": [
      "Average Train Loss: 2.7487; Test Loss: 2.7579;                 Train Accuracy: 0.3759; Test Accuracy: 0.3644;\n"
     ]
    },
    {
     "name": "stderr",
     "output_type": "stream",
     "text": [
      "Epoch 57/500: 100%|███████████████████████████████████████████████████████████████████████████████████████████████████████████████████████████████████████████████████████████████████████████████████████████████████████████████████████████████████████████████████████████| 196/196 [01:08<00:00,  2.85it/s, loss=2.7859, acc_t=0.4125, acc=0.3772]\n"
     ]
    },
    {
     "name": "stdout",
     "output_type": "stream",
     "text": [
      "Average Train Loss: 2.7408; Test Loss: 2.8438;                 Train Accuracy: 0.3772; Test Accuracy: 0.3566;\n"
     ]
    },
    {
     "name": "stderr",
     "output_type": "stream",
     "text": [
      "Epoch 58/500: 100%|███████████████████████████████████████████████████████████████████████████████████████████████████████████████████████████████████████████████████████████████████████████████████████████████████████████████████████████████████████████████████████████| 196/196 [01:08<00:00,  2.85it/s, loss=2.8711, acc_t=0.3125, acc=0.3850]\n"
     ]
    },
    {
     "name": "stdout",
     "output_type": "stream",
     "text": [
      "Average Train Loss: 2.6939; Test Loss: 2.7296;                 Train Accuracy: 0.3850; Test Accuracy: 0.3758;\n"
     ]
    },
    {
     "name": "stderr",
     "output_type": "stream",
     "text": [
      "Epoch 59/500: 100%|███████████████████████████████████████████████████████████████████████████████████████████████████████████████████████████████████████████████████████████████████████████████████████████████████████████████████████████████████████████████████████████| 196/196 [01:08<00:00,  2.85it/s, loss=2.6055, acc_t=0.4313, acc=0.3870]\n"
     ]
    },
    {
     "name": "stdout",
     "output_type": "stream",
     "text": [
      "Average Train Loss: 2.6914; Test Loss: 2.7562;                 Train Accuracy: 0.3870; Test Accuracy: 0.3796;\n"
     ]
    },
    {
     "name": "stderr",
     "output_type": "stream",
     "text": [
      "Epoch 60/500: 100%|███████████████████████████████████████████████████████████████████████████████████████████████████████████████████████████████████████████████████████████████████████████████████████████████████████████████████████████████████████████████████████████| 196/196 [01:08<00:00,  2.85it/s, loss=2.5664, acc_t=0.4062, acc=0.3948]\n"
     ]
    },
    {
     "name": "stdout",
     "output_type": "stream",
     "text": [
      "Average Train Loss: 2.6523; Test Loss: 2.7150;                 Train Accuracy: 0.3948; Test Accuracy: 0.3810;\n"
     ]
    },
    {
     "name": "stderr",
     "output_type": "stream",
     "text": [
      "Epoch 61/500: 100%|███████████████████████████████████████████████████████████████████████████████████████████████████████████████████████████████████████████████████████████████████████████████████████████████████████████████████████████████████████████████████████████| 196/196 [01:08<00:00,  2.84it/s, loss=2.9336, acc_t=0.3438, acc=0.3972]\n"
     ]
    },
    {
     "name": "stdout",
     "output_type": "stream",
     "text": [
      "Average Train Loss: 2.6399; Test Loss: 2.6263;                 Train Accuracy: 0.3972; Test Accuracy: 0.4064;\n"
     ]
    },
    {
     "name": "stderr",
     "output_type": "stream",
     "text": [
      "Epoch 62/500: 100%|███████████████████████████████████████████████████████████████████████████████████████████████████████████████████████████████████████████████████████████████████████████████████████████████████████████████████████████████████████████████████████████| 196/196 [01:08<00:00,  2.85it/s, loss=2.5684, acc_t=0.4000, acc=0.3992]\n"
     ]
    },
    {
     "name": "stdout",
     "output_type": "stream",
     "text": [
      "Average Train Loss: 2.6306; Test Loss: 2.7334;                 Train Accuracy: 0.3992; Test Accuracy: 0.3852;\n"
     ]
    },
    {
     "name": "stderr",
     "output_type": "stream",
     "text": [
      "Epoch 63/500: 100%|███████████████████████████████████████████████████████████████████████████████████████████████████████████████████████████████████████████████████████████████████████████████████████████████████████████████████████████████████████████████████████████| 196/196 [01:09<00:00,  2.84it/s, loss=2.7077, acc_t=0.3563, acc=0.3986]\n"
     ]
    },
    {
     "name": "stdout",
     "output_type": "stream",
     "text": [
      "Average Train Loss: 2.6323; Test Loss: 2.6618;                 Train Accuracy: 0.3986; Test Accuracy: 0.3886;\n"
     ]
    },
    {
     "name": "stderr",
     "output_type": "stream",
     "text": [
      "Epoch 64/500: 100%|███████████████████████████████████████████████████████████████████████████████████████████████████████████████████████████████████████████████████████████████████████████████████████████████████████████████████████████████████████████████████████████| 196/196 [01:08<00:00,  2.85it/s, loss=2.6582, acc_t=0.4125, acc=0.4040]\n"
     ]
    },
    {
     "name": "stdout",
     "output_type": "stream",
     "text": [
      "Average Train Loss: 2.5969; Test Loss: 2.8713;                 Train Accuracy: 0.4040; Test Accuracy: 0.3544;\n"
     ]
    },
    {
     "name": "stderr",
     "output_type": "stream",
     "text": [
      "Epoch 65/500: 100%|███████████████████████████████████████████████████████████████████████████████████████████████████████████████████████████████████████████████████████████████████████████████████████████████████████████████████████████████████████████████████████████| 196/196 [01:08<00:00,  2.84it/s, loss=2.7477, acc_t=0.4125, acc=0.3988]\n"
     ]
    },
    {
     "name": "stdout",
     "output_type": "stream",
     "text": [
      "Average Train Loss: 2.6271; Test Loss: 2.8115;                 Train Accuracy: 0.3988; Test Accuracy: 0.3688;\n"
     ]
    },
    {
     "name": "stderr",
     "output_type": "stream",
     "text": [
      "Epoch 66/500: 100%|███████████████████████████████████████████████████████████████████████████████████████████████████████████████████████████████████████████████████████████████████████████████████████████████████████████████████████████████████████████████████████████| 196/196 [01:08<00:00,  2.86it/s, loss=2.6455, acc_t=0.4062, acc=0.4086]\n"
     ]
    },
    {
     "name": "stdout",
     "output_type": "stream",
     "text": [
      "Average Train Loss: 2.5747; Test Loss: 2.6203;                 Train Accuracy: 0.4086; Test Accuracy: 0.3952;\n"
     ]
    },
    {
     "name": "stderr",
     "output_type": "stream",
     "text": [
      "Epoch 67/500: 100%|███████████████████████████████████████████████████████████████████████████████████████████████████████████████████████████████████████████████████████████████████████████████████████████████████████████████████████████████████████████████████████████| 196/196 [01:08<00:00,  2.85it/s, loss=2.8847, acc_t=0.3563, acc=0.4070]\n"
     ]
    },
    {
     "name": "stdout",
     "output_type": "stream",
     "text": [
      "Average Train Loss: 2.5875; Test Loss: 2.7157;                 Train Accuracy: 0.4070; Test Accuracy: 0.3840;\n"
     ]
    },
    {
     "name": "stderr",
     "output_type": "stream",
     "text": [
      "Epoch 68/500: 100%|███████████████████████████████████████████████████████████████████████████████████████████████████████████████████████████████████████████████████████████████████████████████████████████████████████████████████████████████████████████████████████████| 196/196 [01:08<00:00,  2.86it/s, loss=2.6347, acc_t=0.3937, acc=0.4116]\n"
     ]
    },
    {
     "name": "stdout",
     "output_type": "stream",
     "text": [
      "Average Train Loss: 2.5718; Test Loss: 2.7768;                 Train Accuracy: 0.4116; Test Accuracy: 0.3750;\n"
     ]
    },
    {
     "name": "stderr",
     "output_type": "stream",
     "text": [
      "Epoch 69/500: 100%|███████████████████████████████████████████████████████████████████████████████████████████████████████████████████████████████████████████████████████████████████████████████████████████████████████████████████████████████████████████████████████████| 196/196 [01:08<00:00,  2.86it/s, loss=2.6665, acc_t=0.3812, acc=0.4166]\n"
     ]
    },
    {
     "name": "stdout",
     "output_type": "stream",
     "text": [
      "Average Train Loss: 2.5455; Test Loss: 2.8044;                 Train Accuracy: 0.4166; Test Accuracy: 0.3808;\n"
     ]
    },
    {
     "name": "stderr",
     "output_type": "stream",
     "text": [
      "Epoch 70/500: 100%|███████████████████████████████████████████████████████████████████████████████████████████████████████████████████████████████████████████████████████████████████████████████████████████████████████████████████████████████████████████████████████████| 196/196 [01:08<00:00,  2.85it/s, loss=2.4783, acc_t=0.3750, acc=0.4130]\n"
     ]
    },
    {
     "name": "stdout",
     "output_type": "stream",
     "text": [
      "Average Train Loss: 2.5577; Test Loss: 2.6805;                 Train Accuracy: 0.4130; Test Accuracy: 0.3810;\n"
     ]
    },
    {
     "name": "stderr",
     "output_type": "stream",
     "text": [
      "Epoch 71/500: 100%|███████████████████████████████████████████████████████████████████████████████████████████████████████████████████████████████████████████████████████████████████████████████████████████████████████████████████████████████████████████████████████████| 196/196 [01:08<00:00,  2.85it/s, loss=2.5335, acc_t=0.3875, acc=0.4149]\n"
     ]
    },
    {
     "name": "stdout",
     "output_type": "stream",
     "text": [
      "Average Train Loss: 2.5469; Test Loss: 2.7559;                 Train Accuracy: 0.4149; Test Accuracy: 0.3832;\n"
     ]
    },
    {
     "name": "stderr",
     "output_type": "stream",
     "text": [
      "Epoch 72/500: 100%|███████████████████████████████████████████████████████████████████████████████████████████████████████████████████████████████████████████████████████████████████████████████████████████████████████████████████████████████████████████████████████████| 196/196 [01:08<00:00,  2.86it/s, loss=2.5763, acc_t=0.4250, acc=0.4205]\n"
     ]
    },
    {
     "name": "stdout",
     "output_type": "stream",
     "text": [
      "Average Train Loss: 2.5275; Test Loss: 2.7196;                 Train Accuracy: 0.4205; Test Accuracy: 0.3922;\n"
     ]
    },
    {
     "name": "stderr",
     "output_type": "stream",
     "text": [
      "Epoch 73/500: 100%|███████████████████████████████████████████████████████████████████████████████████████████████████████████████████████████████████████████████████████████████████████████████████████████████████████████████████████████████████████████████████████████| 196/196 [01:08<00:00,  2.85it/s, loss=2.4105, acc_t=0.4375, acc=0.4247]\n"
     ]
    },
    {
     "name": "stdout",
     "output_type": "stream",
     "text": [
      "Average Train Loss: 2.5034; Test Loss: 2.7918;                 Train Accuracy: 0.4247; Test Accuracy: 0.3782;\n"
     ]
    },
    {
     "name": "stderr",
     "output_type": "stream",
     "text": [
      "Epoch 74/500: 100%|███████████████████████████████████████████████████████████████████████████████████████████████████████████████████████████████████████████████████████████████████████████████████████████████████████████████████████████████████████████████████████████| 196/196 [01:08<00:00,  2.85it/s, loss=2.4153, acc_t=0.4437, acc=0.4226]\n"
     ]
    },
    {
     "name": "stdout",
     "output_type": "stream",
     "text": [
      "Average Train Loss: 2.5097; Test Loss: 2.8082;                 Train Accuracy: 0.4226; Test Accuracy: 0.3800;\n"
     ]
    },
    {
     "name": "stderr",
     "output_type": "stream",
     "text": [
      "Epoch 75/500: 100%|███████████████████████████████████████████████████████████████████████████████████████████████████████████████████████████████████████████████████████████████████████████████████████████████████████████████████████████████████████████████████████████| 196/196 [01:08<00:00,  2.86it/s, loss=2.4746, acc_t=0.4000, acc=0.4301]\n"
     ]
    },
    {
     "name": "stdout",
     "output_type": "stream",
     "text": [
      "Average Train Loss: 2.4735; Test Loss: 2.7509;                 Train Accuracy: 0.4301; Test Accuracy: 0.3920;\n"
     ]
    },
    {
     "name": "stderr",
     "output_type": "stream",
     "text": [
      "Epoch 76/500: 100%|███████████████████████████████████████████████████████████████████████████████████████████████████████████████████████████████████████████████████████████████████████████████████████████████████████████████████████████████████████████████████████████| 196/196 [01:08<00:00,  2.86it/s, loss=2.3828, acc_t=0.4500, acc=0.4336]\n"
     ]
    },
    {
     "name": "stdout",
     "output_type": "stream",
     "text": [
      "Average Train Loss: 2.4535; Test Loss: 2.8662;                 Train Accuracy: 0.4336; Test Accuracy: 0.3678;\n"
     ]
    },
    {
     "name": "stderr",
     "output_type": "stream",
     "text": [
      "Epoch 77/500: 100%|███████████████████████████████████████████████████████████████████████████████████████████████████████████████████████████████████████████████████████████████████████████████████████████████████████████████████████████████████████████████████████████| 196/196 [01:08<00:00,  2.85it/s, loss=2.6268, acc_t=0.3625, acc=0.4322]\n"
     ]
    },
    {
     "name": "stdout",
     "output_type": "stream",
     "text": [
      "Average Train Loss: 2.4622; Test Loss: 2.7458;                 Train Accuracy: 0.4322; Test Accuracy: 0.3912;\n"
     ]
    },
    {
     "name": "stderr",
     "output_type": "stream",
     "text": [
      "Epoch 78/500: 100%|███████████████████████████████████████████████████████████████████████████████████████████████████████████████████████████████████████████████████████████████████████████████████████████████████████████████████████████████████████████████████████████| 196/196 [01:08<00:00,  2.84it/s, loss=2.5444, acc_t=0.4437, acc=0.4350]\n"
     ]
    },
    {
     "name": "stdout",
     "output_type": "stream",
     "text": [
      "Average Train Loss: 2.4499; Test Loss: 2.7656;                 Train Accuracy: 0.4350; Test Accuracy: 0.3862;\n"
     ]
    },
    {
     "name": "stderr",
     "output_type": "stream",
     "text": [
      "Epoch 79/500: 100%|███████████████████████████████████████████████████████████████████████████████████████████████████████████████████████████████████████████████████████████████████████████████████████████████████████████████████████████████████████████████████████████| 196/196 [01:09<00:00,  2.84it/s, loss=2.8197, acc_t=0.3750, acc=0.4407]\n"
     ]
    },
    {
     "name": "stdout",
     "output_type": "stream",
     "text": [
      "Average Train Loss: 2.4262; Test Loss: 2.7531;                 Train Accuracy: 0.4407; Test Accuracy: 0.3778;\n"
     ]
    },
    {
     "name": "stderr",
     "output_type": "stream",
     "text": [
      "Epoch 80/500: 100%|███████████████████████████████████████████████████████████████████████████████████████████████████████████████████████████████████████████████████████████████████████████████████████████████████████████████████████████████████████████████████████████| 196/196 [01:08<00:00,  2.86it/s, loss=2.4150, acc_t=0.4625, acc=0.4401]\n"
     ]
    },
    {
     "name": "stdout",
     "output_type": "stream",
     "text": [
      "Average Train Loss: 2.4182; Test Loss: 2.7142;                 Train Accuracy: 0.4401; Test Accuracy: 0.3978;\n"
     ]
    },
    {
     "name": "stderr",
     "output_type": "stream",
     "text": [
      "Epoch 81/500: 100%|███████████████████████████████████████████████████████████████████████████████████████████████████████████████████████████████████████████████████████████████████████████████████████████████████████████████████████████████████████████████████████████| 196/196 [01:08<00:00,  2.85it/s, loss=2.4326, acc_t=0.4437, acc=0.4438]\n"
     ]
    },
    {
     "name": "stdout",
     "output_type": "stream",
     "text": [
      "Average Train Loss: 2.4078; Test Loss: 2.7231;                 Train Accuracy: 0.4438; Test Accuracy: 0.3924;\n"
     ]
    },
    {
     "name": "stderr",
     "output_type": "stream",
     "text": [
      "Epoch 82/500: 100%|███████████████████████████████████████████████████████████████████████████████████████████████████████████████████████████████████████████████████████████████████████████████████████████████████████████████████████████████████████████████████████████| 196/196 [01:08<00:00,  2.84it/s, loss=2.3691, acc_t=0.4875, acc=0.4437]\n"
     ]
    },
    {
     "name": "stdout",
     "output_type": "stream",
     "text": [
      "Average Train Loss: 2.4020; Test Loss: 2.8494;                 Train Accuracy: 0.4437; Test Accuracy: 0.3774;\n"
     ]
    },
    {
     "name": "stderr",
     "output_type": "stream",
     "text": [
      "Epoch 83/500: 100%|███████████████████████████████████████████████████████████████████████████████████████████████████████████████████████████████████████████████████████████████████████████████████████████████████████████████████████████████████████████████████████████| 196/196 [01:08<00:00,  2.86it/s, loss=2.4310, acc_t=0.4313, acc=0.4462]\n"
     ]
    },
    {
     "name": "stdout",
     "output_type": "stream",
     "text": [
      "Average Train Loss: 2.3963; Test Loss: 2.7163;                 Train Accuracy: 0.4462; Test Accuracy: 0.3942;\n"
     ]
    },
    {
     "name": "stderr",
     "output_type": "stream",
     "text": [
      "Epoch 84/500: 100%|███████████████████████████████████████████████████████████████████████████████████████████████████████████████████████████████████████████████████████████████████████████████████████████████████████████████████████████████████████████████████████████| 196/196 [01:08<00:00,  2.84it/s, loss=2.5450, acc_t=0.4188, acc=0.4468]\n"
     ]
    },
    {
     "name": "stdout",
     "output_type": "stream",
     "text": [
      "Average Train Loss: 2.3983; Test Loss: 2.8132;                 Train Accuracy: 0.4468; Test Accuracy: 0.3770;\n"
     ]
    },
    {
     "name": "stderr",
     "output_type": "stream",
     "text": [
      "Epoch 85/500: 100%|███████████████████████████████████████████████████████████████████████████████████████████████████████████████████████████████████████████████████████████████████████████████████████████████████████████████████████████████████████████████████████████| 196/196 [01:08<00:00,  2.85it/s, loss=2.2111, acc_t=0.4250, acc=0.4461]\n"
     ]
    },
    {
     "name": "stdout",
     "output_type": "stream",
     "text": [
      "Average Train Loss: 2.4058; Test Loss: 2.6767;                 Train Accuracy: 0.4461; Test Accuracy: 0.4110;\n"
     ]
    },
    {
     "name": "stderr",
     "output_type": "stream",
     "text": [
      "Epoch 86/500: 100%|███████████████████████████████████████████████████████████████████████████████████████████████████████████████████████████████████████████████████████████████████████████████████████████████████████████████████████████████████████████████████████████| 196/196 [01:08<00:00,  2.84it/s, loss=2.5499, acc_t=0.4250, acc=0.4581]\n"
     ]
    },
    {
     "name": "stdout",
     "output_type": "stream",
     "text": [
      "Average Train Loss: 2.3413; Test Loss: 2.7331;                 Train Accuracy: 0.4581; Test Accuracy: 0.3988;\n"
     ]
    },
    {
     "name": "stderr",
     "output_type": "stream",
     "text": [
      "Epoch 87/500: 100%|███████████████████████████████████████████████████████████████████████████████████████████████████████████████████████████████████████████████████████████████████████████████████████████████████████████████████████████████████████████████████████████| 196/196 [01:08<00:00,  2.85it/s, loss=2.6991, acc_t=0.4062, acc=0.4573]\n"
     ]
    },
    {
     "name": "stdout",
     "output_type": "stream",
     "text": [
      "Average Train Loss: 2.3374; Test Loss: 2.6807;                 Train Accuracy: 0.4573; Test Accuracy: 0.4120;\n"
     ]
    },
    {
     "name": "stderr",
     "output_type": "stream",
     "text": [
      "Epoch 88/500: 100%|███████████████████████████████████████████████████████████████████████████████████████████████████████████████████████████████████████████████████████████████████████████████████████████████████████████████████████████████████████████████████████████| 196/196 [01:08<00:00,  2.85it/s, loss=2.6332, acc_t=0.3875, acc=0.4604]\n"
     ]
    },
    {
     "name": "stdout",
     "output_type": "stream",
     "text": [
      "Average Train Loss: 2.3295; Test Loss: 2.7793;                 Train Accuracy: 0.4604; Test Accuracy: 0.3860;\n"
     ]
    },
    {
     "name": "stderr",
     "output_type": "stream",
     "text": [
      "Epoch 89/500: 100%|███████████████████████████████████████████████████████████████████████████████████████████████████████████████████████████████████████████████████████████████████████████████████████████████████████████████████████████████████████████████████████████| 196/196 [01:08<00:00,  2.86it/s, loss=2.6910, acc_t=0.3688, acc=0.4612]\n"
     ]
    },
    {
     "name": "stdout",
     "output_type": "stream",
     "text": [
      "Average Train Loss: 2.3313; Test Loss: 2.6927;                 Train Accuracy: 0.4612; Test Accuracy: 0.3924;\n"
     ]
    },
    {
     "name": "stderr",
     "output_type": "stream",
     "text": [
      "Epoch 90/500: 100%|███████████████████████████████████████████████████████████████████████████████████████████████████████████████████████████████████████████████████████████████████████████████████████████████████████████████████████████████████████████████████████████| 196/196 [01:08<00:00,  2.86it/s, loss=2.3825, acc_t=0.4562, acc=0.4590]\n"
     ]
    },
    {
     "name": "stdout",
     "output_type": "stream",
     "text": [
      "Average Train Loss: 2.3318; Test Loss: 2.7009;                 Train Accuracy: 0.4590; Test Accuracy: 0.3998;\n"
     ]
    },
    {
     "name": "stderr",
     "output_type": "stream",
     "text": [
      "Epoch 91/500: 100%|███████████████████████████████████████████████████████████████████████████████████████████████████████████████████████████████████████████████████████████████████████████████████████████████████████████████████████████████████████████████████████████| 196/196 [01:08<00:00,  2.86it/s, loss=2.5793, acc_t=0.4375, acc=0.4631]\n"
     ]
    },
    {
     "name": "stdout",
     "output_type": "stream",
     "text": [
      "Average Train Loss: 2.3127; Test Loss: 2.7330;                 Train Accuracy: 0.4631; Test Accuracy: 0.3968;\n"
     ]
    },
    {
     "name": "stderr",
     "output_type": "stream",
     "text": [
      "Epoch 92/500: 100%|███████████████████████████████████████████████████████████████████████████████████████████████████████████████████████████████████████████████████████████████████████████████████████████████████████████████████████████████████████████████████████████| 196/196 [01:09<00:00,  2.84it/s, loss=2.2389, acc_t=0.4938, acc=0.4656]\n"
     ]
    },
    {
     "name": "stdout",
     "output_type": "stream",
     "text": [
      "Average Train Loss: 2.3106; Test Loss: 2.6945;                 Train Accuracy: 0.4656; Test Accuracy: 0.3988;\n"
     ]
    },
    {
     "name": "stderr",
     "output_type": "stream",
     "text": [
      "Epoch 93/500: 100%|███████████████████████████████████████████████████████████████████████████████████████████████████████████████████████████████████████████████████████████████████████████████████████████████████████████████████████████████████████████████████████████| 196/196 [01:08<00:00,  2.85it/s, loss=2.3491, acc_t=0.4500, acc=0.4684]\n"
     ]
    },
    {
     "name": "stdout",
     "output_type": "stream",
     "text": [
      "Average Train Loss: 2.2901; Test Loss: 2.7104;                 Train Accuracy: 0.4684; Test Accuracy: 0.3996;\n"
     ]
    },
    {
     "name": "stderr",
     "output_type": "stream",
     "text": [
      "Epoch 94/500: 100%|███████████████████████████████████████████████████████████████████████████████████████████████████████████████████████████████████████████████████████████████████████████████████████████████████████████████████████████████████████████████████████████| 196/196 [01:08<00:00,  2.86it/s, loss=2.4993, acc_t=0.4500, acc=0.4694]\n"
     ]
    },
    {
     "name": "stdout",
     "output_type": "stream",
     "text": [
      "Average Train Loss: 2.2839; Test Loss: 2.7157;                 Train Accuracy: 0.4694; Test Accuracy: 0.4056;\n"
     ]
    },
    {
     "name": "stderr",
     "output_type": "stream",
     "text": [
      "Epoch 95/500: 100%|███████████████████████████████████████████████████████████████████████████████████████████████████████████████████████████████████████████████████████████████████████████████████████████████████████████████████████████████████████████████████████████| 196/196 [01:08<00:00,  2.85it/s, loss=2.4277, acc_t=0.4562, acc=0.4703]\n"
     ]
    },
    {
     "name": "stdout",
     "output_type": "stream",
     "text": [
      "Average Train Loss: 2.2759; Test Loss: 2.7231;                 Train Accuracy: 0.4703; Test Accuracy: 0.4006;\n"
     ]
    },
    {
     "name": "stderr",
     "output_type": "stream",
     "text": [
      "Epoch 96/500: 100%|███████████████████████████████████████████████████████████████████████████████████████████████████████████████████████████████████████████████████████████████████████████████████████████████████████████████████████████████████████████████████████████| 196/196 [01:09<00:00,  2.84it/s, loss=2.2646, acc_t=0.4750, acc=0.4739]\n"
     ]
    },
    {
     "name": "stdout",
     "output_type": "stream",
     "text": [
      "Average Train Loss: 2.2656; Test Loss: 2.7953;                 Train Accuracy: 0.4739; Test Accuracy: 0.3916;\n"
     ]
    },
    {
     "name": "stderr",
     "output_type": "stream",
     "text": [
      "Epoch 97/500: 100%|███████████████████████████████████████████████████████████████████████████████████████████████████████████████████████████████████████████████████████████████████████████████████████████████████████████████████████████████████████████████████████████| 196/196 [01:08<00:00,  2.85it/s, loss=2.1657, acc_t=0.4750, acc=0.4749]\n"
     ]
    },
    {
     "name": "stdout",
     "output_type": "stream",
     "text": [
      "Average Train Loss: 2.2636; Test Loss: 2.6926;                 Train Accuracy: 0.4749; Test Accuracy: 0.4046;\n"
     ]
    },
    {
     "name": "stderr",
     "output_type": "stream",
     "text": [
      "Epoch 98/500: 100%|███████████████████████████████████████████████████████████████████████████████████████████████████████████████████████████████████████████████████████████████████████████████████████████████████████████████████████████████████████████████████████████| 196/196 [01:08<00:00,  2.84it/s, loss=2.2601, acc_t=0.4688, acc=0.4772]\n"
     ]
    },
    {
     "name": "stdout",
     "output_type": "stream",
     "text": [
      "Average Train Loss: 2.2554; Test Loss: 2.7265;                 Train Accuracy: 0.4772; Test Accuracy: 0.3868;\n"
     ]
    },
    {
     "name": "stderr",
     "output_type": "stream",
     "text": [
      "Epoch 99/500: 100%|███████████████████████████████████████████████████████████████████████████████████████████████████████████████████████████████████████████████████████████████████████████████████████████████████████████████████████████████████████████████████████████| 196/196 [01:08<00:00,  2.86it/s, loss=2.5445, acc_t=0.3750, acc=0.4754]\n"
     ]
    },
    {
     "name": "stdout",
     "output_type": "stream",
     "text": [
      "Average Train Loss: 2.2559; Test Loss: 2.8342;                 Train Accuracy: 0.4754; Test Accuracy: 0.3826;\n"
     ]
    },
    {
     "name": "stderr",
     "output_type": "stream",
     "text": [
      "Epoch 100/500: 100%|██████████████████████████████████████████████████████████████████████████████████████████████████████████████████████████████████████████████████████████████████████████████████████████████████████████████████████████████████████████████████████████| 196/196 [01:08<00:00,  2.85it/s, loss=2.7664, acc_t=0.3937, acc=0.4798]\n"
     ]
    },
    {
     "name": "stdout",
     "output_type": "stream",
     "text": [
      "Average Train Loss: 2.2430; Test Loss: 2.7713;                 Train Accuracy: 0.4798; Test Accuracy: 0.3972;\n"
     ]
    },
    {
     "name": "stderr",
     "output_type": "stream",
     "text": [
      "Epoch 101/500: 100%|██████████████████████████████████████████████████████████████████████████████████████████████████████████████████████████████████████████████████████████████████████████████████████████████████████████████████████████████████████████████████████████| 196/196 [01:09<00:00,  2.84it/s, loss=2.1617, acc_t=0.4938, acc=0.4794]\n"
     ]
    },
    {
     "name": "stdout",
     "output_type": "stream",
     "text": [
      "Average Train Loss: 2.2369; Test Loss: 2.8265;                 Train Accuracy: 0.4794; Test Accuracy: 0.4036;\n"
     ]
    },
    {
     "name": "stderr",
     "output_type": "stream",
     "text": [
      "Epoch 102/500: 100%|██████████████████████████████████████████████████████████████████████████████████████████████████████████████████████████████████████████████████████████████████████████████████████████████████████████████████████████████████████████████████████████| 196/196 [01:08<00:00,  2.84it/s, loss=2.3753, acc_t=0.4750, acc=0.4842]\n"
     ]
    },
    {
     "name": "stdout",
     "output_type": "stream",
     "text": [
      "Average Train Loss: 2.2142; Test Loss: 2.8528;                 Train Accuracy: 0.4842; Test Accuracy: 0.3928;\n"
     ]
    },
    {
     "name": "stderr",
     "output_type": "stream",
     "text": [
      "Epoch 103/500: 100%|██████████████████████████████████████████████████████████████████████████████████████████████████████████████████████████████████████████████████████████████████████████████████████████████████████████████████████████████████████████████████████████| 196/196 [01:08<00:00,  2.86it/s, loss=2.5312, acc_t=0.4375, acc=0.4849]\n"
     ]
    },
    {
     "name": "stdout",
     "output_type": "stream",
     "text": [
      "Average Train Loss: 2.2084; Test Loss: 2.7505;                 Train Accuracy: 0.4849; Test Accuracy: 0.4096;\n"
     ]
    },
    {
     "name": "stderr",
     "output_type": "stream",
     "text": [
      "Epoch 104/500: 100%|██████████████████████████████████████████████████████████████████████████████████████████████████████████████████████████████████████████████████████████████████████████████████████████████████████████████████████████████████████████████████████████| 196/196 [01:08<00:00,  2.86it/s, loss=1.8684, acc_t=0.5563, acc=0.4844]\n"
     ]
    },
    {
     "name": "stdout",
     "output_type": "stream",
     "text": [
      "Average Train Loss: 2.2092; Test Loss: 2.7637;                 Train Accuracy: 0.4844; Test Accuracy: 0.4012;\n"
     ]
    },
    {
     "name": "stderr",
     "output_type": "stream",
     "text": [
      "Epoch 105/500: 100%|██████████████████████████████████████████████████████████████████████████████████████████████████████████████████████████████████████████████████████████████████████████████████████████████████████████████████████████████████████████████████████████| 196/196 [01:08<00:00,  2.86it/s, loss=2.3783, acc_t=0.4562, acc=0.4875]\n"
     ]
    },
    {
     "name": "stdout",
     "output_type": "stream",
     "text": [
      "Average Train Loss: 2.1965; Test Loss: 2.7065;                 Train Accuracy: 0.4875; Test Accuracy: 0.4082;\n"
     ]
    },
    {
     "name": "stderr",
     "output_type": "stream",
     "text": [
      "Epoch 106/500: 100%|██████████████████████████████████████████████████████████████████████████████████████████████████████████████████████████████████████████████████████████████████████████████████████████████████████████████████████████████████████████████████████████| 196/196 [01:08<00:00,  2.86it/s, loss=2.0889, acc_t=0.5000, acc=0.4921]\n"
     ]
    },
    {
     "name": "stdout",
     "output_type": "stream",
     "text": [
      "Average Train Loss: 2.1710; Test Loss: 2.7681;                 Train Accuracy: 0.4921; Test Accuracy: 0.4026;\n"
     ]
    },
    {
     "name": "stderr",
     "output_type": "stream",
     "text": [
      "Epoch 107/500: 100%|██████████████████████████████████████████████████████████████████████████████████████████████████████████████████████████████████████████████████████████████████████████████████████████████████████████████████████████████████████████████████████████| 196/196 [01:08<00:00,  2.85it/s, loss=2.3547, acc_t=0.4813, acc=0.4892]\n"
     ]
    },
    {
     "name": "stdout",
     "output_type": "stream",
     "text": [
      "Average Train Loss: 2.1881; Test Loss: 2.6859;                 Train Accuracy: 0.4892; Test Accuracy: 0.4164;\n"
     ]
    },
    {
     "name": "stderr",
     "output_type": "stream",
     "text": [
      "Epoch 108/500: 100%|██████████████████████████████████████████████████████████████████████████████████████████████████████████████████████████████████████████████████████████████████████████████████████████████████████████████████████████████████████████████████████████| 196/196 [01:08<00:00,  2.84it/s, loss=2.0693, acc_t=0.5000, acc=0.4865]\n"
     ]
    },
    {
     "name": "stdout",
     "output_type": "stream",
     "text": [
      "Average Train Loss: 2.2109; Test Loss: 2.7980;                 Train Accuracy: 0.4865; Test Accuracy: 0.3966;\n"
     ]
    },
    {
     "name": "stderr",
     "output_type": "stream",
     "text": [
      "Epoch 109/500: 100%|██████████████████████████████████████████████████████████████████████████████████████████████████████████████████████████████████████████████████████████████████████████████████████████████████████████████████████████████████████████████████████████| 196/196 [01:08<00:00,  2.85it/s, loss=2.0899, acc_t=0.4625, acc=0.4941]\n"
     ]
    },
    {
     "name": "stdout",
     "output_type": "stream",
     "text": [
      "Average Train Loss: 2.1708; Test Loss: 2.7658;                 Train Accuracy: 0.4941; Test Accuracy: 0.4030;\n"
     ]
    },
    {
     "name": "stderr",
     "output_type": "stream",
     "text": [
      "Epoch 110/500: 100%|██████████████████████████████████████████████████████████████████████████████████████████████████████████████████████████████████████████████████████████████████████████████████████████████████████████████████████████████████████████████████████████| 196/196 [01:08<00:00,  2.86it/s, loss=2.5272, acc_t=0.3937, acc=0.4954]\n"
     ]
    },
    {
     "name": "stdout",
     "output_type": "stream",
     "text": [
      "Average Train Loss: 2.1580; Test Loss: 2.7809;                 Train Accuracy: 0.4954; Test Accuracy: 0.4038;\n"
     ]
    },
    {
     "name": "stderr",
     "output_type": "stream",
     "text": [
      "Epoch 111/500: 100%|██████████████████████████████████████████████████████████████████████████████████████████████████████████████████████████████████████████████████████████████████████████████████████████████████████████████████████████████████████████████████████████| 196/196 [01:08<00:00,  2.85it/s, loss=2.2143, acc_t=0.5062, acc=0.4948]\n"
     ]
    },
    {
     "name": "stdout",
     "output_type": "stream",
     "text": [
      "Average Train Loss: 2.1672; Test Loss: 2.7607;                 Train Accuracy: 0.4948; Test Accuracy: 0.4022;\n"
     ]
    },
    {
     "name": "stderr",
     "output_type": "stream",
     "text": [
      "Epoch 112/500: 100%|██████████████████████████████████████████████████████████████████████████████████████████████████████████████████████████████████████████████████████████████████████████████████████████████████████████████████████████████████████████████████████████| 196/196 [01:08<00:00,  2.85it/s, loss=2.4975, acc_t=0.4375, acc=0.5039]\n"
     ]
    },
    {
     "name": "stdout",
     "output_type": "stream",
     "text": [
      "Average Train Loss: 2.1232; Test Loss: 2.8127;                 Train Accuracy: 0.5039; Test Accuracy: 0.3984;\n"
     ]
    },
    {
     "name": "stderr",
     "output_type": "stream",
     "text": [
      "Epoch 113/500: 100%|██████████████████████████████████████████████████████████████████████████████████████████████████████████████████████████████████████████████████████████████████████████████████████████████████████████████████████████████████████████████████████████| 196/196 [01:08<00:00,  2.85it/s, loss=2.2992, acc_t=0.4938, acc=0.5025]\n"
     ]
    },
    {
     "name": "stdout",
     "output_type": "stream",
     "text": [
      "Average Train Loss: 2.1308; Test Loss: 2.7793;                 Train Accuracy: 0.5025; Test Accuracy: 0.4100;\n"
     ]
    },
    {
     "name": "stderr",
     "output_type": "stream",
     "text": [
      "Epoch 114/500: 100%|██████████████████████████████████████████████████████████████████████████████████████████████████████████████████████████████████████████████████████████████████████████████████████████████████████████████████████████████████████████████████████████| 196/196 [01:08<00:00,  2.85it/s, loss=2.2109, acc_t=0.4750, acc=0.5000]\n"
     ]
    },
    {
     "name": "stdout",
     "output_type": "stream",
     "text": [
      "Average Train Loss: 2.1278; Test Loss: 2.7636;                 Train Accuracy: 0.5000; Test Accuracy: 0.4022;\n"
     ]
    },
    {
     "name": "stderr",
     "output_type": "stream",
     "text": [
      "Epoch 115/500: 100%|██████████████████████████████████████████████████████████████████████████████████████████████████████████████████████████████████████████████████████████████████████████████████████████████████████████████████████████████████████████████████████████| 196/196 [01:08<00:00,  2.86it/s, loss=1.9970, acc_t=0.5062, acc=0.5050]\n"
     ]
    },
    {
     "name": "stdout",
     "output_type": "stream",
     "text": [
      "Average Train Loss: 2.1209; Test Loss: 2.7488;                 Train Accuracy: 0.5050; Test Accuracy: 0.4100;\n"
     ]
    },
    {
     "name": "stderr",
     "output_type": "stream",
     "text": [
      "Epoch 116/500: 100%|██████████████████████████████████████████████████████████████████████████████████████████████████████████████████████████████████████████████████████████████████████████████████████████████████████████████████████████████████████████████████████████| 196/196 [01:08<00:00,  2.86it/s, loss=2.3081, acc_t=0.4313, acc=0.5078]\n"
     ]
    },
    {
     "name": "stdout",
     "output_type": "stream",
     "text": [
      "Average Train Loss: 2.1093; Test Loss: 2.7421;                 Train Accuracy: 0.5078; Test Accuracy: 0.4044;\n"
     ]
    },
    {
     "name": "stderr",
     "output_type": "stream",
     "text": [
      "Epoch 117/500: 100%|██████████████████████████████████████████████████████████████████████████████████████████████████████████████████████████████████████████████████████████████████████████████████████████████████████████████████████████████████████████████████████████| 196/196 [01:08<00:00,  2.86it/s, loss=2.0852, acc_t=0.4688, acc=0.5087]\n"
     ]
    },
    {
     "name": "stdout",
     "output_type": "stream",
     "text": [
      "Average Train Loss: 2.0986; Test Loss: 2.8037;                 Train Accuracy: 0.5087; Test Accuracy: 0.4024;\n"
     ]
    },
    {
     "name": "stderr",
     "output_type": "stream",
     "text": [
      "Epoch 118/500: 100%|██████████████████████████████████████████████████████████████████████████████████████████████████████████████████████████████████████████████████████████████████████████████████████████████████████████████████████████████████████████████████████████| 196/196 [01:08<00:00,  2.86it/s, loss=1.9282, acc_t=0.5500, acc=0.5081]\n"
     ]
    },
    {
     "name": "stdout",
     "output_type": "stream",
     "text": [
      "Average Train Loss: 2.0940; Test Loss: 2.7727;                 Train Accuracy: 0.5081; Test Accuracy: 0.4120;\n"
     ]
    },
    {
     "name": "stderr",
     "output_type": "stream",
     "text": [
      "Epoch 119/500: 100%|██████████████████████████████████████████████████████████████████████████████████████████████████████████████████████████████████████████████████████████████████████████████████████████████████████████████████████████████████████████████████████████| 196/196 [01:08<00:00,  2.86it/s, loss=2.2824, acc_t=0.5000, acc=0.5117]\n"
     ]
    },
    {
     "name": "stdout",
     "output_type": "stream",
     "text": [
      "Average Train Loss: 2.0958; Test Loss: 2.7232;                 Train Accuracy: 0.5117; Test Accuracy: 0.4140;\n"
     ]
    },
    {
     "name": "stderr",
     "output_type": "stream",
     "text": [
      "Epoch 120/500: 100%|██████████████████████████████████████████████████████████████████████████████████████████████████████████████████████████████████████████████████████████████████████████████████████████████████████████████████████████████████████████████████████████| 196/196 [01:08<00:00,  2.85it/s, loss=1.8914, acc_t=0.5563, acc=0.5073]\n"
     ]
    },
    {
     "name": "stdout",
     "output_type": "stream",
     "text": [
      "Average Train Loss: 2.1094; Test Loss: 2.8582;                 Train Accuracy: 0.5073; Test Accuracy: 0.3940;\n"
     ]
    },
    {
     "name": "stderr",
     "output_type": "stream",
     "text": [
      "Epoch 121/500: 100%|██████████████████████████████████████████████████████████████████████████████████████████████████████████████████████████████████████████████████████████████████████████████████████████████████████████████████████████████████████████████████████████| 196/196 [01:08<00:00,  2.85it/s, loss=2.2180, acc_t=0.5000, acc=0.5164]\n"
     ]
    },
    {
     "name": "stdout",
     "output_type": "stream",
     "text": [
      "Average Train Loss: 2.0684; Test Loss: 2.7854;                 Train Accuracy: 0.5164; Test Accuracy: 0.4098;\n"
     ]
    },
    {
     "name": "stderr",
     "output_type": "stream",
     "text": [
      "Epoch 122/500: 100%|██████████████████████████████████████████████████████████████████████████████████████████████████████████████████████████████████████████████████████████████████████████████████████████████████████████████████████████████████████████████████████████| 196/196 [01:08<00:00,  2.86it/s, loss=2.2413, acc_t=0.4813, acc=0.5132]\n"
     ]
    },
    {
     "name": "stdout",
     "output_type": "stream",
     "text": [
      "Average Train Loss: 2.0783; Test Loss: 2.8039;                 Train Accuracy: 0.5132; Test Accuracy: 0.3984;\n"
     ]
    },
    {
     "name": "stderr",
     "output_type": "stream",
     "text": [
      "Epoch 123/500: 100%|██████████████████████████████████████████████████████████████████████████████████████████████████████████████████████████████████████████████████████████████████████████████████████████████████████████████████████████████████████████████████████████| 196/196 [01:08<00:00,  2.86it/s, loss=2.3545, acc_t=0.4813, acc=0.5145]\n"
     ]
    },
    {
     "name": "stdout",
     "output_type": "stream",
     "text": [
      "Average Train Loss: 2.0802; Test Loss: 2.7711;                 Train Accuracy: 0.5145; Test Accuracy: 0.4154;\n"
     ]
    },
    {
     "name": "stderr",
     "output_type": "stream",
     "text": [
      "Epoch 124/500: 100%|██████████████████████████████████████████████████████████████████████████████████████████████████████████████████████████████████████████████████████████████████████████████████████████████████████████████████████████████████████████████████████████| 196/196 [01:08<00:00,  2.86it/s, loss=2.0028, acc_t=0.5000, acc=0.5164]\n"
     ]
    },
    {
     "name": "stdout",
     "output_type": "stream",
     "text": [
      "Average Train Loss: 2.0723; Test Loss: 2.7868;                 Train Accuracy: 0.5164; Test Accuracy: 0.4054;\n"
     ]
    },
    {
     "name": "stderr",
     "output_type": "stream",
     "text": [
      "Epoch 125/500: 100%|██████████████████████████████████████████████████████████████████████████████████████████████████████████████████████████████████████████████████████████████████████████████████████████████████████████████████████████████████████████████████████████| 196/196 [01:08<00:00,  2.87it/s, loss=2.2128, acc_t=0.5062, acc=0.5157]\n"
     ]
    },
    {
     "name": "stdout",
     "output_type": "stream",
     "text": [
      "Average Train Loss: 2.0663; Test Loss: 2.7242;                 Train Accuracy: 0.5157; Test Accuracy: 0.4130;\n"
     ]
    },
    {
     "name": "stderr",
     "output_type": "stream",
     "text": [
      "Epoch 126/500: 100%|██████████████████████████████████████████████████████████████████████████████████████████████████████████████████████████████████████████████████████████████████████████████████████████████████████████████████████████████████████████████████████████| 196/196 [01:08<00:00,  2.85it/s, loss=2.3339, acc_t=0.4250, acc=0.5170]\n"
     ]
    },
    {
     "name": "stdout",
     "output_type": "stream",
     "text": [
      "Average Train Loss: 2.0635; Test Loss: 2.7568;                 Train Accuracy: 0.5170; Test Accuracy: 0.4100;\n"
     ]
    },
    {
     "name": "stderr",
     "output_type": "stream",
     "text": [
      "Epoch 127/500: 100%|██████████████████████████████████████████████████████████████████████████████████████████████████████████████████████████████████████████████████████████████████████████████████████████████████████████████████████████████████████████████████████████| 196/196 [01:08<00:00,  2.87it/s, loss=1.9651, acc_t=0.5312, acc=0.5220]\n"
     ]
    },
    {
     "name": "stdout",
     "output_type": "stream",
     "text": [
      "Average Train Loss: 2.0372; Test Loss: 2.7285;                 Train Accuracy: 0.5220; Test Accuracy: 0.4118;\n"
     ]
    },
    {
     "name": "stderr",
     "output_type": "stream",
     "text": [
      "Epoch 128/500: 100%|██████████████████████████████████████████████████████████████████████████████████████████████████████████████████████████████████████████████████████████████████████████████████████████████████████████████████████████████████████████████████████████| 196/196 [01:08<00:00,  2.85it/s, loss=2.2766, acc_t=0.4688, acc=0.5255]\n"
     ]
    },
    {
     "name": "stdout",
     "output_type": "stream",
     "text": [
      "Average Train Loss: 2.0292; Test Loss: 2.7561;                 Train Accuracy: 0.5255; Test Accuracy: 0.3986;\n"
     ]
    },
    {
     "name": "stderr",
     "output_type": "stream",
     "text": [
      "Epoch 129/500: 100%|██████████████████████████████████████████████████████████████████████████████████████████████████████████████████████████████████████████████████████████████████████████████████████████████████████████████████████████████████████████████████████████| 196/196 [01:08<00:00,  2.85it/s, loss=2.2541, acc_t=0.4562, acc=0.5252]\n"
     ]
    },
    {
     "name": "stdout",
     "output_type": "stream",
     "text": [
      "Average Train Loss: 2.0284; Test Loss: 2.8295;                 Train Accuracy: 0.5252; Test Accuracy: 0.4100;\n"
     ]
    },
    {
     "name": "stderr",
     "output_type": "stream",
     "text": [
      "Epoch 130/500: 100%|██████████████████████████████████████████████████████████████████████████████████████████████████████████████████████████████████████████████████████████████████████████████████████████████████████████████████████████████████████████████████████████| 196/196 [01:08<00:00,  2.86it/s, loss=1.9854, acc_t=0.5625, acc=0.5268]\n"
     ]
    },
    {
     "name": "stdout",
     "output_type": "stream",
     "text": [
      "Average Train Loss: 2.0156; Test Loss: 2.8398;                 Train Accuracy: 0.5268; Test Accuracy: 0.3988;\n"
     ]
    },
    {
     "name": "stderr",
     "output_type": "stream",
     "text": [
      "Epoch 131/500: 100%|██████████████████████████████████████████████████████████████████████████████████████████████████████████████████████████████████████████████████████████████████████████████████████████████████████████████████████████████████████████████████████████| 196/196 [01:08<00:00,  2.85it/s, loss=2.4634, acc_t=0.4500, acc=0.5267]\n"
     ]
    },
    {
     "name": "stdout",
     "output_type": "stream",
     "text": [
      "Average Train Loss: 2.0221; Test Loss: 2.8705;                 Train Accuracy: 0.5267; Test Accuracy: 0.4044;\n"
     ]
    },
    {
     "name": "stderr",
     "output_type": "stream",
     "text": [
      "Epoch 132/500: 100%|██████████████████████████████████████████████████████████████████████████████████████████████████████████████████████████████████████████████████████████████████████████████████████████████████████████████████████████████████████████████████████████| 196/196 [01:08<00:00,  2.86it/s, loss=2.3469, acc_t=0.4875, acc=0.5290]\n"
     ]
    },
    {
     "name": "stdout",
     "output_type": "stream",
     "text": [
      "Average Train Loss: 2.0252; Test Loss: 2.8831;                 Train Accuracy: 0.5290; Test Accuracy: 0.3988;\n"
     ]
    },
    {
     "name": "stderr",
     "output_type": "stream",
     "text": [
      "Epoch 133/500: 100%|██████████████████████████████████████████████████████████████████████████████████████████████████████████████████████████████████████████████████████████████████████████████████████████████████████████████████████████████████████████████████████████| 196/196 [01:08<00:00,  2.87it/s, loss=2.1919, acc_t=0.4938, acc=0.5302]\n"
     ]
    },
    {
     "name": "stdout",
     "output_type": "stream",
     "text": [
      "Average Train Loss: 2.0076; Test Loss: 2.7734;                 Train Accuracy: 0.5302; Test Accuracy: 0.4154;\n"
     ]
    },
    {
     "name": "stderr",
     "output_type": "stream",
     "text": [
      "Epoch 134/500: 100%|██████████████████████████████████████████████████████████████████████████████████████████████████████████████████████████████████████████████████████████████████████████████████████████████████████████████████████████████████████████████████████████| 196/196 [01:08<00:00,  2.84it/s, loss=2.1319, acc_t=0.5375, acc=0.5284]\n"
     ]
    },
    {
     "name": "stdout",
     "output_type": "stream",
     "text": [
      "Average Train Loss: 2.0120; Test Loss: 2.7797;                 Train Accuracy: 0.5284; Test Accuracy: 0.4104;\n"
     ]
    },
    {
     "name": "stderr",
     "output_type": "stream",
     "text": [
      "Epoch 135/500: 100%|██████████████████████████████████████████████████████████████████████████████████████████████████████████████████████████████████████████████████████████████████████████████████████████████████████████████████████████████████████████████████████████| 196/196 [01:08<00:00,  2.86it/s, loss=2.3071, acc_t=0.4875, acc=0.5319]\n"
     ]
    },
    {
     "name": "stdout",
     "output_type": "stream",
     "text": [
      "Average Train Loss: 1.9967; Test Loss: 2.7431;                 Train Accuracy: 0.5319; Test Accuracy: 0.4210;\n"
     ]
    },
    {
     "name": "stderr",
     "output_type": "stream",
     "text": [
      "Epoch 136/500: 100%|██████████████████████████████████████████████████████████████████████████████████████████████████████████████████████████████████████████████████████████████████████████████████████████████████████████████████████████████████████████████████████████| 196/196 [01:08<00:00,  2.86it/s, loss=2.0689, acc_t=0.5250, acc=0.5370]\n"
     ]
    },
    {
     "name": "stdout",
     "output_type": "stream",
     "text": [
      "Average Train Loss: 1.9727; Test Loss: 2.8333;                 Train Accuracy: 0.5370; Test Accuracy: 0.4172;\n"
     ]
    },
    {
     "name": "stderr",
     "output_type": "stream",
     "text": [
      "Epoch 137/500: 100%|██████████████████████████████████████████████████████████████████████████████████████████████████████████████████████████████████████████████████████████████████████████████████████████████████████████████████████████████████████████████████████████| 196/196 [01:08<00:00,  2.86it/s, loss=1.9391, acc_t=0.5500, acc=0.5284]\n"
     ]
    },
    {
     "name": "stdout",
     "output_type": "stream",
     "text": [
      "Average Train Loss: 2.0169; Test Loss: 2.9363;                 Train Accuracy: 0.5284; Test Accuracy: 0.3944;\n"
     ]
    },
    {
     "name": "stderr",
     "output_type": "stream",
     "text": [
      "Epoch 138/500: 100%|██████████████████████████████████████████████████████████████████████████████████████████████████████████████████████████████████████████████████████████████████████████████████████████████████████████████████████████████████████████████████████████| 196/196 [01:08<00:00,  2.85it/s, loss=2.2848, acc_t=0.4750, acc=0.5351]\n"
     ]
    },
    {
     "name": "stdout",
     "output_type": "stream",
     "text": [
      "Average Train Loss: 1.9838; Test Loss: 2.7860;                 Train Accuracy: 0.5351; Test Accuracy: 0.4164;\n"
     ]
    },
    {
     "name": "stderr",
     "output_type": "stream",
     "text": [
      "Epoch 139/500: 100%|██████████████████████████████████████████████████████████████████████████████████████████████████████████████████████████████████████████████████████████████████████████████████████████████████████████████████████████████████████████████████████████| 196/196 [01:08<00:00,  2.88it/s, loss=2.1130, acc_t=0.5563, acc=0.5360]\n"
     ]
    },
    {
     "name": "stdout",
     "output_type": "stream",
     "text": [
      "Average Train Loss: 1.9758; Test Loss: 2.7604;                 Train Accuracy: 0.5360; Test Accuracy: 0.4134;\n"
     ]
    },
    {
     "name": "stderr",
     "output_type": "stream",
     "text": [
      "Epoch 140/500: 100%|██████████████████████████████████████████████████████████████████████████████████████████████████████████████████████████████████████████████████████████████████████████████████████████████████████████████████████████████████████████████████████████| 196/196 [01:08<00:00,  2.87it/s, loss=2.0860, acc_t=0.5625, acc=0.5370]\n"
     ]
    },
    {
     "name": "stdout",
     "output_type": "stream",
     "text": [
      "Average Train Loss: 1.9730; Test Loss: 2.7767;                 Train Accuracy: 0.5370; Test Accuracy: 0.4214;\n"
     ]
    },
    {
     "name": "stderr",
     "output_type": "stream",
     "text": [
      "Epoch 141/500: 100%|██████████████████████████████████████████████████████████████████████████████████████████████████████████████████████████████████████████████████████████████████████████████████████████████████████████████████████████████████████████████████████████| 196/196 [01:08<00:00,  2.87it/s, loss=1.7843, acc_t=0.5437, acc=0.5396]\n"
     ]
    },
    {
     "name": "stdout",
     "output_type": "stream",
     "text": [
      "Average Train Loss: 1.9613; Test Loss: 2.8280;                 Train Accuracy: 0.5396; Test Accuracy: 0.4122;\n"
     ]
    },
    {
     "name": "stderr",
     "output_type": "stream",
     "text": [
      "Epoch 142/500: 100%|██████████████████████████████████████████████████████████████████████████████████████████████████████████████████████████████████████████████████████████████████████████████████████████████████████████████████████████████████████████████████████████| 196/196 [01:08<00:00,  2.86it/s, loss=2.0617, acc_t=0.5437, acc=0.5404]\n"
     ]
    },
    {
     "name": "stdout",
     "output_type": "stream",
     "text": [
      "Average Train Loss: 1.9613; Test Loss: 2.8073;                 Train Accuracy: 0.5404; Test Accuracy: 0.4028;\n"
     ]
    },
    {
     "name": "stderr",
     "output_type": "stream",
     "text": [
      "Epoch 143/500: 100%|██████████████████████████████████████████████████████████████████████████████████████████████████████████████████████████████████████████████████████████████████████████████████████████████████████████████████████████████████████████████████████████| 196/196 [01:08<00:00,  2.87it/s, loss=2.2244, acc_t=0.5188, acc=0.5387]\n"
     ]
    },
    {
     "name": "stdout",
     "output_type": "stream",
     "text": [
      "Average Train Loss: 1.9711; Test Loss: 2.7897;                 Train Accuracy: 0.5387; Test Accuracy: 0.4120;\n"
     ]
    },
    {
     "name": "stderr",
     "output_type": "stream",
     "text": [
      "Epoch 144/500: 100%|██████████████████████████████████████████████████████████████████████████████████████████████████████████████████████████████████████████████████████████████████████████████████████████████████████████████████████████████████████████████████████████| 196/196 [01:08<00:00,  2.87it/s, loss=2.0729, acc_t=0.5250, acc=0.5373]\n"
     ]
    },
    {
     "name": "stdout",
     "output_type": "stream",
     "text": [
      "Average Train Loss: 1.9740; Test Loss: 2.9303;                 Train Accuracy: 0.5373; Test Accuracy: 0.4012;\n"
     ]
    },
    {
     "name": "stderr",
     "output_type": "stream",
     "text": [
      "Epoch 145/500: 100%|██████████████████████████████████████████████████████████████████████████████████████████████████████████████████████████████████████████████████████████████████████████████████████████████████████████████████████████████████████████████████████████| 196/196 [01:08<00:00,  2.86it/s, loss=1.8406, acc_t=0.5500, acc=0.5407]\n"
     ]
    },
    {
     "name": "stdout",
     "output_type": "stream",
     "text": [
      "Average Train Loss: 1.9597; Test Loss: 2.7904;                 Train Accuracy: 0.5407; Test Accuracy: 0.4124;\n"
     ]
    },
    {
     "name": "stderr",
     "output_type": "stream",
     "text": [
      "Epoch 146/500: 100%|██████████████████████████████████████████████████████████████████████████████████████████████████████████████████████████████████████████████████████████████████████████████████████████████████████████████████████████████████████████████████████████| 196/196 [01:08<00:00,  2.86it/s, loss=1.8893, acc_t=0.5375, acc=0.5438]\n"
     ]
    },
    {
     "name": "stdout",
     "output_type": "stream",
     "text": [
      "Average Train Loss: 1.9459; Test Loss: 2.7830;                 Train Accuracy: 0.5438; Test Accuracy: 0.4216;\n"
     ]
    },
    {
     "name": "stderr",
     "output_type": "stream",
     "text": [
      "Epoch 147/500: 100%|██████████████████████████████████████████████████████████████████████████████████████████████████████████████████████████████████████████████████████████████████████████████████████████████████████████████████████████████████████████████████████████| 196/196 [01:08<00:00,  2.86it/s, loss=2.2621, acc_t=0.4750, acc=0.5491]\n"
     ]
    },
    {
     "name": "stdout",
     "output_type": "stream",
     "text": [
      "Average Train Loss: 1.9271; Test Loss: 2.7868;                 Train Accuracy: 0.5491; Test Accuracy: 0.4122;\n"
     ]
    },
    {
     "name": "stderr",
     "output_type": "stream",
     "text": [
      "Epoch 148/500: 100%|██████████████████████████████████████████████████████████████████████████████████████████████████████████████████████████████████████████████████████████████████████████████████████████████████████████████████████████████████████████████████████████| 196/196 [01:08<00:00,  2.87it/s, loss=2.1055, acc_t=0.5375, acc=0.5455]\n"
     ]
    },
    {
     "name": "stdout",
     "output_type": "stream",
     "text": [
      "Average Train Loss: 1.9374; Test Loss: 2.9046;                 Train Accuracy: 0.5455; Test Accuracy: 0.4030;\n"
     ]
    },
    {
     "name": "stderr",
     "output_type": "stream",
     "text": [
      "Epoch 149/500: 100%|██████████████████████████████████████████████████████████████████████████████████████████████████████████████████████████████████████████████████████████████████████████████████████████████████████████████████████████████████████████████████████████| 196/196 [01:08<00:00,  2.86it/s, loss=1.7801, acc_t=0.6062, acc=0.5481]\n"
     ]
    },
    {
     "name": "stdout",
     "output_type": "stream",
     "text": [
      "Average Train Loss: 1.9202; Test Loss: 2.7444;                 Train Accuracy: 0.5481; Test Accuracy: 0.4302;\n"
     ]
    },
    {
     "name": "stderr",
     "output_type": "stream",
     "text": [
      "Epoch 150/500: 100%|██████████████████████████████████████████████████████████████████████████████████████████████████████████████████████████████████████████████████████████████████████████████████████████████████████████████████████████████████████████████████████████| 196/196 [01:08<00:00,  2.87it/s, loss=2.1586, acc_t=0.4875, acc=0.5488]\n"
     ]
    },
    {
     "name": "stdout",
     "output_type": "stream",
     "text": [
      "Average Train Loss: 1.9252; Test Loss: 2.8588;                 Train Accuracy: 0.5488; Test Accuracy: 0.4110;\n"
     ]
    },
    {
     "name": "stderr",
     "output_type": "stream",
     "text": [
      "Epoch 151/500: 100%|██████████████████████████████████████████████████████████████████████████████████████████████████████████████████████████████████████████████████████████████████████████████████████████████████████████████████████████████████████████████████████████| 196/196 [01:08<00:00,  2.86it/s, loss=1.7219, acc_t=0.6188, acc=0.5527]\n"
     ]
    },
    {
     "name": "stdout",
     "output_type": "stream",
     "text": [
      "Average Train Loss: 1.9013; Test Loss: 2.8490;                 Train Accuracy: 0.5527; Test Accuracy: 0.4116;\n"
     ]
    },
    {
     "name": "stderr",
     "output_type": "stream",
     "text": [
      "Epoch 152/500: 100%|██████████████████████████████████████████████████████████████████████████████████████████████████████████████████████████████████████████████████████████████████████████████████████████████████████████████████████████████████████████████████████████| 196/196 [01:08<00:00,  2.87it/s, loss=1.8645, acc_t=0.5563, acc=0.5503]\n"
     ]
    },
    {
     "name": "stdout",
     "output_type": "stream",
     "text": [
      "Average Train Loss: 1.9160; Test Loss: 2.8800;                 Train Accuracy: 0.5503; Test Accuracy: 0.4128;\n"
     ]
    },
    {
     "name": "stderr",
     "output_type": "stream",
     "text": [
      "Epoch 153/500: 100%|██████████████████████████████████████████████████████████████████████████████████████████████████████████████████████████████████████████████████████████████████████████████████████████████████████████████████████████████████████████████████████████| 196/196 [01:08<00:00,  2.87it/s, loss=2.3014, acc_t=0.4688, acc=0.5498]\n"
     ]
    },
    {
     "name": "stdout",
     "output_type": "stream",
     "text": [
      "Average Train Loss: 1.9236; Test Loss: 2.8507;                 Train Accuracy: 0.5498; Test Accuracy: 0.4042;\n"
     ]
    },
    {
     "name": "stderr",
     "output_type": "stream",
     "text": [
      "Epoch 154/500: 100%|██████████████████████████████████████████████████████████████████████████████████████████████████████████████████████████████████████████████████████████████████████████████████████████████████████████████████████████████████████████████████████████| 196/196 [01:08<00:00,  2.86it/s, loss=1.9577, acc_t=0.5500, acc=0.5537]\n"
     ]
    },
    {
     "name": "stdout",
     "output_type": "stream",
     "text": [
      "Average Train Loss: 1.9058; Test Loss: 2.8071;                 Train Accuracy: 0.5537; Test Accuracy: 0.4140;\n"
     ]
    },
    {
     "name": "stderr",
     "output_type": "stream",
     "text": [
      "Epoch 155/500: 100%|██████████████████████████████████████████████████████████████████████████████████████████████████████████████████████████████████████████████████████████████████████████████████████████████████████████████████████████████████████████████████████████| 196/196 [01:08<00:00,  2.86it/s, loss=2.0903, acc_t=0.4813, acc=0.5572]\n"
     ]
    },
    {
     "name": "stdout",
     "output_type": "stream",
     "text": [
      "Average Train Loss: 1.8868; Test Loss: 2.7645;                 Train Accuracy: 0.5572; Test Accuracy: 0.4226;\n"
     ]
    },
    {
     "name": "stderr",
     "output_type": "stream",
     "text": [
      "Epoch 156/500: 100%|██████████████████████████████████████████████████████████████████████████████████████████████████████████████████████████████████████████████████████████████████████████████████████████████████████████████████████████████████████████████████████████| 196/196 [01:08<00:00,  2.86it/s, loss=2.2138, acc_t=0.5125, acc=0.5523]\n"
     ]
    },
    {
     "name": "stdout",
     "output_type": "stream",
     "text": [
      "Average Train Loss: 1.9125; Test Loss: 2.7364;                 Train Accuracy: 0.5523; Test Accuracy: 0.4238;\n"
     ]
    },
    {
     "name": "stderr",
     "output_type": "stream",
     "text": [
      "Epoch 157/500: 100%|██████████████████████████████████████████████████████████████████████████████████████████████████████████████████████████████████████████████████████████████████████████████████████████████████████████████████████████████████████████████████████████| 196/196 [01:08<00:00,  2.85it/s, loss=1.9682, acc_t=0.5188, acc=0.5519]\n"
     ]
    },
    {
     "name": "stdout",
     "output_type": "stream",
     "text": [
      "Average Train Loss: 1.9222; Test Loss: 2.8057;                 Train Accuracy: 0.5519; Test Accuracy: 0.4192;\n"
     ]
    },
    {
     "name": "stderr",
     "output_type": "stream",
     "text": [
      "Epoch 158/500: 100%|██████████████████████████████████████████████████████████████████████████████████████████████████████████████████████████████████████████████████████████████████████████████████████████████████████████████████████████████████████████████████████████| 196/196 [01:08<00:00,  2.85it/s, loss=2.2089, acc_t=0.4875, acc=0.5610]\n"
     ]
    },
    {
     "name": "stdout",
     "output_type": "stream",
     "text": [
      "Average Train Loss: 1.8675; Test Loss: 2.7994;                 Train Accuracy: 0.5610; Test Accuracy: 0.4270;\n"
     ]
    },
    {
     "name": "stderr",
     "output_type": "stream",
     "text": [
      "Epoch 159/500: 100%|██████████████████████████████████████████████████████████████████████████████████████████████████████████████████████████████████████████████████████████████████████████████████████████████████████████████████████████████████████████████████████████| 196/196 [01:08<00:00,  2.87it/s, loss=2.2127, acc_t=0.4750, acc=0.5593]\n"
     ]
    },
    {
     "name": "stdout",
     "output_type": "stream",
     "text": [
      "Average Train Loss: 1.8733; Test Loss: 2.8404;                 Train Accuracy: 0.5593; Test Accuracy: 0.4142;\n"
     ]
    },
    {
     "name": "stderr",
     "output_type": "stream",
     "text": [
      "Epoch 160/500: 100%|██████████████████████████████████████████████████████████████████████████████████████████████████████████████████████████████████████████████████████████████████████████████████████████████████████████████████████████████████████████████████████████| 196/196 [01:08<00:00,  2.87it/s, loss=1.8541, acc_t=0.5563, acc=0.5627]\n"
     ]
    },
    {
     "name": "stdout",
     "output_type": "stream",
     "text": [
      "Average Train Loss: 1.8610; Test Loss: 2.7302;                 Train Accuracy: 0.5627; Test Accuracy: 0.4264;\n"
     ]
    },
    {
     "name": "stderr",
     "output_type": "stream",
     "text": [
      "Epoch 161/500: 100%|██████████████████████████████████████████████████████████████████████████████████████████████████████████████████████████████████████████████████████████████████████████████████████████████████████████████████████████████████████████████████████████| 196/196 [01:08<00:00,  2.86it/s, loss=1.8585, acc_t=0.5437, acc=0.5652]\n"
     ]
    },
    {
     "name": "stdout",
     "output_type": "stream",
     "text": [
      "Average Train Loss: 1.8528; Test Loss: 2.8284;                 Train Accuracy: 0.5652; Test Accuracy: 0.4236;\n"
     ]
    },
    {
     "name": "stderr",
     "output_type": "stream",
     "text": [
      "Epoch 162/500: 100%|██████████████████████████████████████████████████████████████████████████████████████████████████████████████████████████████████████████████████████████████████████████████████████████████████████████████████████████████████████████████████████████| 196/196 [01:08<00:00,  2.87it/s, loss=1.8225, acc_t=0.5938, acc=0.5597]\n"
     ]
    },
    {
     "name": "stdout",
     "output_type": "stream",
     "text": [
      "Average Train Loss: 1.8734; Test Loss: 2.7759;                 Train Accuracy: 0.5597; Test Accuracy: 0.4242;\n"
     ]
    },
    {
     "name": "stderr",
     "output_type": "stream",
     "text": [
      "Epoch 163/500: 100%|██████████████████████████████████████████████████████████████████████████████████████████████████████████████████████████████████████████████████████████████████████████████████████████████████████████████████████████████████████████████████████████| 196/196 [01:08<00:00,  2.85it/s, loss=2.1848, acc_t=0.4813, acc=0.5602]\n"
     ]
    },
    {
     "name": "stdout",
     "output_type": "stream",
     "text": [
      "Average Train Loss: 1.8707; Test Loss: 2.8414;                 Train Accuracy: 0.5602; Test Accuracy: 0.4248;\n"
     ]
    },
    {
     "name": "stderr",
     "output_type": "stream",
     "text": [
      "Epoch 164/500: 100%|██████████████████████████████████████████████████████████████████████████████████████████████████████████████████████████████████████████████████████████████████████████████████████████████████████████████████████████████████████████████████████████| 196/196 [01:08<00:00,  2.87it/s, loss=2.1215, acc_t=0.5188, acc=0.5629]\n"
     ]
    },
    {
     "name": "stdout",
     "output_type": "stream",
     "text": [
      "Average Train Loss: 1.8634; Test Loss: 2.8324;                 Train Accuracy: 0.5629; Test Accuracy: 0.4346;\n"
     ]
    },
    {
     "name": "stderr",
     "output_type": "stream",
     "text": [
      "Epoch 165/500: 100%|██████████████████████████████████████████████████████████████████████████████████████████████████████████████████████████████████████████████████████████████████████████████████████████████████████████████████████████████████████████████████████████| 196/196 [01:08<00:00,  2.85it/s, loss=2.1955, acc_t=0.4625, acc=0.5650]\n"
     ]
    },
    {
     "name": "stdout",
     "output_type": "stream",
     "text": [
      "Average Train Loss: 1.8509; Test Loss: 2.7792;                 Train Accuracy: 0.5650; Test Accuracy: 0.4178;\n"
     ]
    },
    {
     "name": "stderr",
     "output_type": "stream",
     "text": [
      "Epoch 166/500: 100%|██████████████████████████████████████████████████████████████████████████████████████████████████████████████████████████████████████████████████████████████████████████████████████████████████████████████████████████████████████████████████████████| 196/196 [01:08<00:00,  2.86it/s, loss=1.8587, acc_t=0.5563, acc=0.5663]\n"
     ]
    },
    {
     "name": "stdout",
     "output_type": "stream",
     "text": [
      "Average Train Loss: 1.8426; Test Loss: 2.7398;                 Train Accuracy: 0.5663; Test Accuracy: 0.4294;\n"
     ]
    },
    {
     "name": "stderr",
     "output_type": "stream",
     "text": [
      "Epoch 167/500: 100%|██████████████████████████████████████████████████████████████████████████████████████████████████████████████████████████████████████████████████████████████████████████████████████████████████████████████████████████████████████████████████████████| 196/196 [01:08<00:00,  2.86it/s, loss=2.1932, acc_t=0.4562, acc=0.5673]\n"
     ]
    },
    {
     "name": "stdout",
     "output_type": "stream",
     "text": [
      "Average Train Loss: 1.8417; Test Loss: 2.8826;                 Train Accuracy: 0.5673; Test Accuracy: 0.4128;\n"
     ]
    },
    {
     "name": "stderr",
     "output_type": "stream",
     "text": [
      "Epoch 168/500: 100%|██████████████████████████████████████████████████████████████████████████████████████████████████████████████████████████████████████████████████████████████████████████████████████████████████████████████████████████████████████████████████████████| 196/196 [01:08<00:00,  2.86it/s, loss=1.8121, acc_t=0.5563, acc=0.5664]\n"
     ]
    },
    {
     "name": "stdout",
     "output_type": "stream",
     "text": [
      "Average Train Loss: 1.8383; Test Loss: 2.7660;                 Train Accuracy: 0.5664; Test Accuracy: 0.4294;\n"
     ]
    },
    {
     "name": "stderr",
     "output_type": "stream",
     "text": [
      "Epoch 169/500: 100%|██████████████████████████████████████████████████████████████████████████████████████████████████████████████████████████████████████████████████████████████████████████████████████████████████████████████████████████████████████████████████████████| 196/196 [01:08<00:00,  2.85it/s, loss=1.8935, acc_t=0.5687, acc=0.5651]\n"
     ]
    },
    {
     "name": "stdout",
     "output_type": "stream",
     "text": [
      "Average Train Loss: 1.8539; Test Loss: 2.8203;                 Train Accuracy: 0.5651; Test Accuracy: 0.4234;\n"
     ]
    },
    {
     "name": "stderr",
     "output_type": "stream",
     "text": [
      "Epoch 170/500: 100%|██████████████████████████████████████████████████████████████████████████████████████████████████████████████████████████████████████████████████████████████████████████████████████████████████████████████████████████████████████████████████████████| 196/196 [01:08<00:00,  2.86it/s, loss=1.9542, acc_t=0.5312, acc=0.5684]\n"
     ]
    },
    {
     "name": "stdout",
     "output_type": "stream",
     "text": [
      "Average Train Loss: 1.8382; Test Loss: 2.8128;                 Train Accuracy: 0.5684; Test Accuracy: 0.4178;\n"
     ]
    },
    {
     "name": "stderr",
     "output_type": "stream",
     "text": [
      "Epoch 171/500: 100%|██████████████████████████████████████████████████████████████████████████████████████████████████████████████████████████████████████████████████████████████████████████████████████████████████████████████████████████████████████████████████████████| 196/196 [01:08<00:00,  2.86it/s, loss=2.2235, acc_t=0.5250, acc=0.5708]\n"
     ]
    },
    {
     "name": "stdout",
     "output_type": "stream",
     "text": [
      "Average Train Loss: 1.8276; Test Loss: 2.8766;                 Train Accuracy: 0.5708; Test Accuracy: 0.4202;\n"
     ]
    },
    {
     "name": "stderr",
     "output_type": "stream",
     "text": [
      "Epoch 172/500: 100%|██████████████████████████████████████████████████████████████████████████████████████████████████████████████████████████████████████████████████████████████████████████████████████████████████████████████████████████████████████████████████████████| 196/196 [01:08<00:00,  2.85it/s, loss=2.0244, acc_t=0.5062, acc=0.5708]\n"
     ]
    },
    {
     "name": "stdout",
     "output_type": "stream",
     "text": [
      "Average Train Loss: 1.8210; Test Loss: 2.8373;                 Train Accuracy: 0.5708; Test Accuracy: 0.4234;\n"
     ]
    },
    {
     "name": "stderr",
     "output_type": "stream",
     "text": [
      "Epoch 173/500: 100%|██████████████████████████████████████████████████████████████████████████████████████████████████████████████████████████████████████████████████████████████████████████████████████████████████████████████████████████████████████████████████████████| 196/196 [01:08<00:00,  2.87it/s, loss=1.8675, acc_t=0.5500, acc=0.5767]\n"
     ]
    },
    {
     "name": "stdout",
     "output_type": "stream",
     "text": [
      "Average Train Loss: 1.8064; Test Loss: 2.8381;                 Train Accuracy: 0.5767; Test Accuracy: 0.4288;\n"
     ]
    },
    {
     "name": "stderr",
     "output_type": "stream",
     "text": [
      "Epoch 174/500: 100%|██████████████████████████████████████████████████████████████████████████████████████████████████████████████████████████████████████████████████████████████████████████████████████████████████████████████████████████████████████████████████████████| 196/196 [01:08<00:00,  2.87it/s, loss=1.7579, acc_t=0.5813, acc=0.5730]\n"
     ]
    },
    {
     "name": "stdout",
     "output_type": "stream",
     "text": [
      "Average Train Loss: 1.8160; Test Loss: 2.9189;                 Train Accuracy: 0.5730; Test Accuracy: 0.4114;\n"
     ]
    },
    {
     "name": "stderr",
     "output_type": "stream",
     "text": [
      "Epoch 175/500: 100%|██████████████████████████████████████████████████████████████████████████████████████████████████████████████████████████████████████████████████████████████████████████████████████████████████████████████████████████████████████████████████████████| 196/196 [01:08<00:00,  2.85it/s, loss=1.7156, acc_t=0.6188, acc=0.5755]\n"
     ]
    },
    {
     "name": "stdout",
     "output_type": "stream",
     "text": [
      "Average Train Loss: 1.8075; Test Loss: 2.8054;                 Train Accuracy: 0.5755; Test Accuracy: 0.4196;\n"
     ]
    },
    {
     "name": "stderr",
     "output_type": "stream",
     "text": [
      "Epoch 176/500: 100%|██████████████████████████████████████████████████████████████████████████████████████████████████████████████████████████████████████████████████████████████████████████████████████████████████████████████████████████████████████████████████████████| 196/196 [01:08<00:00,  2.86it/s, loss=1.9646, acc_t=0.5750, acc=0.5750]\n"
     ]
    },
    {
     "name": "stdout",
     "output_type": "stream",
     "text": [
      "Average Train Loss: 1.8126; Test Loss: 2.9611;                 Train Accuracy: 0.5750; Test Accuracy: 0.4176;\n"
     ]
    },
    {
     "name": "stderr",
     "output_type": "stream",
     "text": [
      "Epoch 177/500: 100%|██████████████████████████████████████████████████████████████████████████████████████████████████████████████████████████████████████████████████████████████████████████████████████████████████████████████████████████████████████████████████████████| 196/196 [01:08<00:00,  2.86it/s, loss=1.9927, acc_t=0.5125, acc=0.5747]\n"
     ]
    },
    {
     "name": "stdout",
     "output_type": "stream",
     "text": [
      "Average Train Loss: 1.8155; Test Loss: 2.8215;                 Train Accuracy: 0.5747; Test Accuracy: 0.4226;\n"
     ]
    },
    {
     "name": "stderr",
     "output_type": "stream",
     "text": [
      "Epoch 178/500: 100%|██████████████████████████████████████████████████████████████████████████████████████████████████████████████████████████████████████████████████████████████████████████████████████████████████████████████████████████████████████████████████████████| 196/196 [01:08<00:00,  2.86it/s, loss=1.7915, acc_t=0.6125, acc=0.5782]\n"
     ]
    },
    {
     "name": "stdout",
     "output_type": "stream",
     "text": [
      "Average Train Loss: 1.7916; Test Loss: 2.8298;                 Train Accuracy: 0.5782; Test Accuracy: 0.4274;\n"
     ]
    },
    {
     "name": "stderr",
     "output_type": "stream",
     "text": [
      "Epoch 179/500: 100%|██████████████████████████████████████████████████████████████████████████████████████████████████████████████████████████████████████████████████████████████████████████████████████████████████████████████████████████████████████████████████████████| 196/196 [01:08<00:00,  2.86it/s, loss=1.7583, acc_t=0.6188, acc=0.5828]\n"
     ]
    },
    {
     "name": "stdout",
     "output_type": "stream",
     "text": [
      "Average Train Loss: 1.7699; Test Loss: 2.7945;                 Train Accuracy: 0.5828; Test Accuracy: 0.4328;\n"
     ]
    },
    {
     "name": "stderr",
     "output_type": "stream",
     "text": [
      "Epoch 180/500: 100%|██████████████████████████████████████████████████████████████████████████████████████████████████████████████████████████████████████████████████████████████████████████████████████████████████████████████████████████████████████████████████████████| 196/196 [01:08<00:00,  2.87it/s, loss=1.6743, acc_t=0.6000, acc=0.5814]\n"
     ]
    },
    {
     "name": "stdout",
     "output_type": "stream",
     "text": [
      "Average Train Loss: 1.7731; Test Loss: 2.8588;                 Train Accuracy: 0.5814; Test Accuracy: 0.4244;\n"
     ]
    },
    {
     "name": "stderr",
     "output_type": "stream",
     "text": [
      "Epoch 181/500: 100%|██████████████████████████████████████████████████████████████████████████████████████████████████████████████████████████████████████████████████████████████████████████████████████████████████████████████████████████████████████████████████████████| 196/196 [01:08<00:00,  2.85it/s, loss=1.8837, acc_t=0.5687, acc=0.5813]\n"
     ]
    },
    {
     "name": "stdout",
     "output_type": "stream",
     "text": [
      "Average Train Loss: 1.7906; Test Loss: 2.7723;                 Train Accuracy: 0.5813; Test Accuracy: 0.4330;\n"
     ]
    },
    {
     "name": "stderr",
     "output_type": "stream",
     "text": [
      "Epoch 182/500: 100%|██████████████████████████████████████████████████████████████████████████████████████████████████████████████████████████████████████████████████████████████████████████████████████████████████████████████████████████████████████████████████████████| 196/196 [01:09<00:00,  2.83it/s, loss=1.8490, acc_t=0.5312, acc=0.5813]\n"
     ]
    },
    {
     "name": "stdout",
     "output_type": "stream",
     "text": [
      "Average Train Loss: 1.7834; Test Loss: 2.8192;                 Train Accuracy: 0.5813; Test Accuracy: 0.4306;\n"
     ]
    },
    {
     "name": "stderr",
     "output_type": "stream",
     "text": [
      "Epoch 183/500: 100%|██████████████████████████████████████████████████████████████████████████████████████████████████████████████████████████████████████████████████████████████████████████████████████████████████████████████████████████████████████████████████████████| 196/196 [01:08<00:00,  2.87it/s, loss=1.8732, acc_t=0.5750, acc=0.5809]\n"
     ]
    },
    {
     "name": "stdout",
     "output_type": "stream",
     "text": [
      "Average Train Loss: 1.7856; Test Loss: 2.8404;                 Train Accuracy: 0.5809; Test Accuracy: 0.4256;\n"
     ]
    },
    {
     "name": "stderr",
     "output_type": "stream",
     "text": [
      "Epoch 184/500: 100%|██████████████████████████████████████████████████████████████████████████████████████████████████████████████████████████████████████████████████████████████████████████████████████████████████████████████████████████████████████████████████████████| 196/196 [01:08<00:00,  2.85it/s, loss=1.7225, acc_t=0.6125, acc=0.5802]\n"
     ]
    },
    {
     "name": "stdout",
     "output_type": "stream",
     "text": [
      "Average Train Loss: 1.7893; Test Loss: 2.7644;                 Train Accuracy: 0.5802; Test Accuracy: 0.4350;\n"
     ]
    },
    {
     "name": "stderr",
     "output_type": "stream",
     "text": [
      "Epoch 185/500: 100%|██████████████████████████████████████████████████████████████████████████████████████████████████████████████████████████████████████████████████████████████████████████████████████████████████████████████████████████████████████████████████████████| 196/196 [01:08<00:00,  2.86it/s, loss=1.8287, acc_t=0.5437, acc=0.5855]\n"
     ]
    },
    {
     "name": "stdout",
     "output_type": "stream",
     "text": [
      "Average Train Loss: 1.7622; Test Loss: 2.7774;                 Train Accuracy: 0.5855; Test Accuracy: 0.4292;\n"
     ]
    },
    {
     "name": "stderr",
     "output_type": "stream",
     "text": [
      "Epoch 186/500: 100%|██████████████████████████████████████████████████████████████████████████████████████████████████████████████████████████████████████████████████████████████████████████████████████████████████████████████████████████████████████████████████████████| 196/196 [01:08<00:00,  2.86it/s, loss=1.8553, acc_t=0.5625, acc=0.5880]\n"
     ]
    },
    {
     "name": "stdout",
     "output_type": "stream",
     "text": [
      "Average Train Loss: 1.7491; Test Loss: 2.7330;                 Train Accuracy: 0.5880; Test Accuracy: 0.4362;\n"
     ]
    },
    {
     "name": "stderr",
     "output_type": "stream",
     "text": [
      "Epoch 187/500: 100%|██████████████████████████████████████████████████████████████████████████████████████████████████████████████████████████████████████████████████████████████████████████████████████████████████████████████████████████████████████████████████████████| 196/196 [01:08<00:00,  2.87it/s, loss=1.6912, acc_t=0.6375, acc=0.5868]\n"
     ]
    },
    {
     "name": "stdout",
     "output_type": "stream",
     "text": [
      "Average Train Loss: 1.7556; Test Loss: 2.8741;                 Train Accuracy: 0.5868; Test Accuracy: 0.4204;\n"
     ]
    },
    {
     "name": "stderr",
     "output_type": "stream",
     "text": [
      "Epoch 188/500: 100%|██████████████████████████████████████████████████████████████████████████████████████████████████████████████████████████████████████████████████████████████████████████████████████████████████████████████████████████████████████████████████████████| 196/196 [01:08<00:00,  2.85it/s, loss=1.5153, acc_t=0.6250, acc=0.5881]\n"
     ]
    },
    {
     "name": "stdout",
     "output_type": "stream",
     "text": [
      "Average Train Loss: 1.7494; Test Loss: 2.8105;                 Train Accuracy: 0.5881; Test Accuracy: 0.4278;\n"
     ]
    },
    {
     "name": "stderr",
     "output_type": "stream",
     "text": [
      "Epoch 189/500: 100%|██████████████████████████████████████████████████████████████████████████████████████████████████████████████████████████████████████████████████████████████████████████████████████████████████████████████████████████████████████████████████████████| 196/196 [01:08<00:00,  2.87it/s, loss=1.7023, acc_t=0.6250, acc=0.5894]\n"
     ]
    },
    {
     "name": "stdout",
     "output_type": "stream",
     "text": [
      "Average Train Loss: 1.7478; Test Loss: 2.8645;                 Train Accuracy: 0.5894; Test Accuracy: 0.4316;\n"
     ]
    },
    {
     "name": "stderr",
     "output_type": "stream",
     "text": [
      "Epoch 190/500: 100%|██████████████████████████████████████████████████████████████████████████████████████████████████████████████████████████████████████████████████████████████████████████████████████████████████████████████████████████████████████████████████████████| 196/196 [01:08<00:00,  2.85it/s, loss=1.5406, acc_t=0.6562, acc=0.5890]\n"
     ]
    },
    {
     "name": "stdout",
     "output_type": "stream",
     "text": [
      "Average Train Loss: 1.7476; Test Loss: 2.8825;                 Train Accuracy: 0.5890; Test Accuracy: 0.4252;\n"
     ]
    },
    {
     "name": "stderr",
     "output_type": "stream",
     "text": [
      "Epoch 191/500: 100%|██████████████████████████████████████████████████████████████████████████████████████████████████████████████████████████████████████████████████████████████████████████████████████████████████████████████████████████████████████████████████████████| 196/196 [01:08<00:00,  2.86it/s, loss=2.0181, acc_t=0.5563, acc=0.5933]\n"
     ]
    },
    {
     "name": "stdout",
     "output_type": "stream",
     "text": [
      "Average Train Loss: 1.7280; Test Loss: 2.8761;                 Train Accuracy: 0.5933; Test Accuracy: 0.4180;\n"
     ]
    },
    {
     "name": "stderr",
     "output_type": "stream",
     "text": [
      "Epoch 192/500: 100%|██████████████████████████████████████████████████████████████████████████████████████████████████████████████████████████████████████████████████████████████████████████████████████████████████████████████████████████████████████████████████████████| 196/196 [01:08<00:00,  2.85it/s, loss=1.6489, acc_t=0.5687, acc=0.5875]\n"
     ]
    },
    {
     "name": "stdout",
     "output_type": "stream",
     "text": [
      "Average Train Loss: 1.7565; Test Loss: 2.9275;                 Train Accuracy: 0.5875; Test Accuracy: 0.4204;\n"
     ]
    },
    {
     "name": "stderr",
     "output_type": "stream",
     "text": [
      "Epoch 193/500: 100%|██████████████████████████████████████████████████████████████████████████████████████████████████████████████████████████████████████████████████████████████████████████████████████████████████████████████████████████████████████████████████████████| 196/196 [01:08<00:00,  2.87it/s, loss=1.3600, acc_t=0.6687, acc=0.5931]\n"
     ]
    },
    {
     "name": "stdout",
     "output_type": "stream",
     "text": [
      "Average Train Loss: 1.7333; Test Loss: 2.8117;                 Train Accuracy: 0.5931; Test Accuracy: 0.4258;\n"
     ]
    },
    {
     "name": "stderr",
     "output_type": "stream",
     "text": [
      "Epoch 194/500: 100%|██████████████████████████████████████████████████████████████████████████████████████████████████████████████████████████████████████████████████████████████████████████████████████████████████████████████████████████████████████████████████████████| 196/196 [01:08<00:00,  2.87it/s, loss=2.0106, acc_t=0.5625, acc=0.5946]\n"
     ]
    },
    {
     "name": "stdout",
     "output_type": "stream",
     "text": [
      "Average Train Loss: 1.7255; Test Loss: 2.8847;                 Train Accuracy: 0.5946; Test Accuracy: 0.4246;\n"
     ]
    },
    {
     "name": "stderr",
     "output_type": "stream",
     "text": [
      "Epoch 195/500: 100%|██████████████████████████████████████████████████████████████████████████████████████████████████████████████████████████████████████████████████████████████████████████████████████████████████████████████████████████████████████████████████████████| 196/196 [01:08<00:00,  2.86it/s, loss=1.8109, acc_t=0.5750, acc=0.5951]\n"
     ]
    },
    {
     "name": "stdout",
     "output_type": "stream",
     "text": [
      "Average Train Loss: 1.7234; Test Loss: 2.8413;                 Train Accuracy: 0.5951; Test Accuracy: 0.4246;\n"
     ]
    },
    {
     "name": "stderr",
     "output_type": "stream",
     "text": [
      "Epoch 196/500: 100%|██████████████████████████████████████████████████████████████████████████████████████████████████████████████████████████████████████████████████████████████████████████████████████████████████████████████████████████████████████████████████████████| 196/196 [01:08<00:00,  2.86it/s, loss=1.6733, acc_t=0.5563, acc=0.5907]\n"
     ]
    },
    {
     "name": "stdout",
     "output_type": "stream",
     "text": [
      "Average Train Loss: 1.7394; Test Loss: 2.7347;                 Train Accuracy: 0.5907; Test Accuracy: 0.4434;\n"
     ]
    },
    {
     "name": "stderr",
     "output_type": "stream",
     "text": [
      "Epoch 197/500: 100%|██████████████████████████████████████████████████████████████████████████████████████████████████████████████████████████████████████████████████████████████████████████████████████████████████████████████████████████████████████████████████████████| 196/196 [01:08<00:00,  2.86it/s, loss=1.8217, acc_t=0.5375, acc=0.6000]\n"
     ]
    },
    {
     "name": "stdout",
     "output_type": "stream",
     "text": [
      "Average Train Loss: 1.6974; Test Loss: 2.8073;                 Train Accuracy: 0.6000; Test Accuracy: 0.4346;\n"
     ]
    },
    {
     "name": "stderr",
     "output_type": "stream",
     "text": [
      "Epoch 198/500: 100%|██████████████████████████████████████████████████████████████████████████████████████████████████████████████████████████████████████████████████████████████████████████████████████████████████████████████████████████████████████████████████████████| 196/196 [01:08<00:00,  2.86it/s, loss=1.9534, acc_t=0.5250, acc=0.5973]\n"
     ]
    },
    {
     "name": "stdout",
     "output_type": "stream",
     "text": [
      "Average Train Loss: 1.7137; Test Loss: 2.8510;                 Train Accuracy: 0.5973; Test Accuracy: 0.4372;\n"
     ]
    },
    {
     "name": "stderr",
     "output_type": "stream",
     "text": [
      "Epoch 199/500: 100%|██████████████████████████████████████████████████████████████████████████████████████████████████████████████████████████████████████████████████████████████████████████████████████████████████████████████████████████████████████████████████████████| 196/196 [01:08<00:00,  2.87it/s, loss=1.9441, acc_t=0.5188, acc=0.5919]\n"
     ]
    },
    {
     "name": "stdout",
     "output_type": "stream",
     "text": [
      "Average Train Loss: 1.7390; Test Loss: 2.8441;                 Train Accuracy: 0.5919; Test Accuracy: 0.4240;\n"
     ]
    },
    {
     "name": "stderr",
     "output_type": "stream",
     "text": [
      "Epoch 200/500: 100%|██████████████████████████████████████████████████████████████████████████████████████████████████████████████████████████████████████████████████████████████████████████████████████████████████████████████████████████████████████████████████████████| 196/196 [01:08<00:00,  2.86it/s, loss=1.5062, acc_t=0.6937, acc=0.5986]\n"
     ]
    },
    {
     "name": "stdout",
     "output_type": "stream",
     "text": [
      "Average Train Loss: 1.7049; Test Loss: 2.8232;                 Train Accuracy: 0.5986; Test Accuracy: 0.4324;\n"
     ]
    },
    {
     "name": "stderr",
     "output_type": "stream",
     "text": [
      "Epoch 201/500: 100%|██████████████████████████████████████████████████████████████████████████████████████████████████████████████████████████████████████████████████████████████████████████████████████████████████████████████████████████████████████████████████████████| 196/196 [01:08<00:00,  2.87it/s, loss=1.8736, acc_t=0.5563, acc=0.6006]\n"
     ]
    },
    {
     "name": "stdout",
     "output_type": "stream",
     "text": [
      "Average Train Loss: 1.6958; Test Loss: 2.8328;                 Train Accuracy: 0.6006; Test Accuracy: 0.4336;\n"
     ]
    },
    {
     "name": "stderr",
     "output_type": "stream",
     "text": [
      "Epoch 202/500: 100%|██████████████████████████████████████████████████████████████████████████████████████████████████████████████████████████████████████████████████████████████████████████████████████████████████████████████████████████████████████████████████████████| 196/196 [01:08<00:00,  2.87it/s, loss=1.5811, acc_t=0.6438, acc=0.6028]\n"
     ]
    },
    {
     "name": "stdout",
     "output_type": "stream",
     "text": [
      "Average Train Loss: 1.6915; Test Loss: 2.7866;                 Train Accuracy: 0.6028; Test Accuracy: 0.4412;\n"
     ]
    },
    {
     "name": "stderr",
     "output_type": "stream",
     "text": [
      "Epoch 203/500: 100%|██████████████████████████████████████████████████████████████████████████████████████████████████████████████████████████████████████████████████████████████████████████████████████████████████████████████████████████████████████████████████████████| 196/196 [01:08<00:00,  2.86it/s, loss=1.9971, acc_t=0.5563, acc=0.6029]\n"
     ]
    },
    {
     "name": "stdout",
     "output_type": "stream",
     "text": [
      "Average Train Loss: 1.6919; Test Loss: 2.8890;                 Train Accuracy: 0.6029; Test Accuracy: 0.4272;\n"
     ]
    },
    {
     "name": "stderr",
     "output_type": "stream",
     "text": [
      "Epoch 204/500: 100%|██████████████████████████████████████████████████████████████████████████████████████████████████████████████████████████████████████████████████████████████████████████████████████████████████████████████████████████████████████████████████████████| 196/196 [01:08<00:00,  2.86it/s, loss=1.8321, acc_t=0.5625, acc=0.5966]\n"
     ]
    },
    {
     "name": "stdout",
     "output_type": "stream",
     "text": [
      "Average Train Loss: 1.7185; Test Loss: 2.8622;                 Train Accuracy: 0.5966; Test Accuracy: 0.4250;\n"
     ]
    },
    {
     "name": "stderr",
     "output_type": "stream",
     "text": [
      "Epoch 205/500: 100%|██████████████████████████████████████████████████████████████████████████████████████████████████████████████████████████████████████████████████████████████████████████████████████████████████████████████████████████████████████████████████████████| 196/196 [01:08<00:00,  2.86it/s, loss=1.4925, acc_t=0.6188, acc=0.6038]\n"
     ]
    },
    {
     "name": "stdout",
     "output_type": "stream",
     "text": [
      "Average Train Loss: 1.6911; Test Loss: 2.8497;                 Train Accuracy: 0.6038; Test Accuracy: 0.4306;\n"
     ]
    },
    {
     "name": "stderr",
     "output_type": "stream",
     "text": [
      "Epoch 206/500: 100%|██████████████████████████████████████████████████████████████████████████████████████████████████████████████████████████████████████████████████████████████████████████████████████████████████████████████████████████████████████████████████████████| 196/196 [01:08<00:00,  2.87it/s, loss=2.0354, acc_t=0.5375, acc=0.5956]\n"
     ]
    },
    {
     "name": "stdout",
     "output_type": "stream",
     "text": [
      "Average Train Loss: 1.7185; Test Loss: 2.8352;                 Train Accuracy: 0.5956; Test Accuracy: 0.4350;\n"
     ]
    },
    {
     "name": "stderr",
     "output_type": "stream",
     "text": [
      "Epoch 207/500: 100%|██████████████████████████████████████████████████████████████████████████████████████████████████████████████████████████████████████████████████████████████████████████████████████████████████████████████████████████████████████████████████████████| 196/196 [01:08<00:00,  2.86it/s, loss=1.9841, acc_t=0.5250, acc=0.6066]\n"
     ]
    },
    {
     "name": "stdout",
     "output_type": "stream",
     "text": [
      "Average Train Loss: 1.6743; Test Loss: 2.8719;                 Train Accuracy: 0.6066; Test Accuracy: 0.4210;\n"
     ]
    },
    {
     "name": "stderr",
     "output_type": "stream",
     "text": [
      "Epoch 208/500: 100%|██████████████████████████████████████████████████████████████████████████████████████████████████████████████████████████████████████████████████████████████████████████████████████████████████████████████████████████████████████████████████████████| 196/196 [01:08<00:00,  2.87it/s, loss=1.8018, acc_t=0.5687, acc=0.6059]\n"
     ]
    },
    {
     "name": "stdout",
     "output_type": "stream",
     "text": [
      "Average Train Loss: 1.6830; Test Loss: 2.9376;                 Train Accuracy: 0.6059; Test Accuracy: 0.4274;\n"
     ]
    },
    {
     "name": "stderr",
     "output_type": "stream",
     "text": [
      "Epoch 209/500: 100%|██████████████████████████████████████████████████████████████████████████████████████████████████████████████████████████████████████████████████████████████████████████████████████████████████████████████████████████████████████████████████████████| 196/196 [01:08<00:00,  2.87it/s, loss=1.7145, acc_t=0.5750, acc=0.6064]\n"
     ]
    },
    {
     "name": "stdout",
     "output_type": "stream",
     "text": [
      "Average Train Loss: 1.6732; Test Loss: 2.9019;                 Train Accuracy: 0.6064; Test Accuracy: 0.4206;\n"
     ]
    },
    {
     "name": "stderr",
     "output_type": "stream",
     "text": [
      "Epoch 210/500: 100%|██████████████████████████████████████████████████████████████████████████████████████████████████████████████████████████████████████████████████████████████████████████████████████████████████████████████████████████████████████████████████████████| 196/196 [01:08<00:00,  2.86it/s, loss=1.6917, acc_t=0.5813, acc=0.6057]\n"
     ]
    },
    {
     "name": "stdout",
     "output_type": "stream",
     "text": [
      "Average Train Loss: 1.6829; Test Loss: 2.9108;                 Train Accuracy: 0.6057; Test Accuracy: 0.4162;\n"
     ]
    },
    {
     "name": "stderr",
     "output_type": "stream",
     "text": [
      "Epoch 211/500: 100%|██████████████████████████████████████████████████████████████████████████████████████████████████████████████████████████████████████████████████████████████████████████████████████████████████████████████████████████████████████████████████████████| 196/196 [01:08<00:00,  2.86it/s, loss=1.8271, acc_t=0.5625, acc=0.6085]\n"
     ]
    },
    {
     "name": "stdout",
     "output_type": "stream",
     "text": [
      "Average Train Loss: 1.6700; Test Loss: 2.7415;                 Train Accuracy: 0.6085; Test Accuracy: 0.4472;\n"
     ]
    },
    {
     "name": "stderr",
     "output_type": "stream",
     "text": [
      "Epoch 212/500: 100%|██████████████████████████████████████████████████████████████████████████████████████████████████████████████████████████████████████████████████████████████████████████████████████████████████████████████████████████████████████████████████████████| 196/196 [01:08<00:00,  2.86it/s, loss=1.5256, acc_t=0.6312, acc=0.6103]\n"
     ]
    },
    {
     "name": "stdout",
     "output_type": "stream",
     "text": [
      "Average Train Loss: 1.6660; Test Loss: 2.8319;                 Train Accuracy: 0.6103; Test Accuracy: 0.4346;\n"
     ]
    },
    {
     "name": "stderr",
     "output_type": "stream",
     "text": [
      "Epoch 213/500: 100%|██████████████████████████████████████████████████████████████████████████████████████████████████████████████████████████████████████████████████████████████████████████████████████████████████████████████████████████████████████████████████████████| 196/196 [01:08<00:00,  2.86it/s, loss=1.7432, acc_t=0.6000, acc=0.6063]\n"
     ]
    },
    {
     "name": "stdout",
     "output_type": "stream",
     "text": [
      "Average Train Loss: 1.6723; Test Loss: 2.8857;                 Train Accuracy: 0.6063; Test Accuracy: 0.4334;\n"
     ]
    },
    {
     "name": "stderr",
     "output_type": "stream",
     "text": [
      "Epoch 214/500: 100%|██████████████████████████████████████████████████████████████████████████████████████████████████████████████████████████████████████████████████████████████████████████████████████████████████████████████████████████████████████████████████████████| 196/196 [01:08<00:00,  2.86it/s, loss=1.9300, acc_t=0.5750, acc=0.6075]\n"
     ]
    },
    {
     "name": "stdout",
     "output_type": "stream",
     "text": [
      "Average Train Loss: 1.6672; Test Loss: 2.8146;                 Train Accuracy: 0.6075; Test Accuracy: 0.4334;\n"
     ]
    },
    {
     "name": "stderr",
     "output_type": "stream",
     "text": [
      "Epoch 215/500: 100%|██████████████████████████████████████████████████████████████████████████████████████████████████████████████████████████████████████████████████████████████████████████████████████████████████████████████████████████████████████████████████████████| 196/196 [01:08<00:00,  2.88it/s, loss=1.6044, acc_t=0.6500, acc=0.6104]\n"
     ]
    },
    {
     "name": "stdout",
     "output_type": "stream",
     "text": [
      "Average Train Loss: 1.6557; Test Loss: 2.8293;                 Train Accuracy: 0.6104; Test Accuracy: 0.4388;\n"
     ]
    },
    {
     "name": "stderr",
     "output_type": "stream",
     "text": [
      "Epoch 216/500: 100%|██████████████████████████████████████████████████████████████████████████████████████████████████████████████████████████████████████████████████████████████████████████████████████████████████████████████████████████████████████████████████████████| 196/196 [01:08<00:00,  2.86it/s, loss=1.6453, acc_t=0.6125, acc=0.6088]\n"
     ]
    },
    {
     "name": "stdout",
     "output_type": "stream",
     "text": [
      "Average Train Loss: 1.6620; Test Loss: 2.8965;                 Train Accuracy: 0.6088; Test Accuracy: 0.4320;\n"
     ]
    },
    {
     "name": "stderr",
     "output_type": "stream",
     "text": [
      "Epoch 217/500: 100%|██████████████████████████████████████████████████████████████████████████████████████████████████████████████████████████████████████████████████████████████████████████████████████████████████████████████████████████████████████████████████████████| 196/196 [01:08<00:00,  2.87it/s, loss=1.9138, acc_t=0.5875, acc=0.6143]\n"
     ]
    },
    {
     "name": "stdout",
     "output_type": "stream",
     "text": [
      "Average Train Loss: 1.6515; Test Loss: 2.8708;                 Train Accuracy: 0.6143; Test Accuracy: 0.4336;\n"
     ]
    },
    {
     "name": "stderr",
     "output_type": "stream",
     "text": [
      "Epoch 218/500: 100%|██████████████████████████████████████████████████████████████████████████████████████████████████████████████████████████████████████████████████████████████████████████████████████████████████████████████████████████████████████████████████████████| 196/196 [01:08<00:00,  2.86it/s, loss=1.6278, acc_t=0.6188, acc=0.6100]\n"
     ]
    },
    {
     "name": "stdout",
     "output_type": "stream",
     "text": [
      "Average Train Loss: 1.6542; Test Loss: 2.8063;                 Train Accuracy: 0.6100; Test Accuracy: 0.4394;\n"
     ]
    },
    {
     "name": "stderr",
     "output_type": "stream",
     "text": [
      "Epoch 219/500: 100%|██████████████████████████████████████████████████████████████████████████████████████████████████████████████████████████████████████████████████████████████████████████████████████████████████████████████████████████████████████████████████████████| 196/196 [01:08<00:00,  2.85it/s, loss=1.7149, acc_t=0.6125, acc=0.6125]\n"
     ]
    },
    {
     "name": "stdout",
     "output_type": "stream",
     "text": [
      "Average Train Loss: 1.6472; Test Loss: 2.8300;                 Train Accuracy: 0.6125; Test Accuracy: 0.4378;\n"
     ]
    },
    {
     "name": "stderr",
     "output_type": "stream",
     "text": [
      "Epoch 220/500: 100%|██████████████████████████████████████████████████████████████████████████████████████████████████████████████████████████████████████████████████████████████████████████████████████████████████████████████████████████████████████████████████████████| 196/196 [01:09<00:00,  2.84it/s, loss=1.6223, acc_t=0.6375, acc=0.6168]\n"
     ]
    },
    {
     "name": "stdout",
     "output_type": "stream",
     "text": [
      "Average Train Loss: 1.6297; Test Loss: 2.7959;                 Train Accuracy: 0.6168; Test Accuracy: 0.4500;\n"
     ]
    },
    {
     "name": "stderr",
     "output_type": "stream",
     "text": [
      "Epoch 221/500: 100%|██████████████████████████████████████████████████████████████████████████████████████████████████████████████████████████████████████████████████████████████████████████████████████████████████████████████████████████████████████████████████████████| 196/196 [01:08<00:00,  2.86it/s, loss=1.5712, acc_t=0.5813, acc=0.6164]\n"
     ]
    },
    {
     "name": "stdout",
     "output_type": "stream",
     "text": [
      "Average Train Loss: 1.6351; Test Loss: 2.8105;                 Train Accuracy: 0.6164; Test Accuracy: 0.4452;\n"
     ]
    },
    {
     "name": "stderr",
     "output_type": "stream",
     "text": [
      "Epoch 222/500: 100%|██████████████████████████████████████████████████████████████████████████████████████████████████████████████████████████████████████████████████████████████████████████████████████████████████████████████████████████████████████████████████████████| 196/196 [01:08<00:00,  2.86it/s, loss=1.5678, acc_t=0.6062, acc=0.6167]\n"
     ]
    },
    {
     "name": "stdout",
     "output_type": "stream",
     "text": [
      "Average Train Loss: 1.6342; Test Loss: 2.8739;                 Train Accuracy: 0.6167; Test Accuracy: 0.4310;\n"
     ]
    },
    {
     "name": "stderr",
     "output_type": "stream",
     "text": [
      "Epoch 223/500: 100%|██████████████████████████████████████████████████████████████████████████████████████████████████████████████████████████████████████████████████████████████████████████████████████████████████████████████████████████████████████████████████████████| 196/196 [01:08<00:00,  2.85it/s, loss=1.8764, acc_t=0.6000, acc=0.6177]\n"
     ]
    },
    {
     "name": "stdout",
     "output_type": "stream",
     "text": [
      "Average Train Loss: 1.6311; Test Loss: 2.8603;                 Train Accuracy: 0.6177; Test Accuracy: 0.4332;\n"
     ]
    },
    {
     "name": "stderr",
     "output_type": "stream",
     "text": [
      "Epoch 224/500: 100%|██████████████████████████████████████████████████████████████████████████████████████████████████████████████████████████████████████████████████████████████████████████████████████████████████████████████████████████████████████████████████████████| 196/196 [01:08<00:00,  2.85it/s, loss=1.6581, acc_t=0.5938, acc=0.6185]\n"
     ]
    },
    {
     "name": "stdout",
     "output_type": "stream",
     "text": [
      "Average Train Loss: 1.6199; Test Loss: 2.8316;                 Train Accuracy: 0.6185; Test Accuracy: 0.4348;\n"
     ]
    },
    {
     "name": "stderr",
     "output_type": "stream",
     "text": [
      "Epoch 225/500: 100%|██████████████████████████████████████████████████████████████████████████████████████████████████████████████████████████████████████████████████████████████████████████████████████████████████████████████████████████████████████████████████████████| 196/196 [01:08<00:00,  2.86it/s, loss=1.8677, acc_t=0.5375, acc=0.6159]\n"
     ]
    },
    {
     "name": "stdout",
     "output_type": "stream",
     "text": [
      "Average Train Loss: 1.6337; Test Loss: 2.7916;                 Train Accuracy: 0.6159; Test Accuracy: 0.4372;\n"
     ]
    },
    {
     "name": "stderr",
     "output_type": "stream",
     "text": [
      "Epoch 226/500: 100%|██████████████████████████████████████████████████████████████████████████████████████████████████████████████████████████████████████████████████████████████████████████████████████████████████████████████████████████████████████████████████████████| 196/196 [01:08<00:00,  2.86it/s, loss=1.6536, acc_t=0.6188, acc=0.6168]\n"
     ]
    },
    {
     "name": "stdout",
     "output_type": "stream",
     "text": [
      "Average Train Loss: 1.6322; Test Loss: 2.8205;                 Train Accuracy: 0.6168; Test Accuracy: 0.4382;\n"
     ]
    },
    {
     "name": "stderr",
     "output_type": "stream",
     "text": [
      "Epoch 227/500: 100%|██████████████████████████████████████████████████████████████████████████████████████████████████████████████████████████████████████████████████████████████████████████████████████████████████████████████████████████████████████████████████████████| 196/196 [01:08<00:00,  2.87it/s, loss=1.7202, acc_t=0.6062, acc=0.6187]\n"
     ]
    },
    {
     "name": "stdout",
     "output_type": "stream",
     "text": [
      "Average Train Loss: 1.6222; Test Loss: 2.7982;                 Train Accuracy: 0.6187; Test Accuracy: 0.4364;\n"
     ]
    },
    {
     "name": "stderr",
     "output_type": "stream",
     "text": [
      "Epoch 228/500: 100%|██████████████████████████████████████████████████████████████████████████████████████████████████████████████████████████████████████████████████████████████████████████████████████████████████████████████████████████████████████████████████████████| 196/196 [01:08<00:00,  2.85it/s, loss=1.5564, acc_t=0.6250, acc=0.6222]\n"
     ]
    },
    {
     "name": "stdout",
     "output_type": "stream",
     "text": [
      "Average Train Loss: 1.6066; Test Loss: 2.8139;                 Train Accuracy: 0.6222; Test Accuracy: 0.4462;\n"
     ]
    },
    {
     "name": "stderr",
     "output_type": "stream",
     "text": [
      "Epoch 229/500: 100%|██████████████████████████████████████████████████████████████████████████████████████████████████████████████████████████████████████████████████████████████████████████████████████████████████████████████████████████████████████████████████████████| 196/196 [01:08<00:00,  2.87it/s, loss=1.9128, acc_t=0.5625, acc=0.6220]\n"
     ]
    },
    {
     "name": "stdout",
     "output_type": "stream",
     "text": [
      "Average Train Loss: 1.6111; Test Loss: 2.8778;                 Train Accuracy: 0.6220; Test Accuracy: 0.4420;\n"
     ]
    },
    {
     "name": "stderr",
     "output_type": "stream",
     "text": [
      "Epoch 230/500: 100%|██████████████████████████████████████████████████████████████████████████████████████████████████████████████████████████████████████████████████████████████████████████████████████████████████████████████████████████████████████████████████████████| 196/196 [01:08<00:00,  2.87it/s, loss=1.6647, acc_t=0.6125, acc=0.6177]\n"
     ]
    },
    {
     "name": "stdout",
     "output_type": "stream",
     "text": [
      "Average Train Loss: 1.6240; Test Loss: 2.8952;                 Train Accuracy: 0.6177; Test Accuracy: 0.4356;\n"
     ]
    },
    {
     "name": "stderr",
     "output_type": "stream",
     "text": [
      "Epoch 231/500: 100%|██████████████████████████████████████████████████████████████████████████████████████████████████████████████████████████████████████████████████████████████████████████████████████████████████████████████████████████████████████████████████████████| 196/196 [01:08<00:00,  2.84it/s, loss=1.6515, acc_t=0.6000, acc=0.6244]\n"
     ]
    },
    {
     "name": "stdout",
     "output_type": "stream",
     "text": [
      "Average Train Loss: 1.5976; Test Loss: 2.8077;                 Train Accuracy: 0.6244; Test Accuracy: 0.4354;\n"
     ]
    },
    {
     "name": "stderr",
     "output_type": "stream",
     "text": [
      "Epoch 232/500: 100%|██████████████████████████████████████████████████████████████████████████████████████████████████████████████████████████████████████████████████████████████████████████████████████████████████████████████████████████████████████████████████████████| 196/196 [01:08<00:00,  2.86it/s, loss=1.6006, acc_t=0.6625, acc=0.6216]\n"
     ]
    },
    {
     "name": "stdout",
     "output_type": "stream",
     "text": [
      "Average Train Loss: 1.6140; Test Loss: 2.8587;                 Train Accuracy: 0.6216; Test Accuracy: 0.4454;\n"
     ]
    },
    {
     "name": "stderr",
     "output_type": "stream",
     "text": [
      "Epoch 233/500: 100%|██████████████████████████████████████████████████████████████████████████████████████████████████████████████████████████████████████████████████████████████████████████████████████████████████████████████████████████████████████████████████████████| 196/196 [01:08<00:00,  2.86it/s, loss=1.7285, acc_t=0.5938, acc=0.6231]\n"
     ]
    },
    {
     "name": "stdout",
     "output_type": "stream",
     "text": [
      "Average Train Loss: 1.6046; Test Loss: 2.8147;                 Train Accuracy: 0.6231; Test Accuracy: 0.4386;\n"
     ]
    },
    {
     "name": "stderr",
     "output_type": "stream",
     "text": [
      "Epoch 234/500: 100%|██████████████████████████████████████████████████████████████████████████████████████████████████████████████████████████████████████████████████████████████████████████████████████████████████████████████████████████████████████████████████████████| 196/196 [01:08<00:00,  2.86it/s, loss=1.8623, acc_t=0.5500, acc=0.6218]\n"
     ]
    },
    {
     "name": "stdout",
     "output_type": "stream",
     "text": [
      "Average Train Loss: 1.6145; Test Loss: 2.8449;                 Train Accuracy: 0.6218; Test Accuracy: 0.4364;\n"
     ]
    },
    {
     "name": "stderr",
     "output_type": "stream",
     "text": [
      "Epoch 235/500: 100%|██████████████████████████████████████████████████████████████████████████████████████████████████████████████████████████████████████████████████████████████████████████████████████████████████████████████████████████████████████████████████████████| 196/196 [01:08<00:00,  2.87it/s, loss=1.5992, acc_t=0.6375, acc=0.6233]\n"
     ]
    },
    {
     "name": "stdout",
     "output_type": "stream",
     "text": [
      "Average Train Loss: 1.6049; Test Loss: 2.8491;                 Train Accuracy: 0.6233; Test Accuracy: 0.4364;\n"
     ]
    },
    {
     "name": "stderr",
     "output_type": "stream",
     "text": [
      "Epoch 236/500: 100%|██████████████████████████████████████████████████████████████████████████████████████████████████████████████████████████████████████████████████████████████████████████████████████████████████████████████████████████████████████████████████████████| 196/196 [01:08<00:00,  2.85it/s, loss=1.6206, acc_t=0.5813, acc=0.6309]\n"
     ]
    },
    {
     "name": "stdout",
     "output_type": "stream",
     "text": [
      "Average Train Loss: 1.5743; Test Loss: 2.8862;                 Train Accuracy: 0.6309; Test Accuracy: 0.4322;\n"
     ]
    },
    {
     "name": "stderr",
     "output_type": "stream",
     "text": [
      "Epoch 237/500: 100%|██████████████████████████████████████████████████████████████████████████████████████████████████████████████████████████████████████████████████████████████████████████████████████████████████████████████████████████████████████████████████████████| 196/196 [01:08<00:00,  2.86it/s, loss=1.3799, acc_t=0.6750, acc=0.6243]\n"
     ]
    },
    {
     "name": "stdout",
     "output_type": "stream",
     "text": [
      "Average Train Loss: 1.5965; Test Loss: 2.8268;                 Train Accuracy: 0.6243; Test Accuracy: 0.4374;\n"
     ]
    },
    {
     "name": "stderr",
     "output_type": "stream",
     "text": [
      "Epoch 238/500: 100%|██████████████████████████████████████████████████████████████████████████████████████████████████████████████████████████████████████████████████████████████████████████████████████████████████████████████████████████████████████████████████████████| 196/196 [01:08<00:00,  2.85it/s, loss=1.4999, acc_t=0.6500, acc=0.6275]\n"
     ]
    },
    {
     "name": "stdout",
     "output_type": "stream",
     "text": [
      "Average Train Loss: 1.5794; Test Loss: 2.8027;                 Train Accuracy: 0.6275; Test Accuracy: 0.4478;\n"
     ]
    },
    {
     "name": "stderr",
     "output_type": "stream",
     "text": [
      "Epoch 239/500: 100%|██████████████████████████████████████████████████████████████████████████████████████████████████████████████████████████████████████████████████████████████████████████████████████████████████████████████████████████████████████████████████████████| 196/196 [01:08<00:00,  2.87it/s, loss=1.6871, acc_t=0.6188, acc=0.6286]\n"
     ]
    },
    {
     "name": "stdout",
     "output_type": "stream",
     "text": [
      "Average Train Loss: 1.5782; Test Loss: 2.8761;                 Train Accuracy: 0.6286; Test Accuracy: 0.4438;\n"
     ]
    },
    {
     "name": "stderr",
     "output_type": "stream",
     "text": [
      "Epoch 240/500: 100%|██████████████████████████████████████████████████████████████████████████████████████████████████████████████████████████████████████████████████████████████████████████████████████████████████████████████████████████████████████████████████████████| 196/196 [01:08<00:00,  2.86it/s, loss=1.3860, acc_t=0.6625, acc=0.6291]\n"
     ]
    },
    {
     "name": "stdout",
     "output_type": "stream",
     "text": [
      "Average Train Loss: 1.5735; Test Loss: 2.8257;                 Train Accuracy: 0.6291; Test Accuracy: 0.4406;\n"
     ]
    },
    {
     "name": "stderr",
     "output_type": "stream",
     "text": [
      "Epoch 241/500: 100%|██████████████████████████████████████████████████████████████████████████████████████████████████████████████████████████████████████████████████████████████████████████████████████████████████████████████████████████████████████████████████████████| 196/196 [01:08<00:00,  2.86it/s, loss=1.7240, acc_t=0.5750, acc=0.6308]\n"
     ]
    },
    {
     "name": "stdout",
     "output_type": "stream",
     "text": [
      "Average Train Loss: 1.5732; Test Loss: 2.8254;                 Train Accuracy: 0.6308; Test Accuracy: 0.4430;\n"
     ]
    },
    {
     "name": "stderr",
     "output_type": "stream",
     "text": [
      "Epoch 242/500: 100%|██████████████████████████████████████████████████████████████████████████████████████████████████████████████████████████████████████████████████████████████████████████████████████████████████████████████████████████████████████████████████████████| 196/196 [01:09<00:00,  2.84it/s, loss=1.3696, acc_t=0.6562, acc=0.6352]\n"
     ]
    },
    {
     "name": "stdout",
     "output_type": "stream",
     "text": [
      "Average Train Loss: 1.5537; Test Loss: 2.7817;                 Train Accuracy: 0.6352; Test Accuracy: 0.4418;\n"
     ]
    },
    {
     "name": "stderr",
     "output_type": "stream",
     "text": [
      "Epoch 243/500: 100%|██████████████████████████████████████████████████████████████████████████████████████████████████████████████████████████████████████████████████████████████████████████████████████████████████████████████████████████████████████████████████████████| 196/196 [01:08<00:00,  2.85it/s, loss=1.3128, acc_t=0.6625, acc=0.6272]\n"
     ]
    },
    {
     "name": "stdout",
     "output_type": "stream",
     "text": [
      "Average Train Loss: 1.5803; Test Loss: 2.7878;                 Train Accuracy: 0.6272; Test Accuracy: 0.4392;\n"
     ]
    },
    {
     "name": "stderr",
     "output_type": "stream",
     "text": [
      "Epoch 244/500: 100%|██████████████████████████████████████████████████████████████████████████████████████████████████████████████████████████████████████████████████████████████████████████████████████████████████████████████████████████████████████████████████████████| 196/196 [01:08<00:00,  2.85it/s, loss=1.6333, acc_t=0.5687, acc=0.6286]\n"
     ]
    },
    {
     "name": "stdout",
     "output_type": "stream",
     "text": [
      "Average Train Loss: 1.5853; Test Loss: 2.8102;                 Train Accuracy: 0.6286; Test Accuracy: 0.4476;\n"
     ]
    },
    {
     "name": "stderr",
     "output_type": "stream",
     "text": [
      "Epoch 245/500: 100%|██████████████████████████████████████████████████████████████████████████████████████████████████████████████████████████████████████████████████████████████████████████████████████████████████████████████████████████████████████████████████████████| 196/196 [01:08<00:00,  2.87it/s, loss=1.5993, acc_t=0.6250, acc=0.6348]\n"
     ]
    },
    {
     "name": "stdout",
     "output_type": "stream",
     "text": [
      "Average Train Loss: 1.5527; Test Loss: 2.8647;                 Train Accuracy: 0.6348; Test Accuracy: 0.4402;\n"
     ]
    },
    {
     "name": "stderr",
     "output_type": "stream",
     "text": [
      "Epoch 246/500: 100%|██████████████████████████████████████████████████████████████████████████████████████████████████████████████████████████████████████████████████████████████████████████████████████████████████████████████████████████████████████████████████████████| 196/196 [01:08<00:00,  2.85it/s, loss=1.5008, acc_t=0.6250, acc=0.6331]\n"
     ]
    },
    {
     "name": "stdout",
     "output_type": "stream",
     "text": [
      "Average Train Loss: 1.5658; Test Loss: 2.9189;                 Train Accuracy: 0.6331; Test Accuracy: 0.4400;\n"
     ]
    },
    {
     "name": "stderr",
     "output_type": "stream",
     "text": [
      "Epoch 247/500: 100%|██████████████████████████████████████████████████████████████████████████████████████████████████████████████████████████████████████████████████████████████████████████████████████████████████████████████████████████████████████████████████████████| 196/196 [01:08<00:00,  2.85it/s, loss=1.6846, acc_t=0.6250, acc=0.6364]\n"
     ]
    },
    {
     "name": "stdout",
     "output_type": "stream",
     "text": [
      "Average Train Loss: 1.5505; Test Loss: 2.8172;                 Train Accuracy: 0.6364; Test Accuracy: 0.4522;\n"
     ]
    },
    {
     "name": "stderr",
     "output_type": "stream",
     "text": [
      "Epoch 248/500: 100%|██████████████████████████████████████████████████████████████████████████████████████████████████████████████████████████████████████████████████████████████████████████████████████████████████████████████████████████████████████████████████████████| 196/196 [01:08<00:00,  2.86it/s, loss=1.7563, acc_t=0.5938, acc=0.6372]\n"
     ]
    },
    {
     "name": "stdout",
     "output_type": "stream",
     "text": [
      "Average Train Loss: 1.5434; Test Loss: 2.8403;                 Train Accuracy: 0.6372; Test Accuracy: 0.4430;\n"
     ]
    },
    {
     "name": "stderr",
     "output_type": "stream",
     "text": [
      "Epoch 249/500: 100%|██████████████████████████████████████████████████████████████████████████████████████████████████████████████████████████████████████████████████████████████████████████████████████████████████████████████████████████████████████████████████████████| 196/196 [01:08<00:00,  2.86it/s, loss=1.5440, acc_t=0.6562, acc=0.6321]\n"
     ]
    },
    {
     "name": "stdout",
     "output_type": "stream",
     "text": [
      "Average Train Loss: 1.5629; Test Loss: 2.7841;                 Train Accuracy: 0.6321; Test Accuracy: 0.4430;\n"
     ]
    },
    {
     "name": "stderr",
     "output_type": "stream",
     "text": [
      "Epoch 250/500: 100%|██████████████████████████████████████████████████████████████████████████████████████████████████████████████████████████████████████████████████████████████████████████████████████████████████████████████████████████████████████████████████████████| 196/196 [01:08<00:00,  2.87it/s, loss=1.8128, acc_t=0.5687, acc=0.6365]\n"
     ]
    },
    {
     "name": "stdout",
     "output_type": "stream",
     "text": [
      "Average Train Loss: 1.5458; Test Loss: 2.7769;                 Train Accuracy: 0.6365; Test Accuracy: 0.4472;\n"
     ]
    },
    {
     "name": "stderr",
     "output_type": "stream",
     "text": [
      "Epoch 251/500: 100%|██████████████████████████████████████████████████████████████████████████████████████████████████████████████████████████████████████████████████████████████████████████████████████████████████████████████████████████████████████████████████████████| 196/196 [01:08<00:00,  2.86it/s, loss=1.8477, acc_t=0.5813, acc=0.6389]\n"
     ]
    },
    {
     "name": "stdout",
     "output_type": "stream",
     "text": [
      "Average Train Loss: 1.5405; Test Loss: 2.8962;                 Train Accuracy: 0.6389; Test Accuracy: 0.4386;\n"
     ]
    },
    {
     "name": "stderr",
     "output_type": "stream",
     "text": [
      "Epoch 252/500: 100%|██████████████████████████████████████████████████████████████████████████████████████████████████████████████████████████████████████████████████████████████████████████████████████████████████████████████████████████████████████████████████████████| 196/196 [01:08<00:00,  2.86it/s, loss=1.4685, acc_t=0.6250, acc=0.6366]\n"
     ]
    },
    {
     "name": "stdout",
     "output_type": "stream",
     "text": [
      "Average Train Loss: 1.5410; Test Loss: 2.8903;                 Train Accuracy: 0.6366; Test Accuracy: 0.4310;\n"
     ]
    },
    {
     "name": "stderr",
     "output_type": "stream",
     "text": [
      "Epoch 253/500: 100%|██████████████████████████████████████████████████████████████████████████████████████████████████████████████████████████████████████████████████████████████████████████████████████████████████████████████████████████████████████████████████████████| 196/196 [01:08<00:00,  2.87it/s, loss=1.6178, acc_t=0.6062, acc=0.6367]\n"
     ]
    },
    {
     "name": "stdout",
     "output_type": "stream",
     "text": [
      "Average Train Loss: 1.5432; Test Loss: 2.8003;                 Train Accuracy: 0.6367; Test Accuracy: 0.4390;\n"
     ]
    },
    {
     "name": "stderr",
     "output_type": "stream",
     "text": [
      "Epoch 254/500: 100%|██████████████████████████████████████████████████████████████████████████████████████████████████████████████████████████████████████████████████████████████████████████████████████████████████████████████████████████████████████████████████████████| 196/196 [01:08<00:00,  2.86it/s, loss=1.5428, acc_t=0.6438, acc=0.6364]\n"
     ]
    },
    {
     "name": "stdout",
     "output_type": "stream",
     "text": [
      "Average Train Loss: 1.5432; Test Loss: 2.8149;                 Train Accuracy: 0.6364; Test Accuracy: 0.4470;\n"
     ]
    },
    {
     "name": "stderr",
     "output_type": "stream",
     "text": [
      "Epoch 255/500: 100%|██████████████████████████████████████████████████████████████████████████████████████████████████████████████████████████████████████████████████████████████████████████████████████████████████████████████████████████████████████████████████████████| 196/196 [01:08<00:00,  2.86it/s, loss=1.5908, acc_t=0.6438, acc=0.6415]\n"
     ]
    },
    {
     "name": "stdout",
     "output_type": "stream",
     "text": [
      "Average Train Loss: 1.5264; Test Loss: 2.8247;                 Train Accuracy: 0.6415; Test Accuracy: 0.4426;\n"
     ]
    },
    {
     "name": "stderr",
     "output_type": "stream",
     "text": [
      "Epoch 256/500: 100%|██████████████████████████████████████████████████████████████████████████████████████████████████████████████████████████████████████████████████████████████████████████████████████████████████████████████████████████████████████████████████████████| 196/196 [01:08<00:00,  2.85it/s, loss=1.7571, acc_t=0.5813, acc=0.6384]\n"
     ]
    },
    {
     "name": "stdout",
     "output_type": "stream",
     "text": [
      "Average Train Loss: 1.5410; Test Loss: 2.9049;                 Train Accuracy: 0.6384; Test Accuracy: 0.4404;\n"
     ]
    },
    {
     "name": "stderr",
     "output_type": "stream",
     "text": [
      "Epoch 257/500: 100%|██████████████████████████████████████████████████████████████████████████████████████████████████████████████████████████████████████████████████████████████████████████████████████████████████████████████████████████████████████████████████████████| 196/196 [01:08<00:00,  2.85it/s, loss=1.7074, acc_t=0.5750, acc=0.6416]\n"
     ]
    },
    {
     "name": "stdout",
     "output_type": "stream",
     "text": [
      "Average Train Loss: 1.5215; Test Loss: 2.7730;                 Train Accuracy: 0.6416; Test Accuracy: 0.4470;\n"
     ]
    },
    {
     "name": "stderr",
     "output_type": "stream",
     "text": [
      "Epoch 258/500: 100%|██████████████████████████████████████████████████████████████████████████████████████████████████████████████████████████████████████████████████████████████████████████████████████████████████████████████████████████████████████████████████████████| 196/196 [01:08<00:00,  2.85it/s, loss=1.4108, acc_t=0.6500, acc=0.6422]\n"
     ]
    },
    {
     "name": "stdout",
     "output_type": "stream",
     "text": [
      "Average Train Loss: 1.5183; Test Loss: 2.7834;                 Train Accuracy: 0.6422; Test Accuracy: 0.4446;\n"
     ]
    },
    {
     "name": "stderr",
     "output_type": "stream",
     "text": [
      "Epoch 259/500: 100%|██████████████████████████████████████████████████████████████████████████████████████████████████████████████████████████████████████████████████████████████████████████████████████████████████████████████████████████████████████████████████████████| 196/196 [01:08<00:00,  2.86it/s, loss=1.5075, acc_t=0.6312, acc=0.6419]\n"
     ]
    },
    {
     "name": "stdout",
     "output_type": "stream",
     "text": [
      "Average Train Loss: 1.5222; Test Loss: 2.8315;                 Train Accuracy: 0.6419; Test Accuracy: 0.4470;\n"
     ]
    },
    {
     "name": "stderr",
     "output_type": "stream",
     "text": [
      "Epoch 260/500: 100%|██████████████████████████████████████████████████████████████████████████████████████████████████████████████████████████████████████████████████████████████████████████████████████████████████████████████████████████████████████████████████████████| 196/196 [01:08<00:00,  2.86it/s, loss=1.4894, acc_t=0.6750, acc=0.6420]\n"
     ]
    },
    {
     "name": "stdout",
     "output_type": "stream",
     "text": [
      "Average Train Loss: 1.5254; Test Loss: 2.8793;                 Train Accuracy: 0.6420; Test Accuracy: 0.4408;\n"
     ]
    },
    {
     "name": "stderr",
     "output_type": "stream",
     "text": [
      "Epoch 261/500: 100%|██████████████████████████████████████████████████████████████████████████████████████████████████████████████████████████████████████████████████████████████████████████████████████████████████████████████████████████████████████████████████████████| 196/196 [01:08<00:00,  2.86it/s, loss=1.6429, acc_t=0.6125, acc=0.6413]\n"
     ]
    },
    {
     "name": "stdout",
     "output_type": "stream",
     "text": [
      "Average Train Loss: 1.5330; Test Loss: 2.8053;                 Train Accuracy: 0.6413; Test Accuracy: 0.4492;\n"
     ]
    },
    {
     "name": "stderr",
     "output_type": "stream",
     "text": [
      "Epoch 262/500: 100%|██████████████████████████████████████████████████████████████████████████████████████████████████████████████████████████████████████████████████████████████████████████████████████████████████████████████████████████████████████████████████████████| 196/196 [01:08<00:00,  2.86it/s, loss=1.6822, acc_t=0.6312, acc=0.6436]\n"
     ]
    },
    {
     "name": "stdout",
     "output_type": "stream",
     "text": [
      "Average Train Loss: 1.5169; Test Loss: 2.7753;                 Train Accuracy: 0.6436; Test Accuracy: 0.4560;\n"
     ]
    },
    {
     "name": "stderr",
     "output_type": "stream",
     "text": [
      "Epoch 263/500: 100%|██████████████████████████████████████████████████████████████████████████████████████████████████████████████████████████████████████████████████████████████████████████████████████████████████████████████████████████████████████████████████████████| 196/196 [01:08<00:00,  2.86it/s, loss=1.4423, acc_t=0.6875, acc=0.6462]\n"
     ]
    },
    {
     "name": "stdout",
     "output_type": "stream",
     "text": [
      "Average Train Loss: 1.5062; Test Loss: 2.7240;                 Train Accuracy: 0.6462; Test Accuracy: 0.4486;\n"
     ]
    },
    {
     "name": "stderr",
     "output_type": "stream",
     "text": [
      "Epoch 264/500: 100%|██████████████████████████████████████████████████████████████████████████████████████████████████████████████████████████████████████████████████████████████████████████████████████████████████████████████████████████████████████████████████████████| 196/196 [01:08<00:00,  2.85it/s, loss=1.4139, acc_t=0.6750, acc=0.6431]\n"
     ]
    },
    {
     "name": "stdout",
     "output_type": "stream",
     "text": [
      "Average Train Loss: 1.5169; Test Loss: 2.7932;                 Train Accuracy: 0.6431; Test Accuracy: 0.4460;\n"
     ]
    },
    {
     "name": "stderr",
     "output_type": "stream",
     "text": [
      "Epoch 265/500: 100%|██████████████████████████████████████████████████████████████████████████████████████████████████████████████████████████████████████████████████████████████████████████████████████████████████████████████████████████████████████████████████████████| 196/196 [01:08<00:00,  2.86it/s, loss=1.2934, acc_t=0.6750, acc=0.6483]\n"
     ]
    },
    {
     "name": "stdout",
     "output_type": "stream",
     "text": [
      "Average Train Loss: 1.4931; Test Loss: 2.8639;                 Train Accuracy: 0.6483; Test Accuracy: 0.4416;\n"
     ]
    },
    {
     "name": "stderr",
     "output_type": "stream",
     "text": [
      "Epoch 266/500: 100%|██████████████████████████████████████████████████████████████████████████████████████████████████████████████████████████████████████████████████████████████████████████████████████████████████████████████████████████████████████████████████████████| 196/196 [01:08<00:00,  2.85it/s, loss=1.8258, acc_t=0.5875, acc=0.6447]\n"
     ]
    },
    {
     "name": "stdout",
     "output_type": "stream",
     "text": [
      "Average Train Loss: 1.5134; Test Loss: 2.8278;                 Train Accuracy: 0.6447; Test Accuracy: 0.4480;\n"
     ]
    },
    {
     "name": "stderr",
     "output_type": "stream",
     "text": [
      "Epoch 267/500: 100%|██████████████████████████████████████████████████████████████████████████████████████████████████████████████████████████████████████████████████████████████████████████████████████████████████████████████████████████████████████████████████████████| 196/196 [01:08<00:00,  2.86it/s, loss=1.4325, acc_t=0.6312, acc=0.6463]\n"
     ]
    },
    {
     "name": "stdout",
     "output_type": "stream",
     "text": [
      "Average Train Loss: 1.5003; Test Loss: 2.7953;                 Train Accuracy: 0.6463; Test Accuracy: 0.4536;\n"
     ]
    },
    {
     "name": "stderr",
     "output_type": "stream",
     "text": [
      "Epoch 268/500: 100%|██████████████████████████████████████████████████████████████████████████████████████████████████████████████████████████████████████████████████████████████████████████████████████████████████████████████████████████████████████████████████████████| 196/196 [01:08<00:00,  2.87it/s, loss=1.2333, acc_t=0.7000, acc=0.6480]\n"
     ]
    },
    {
     "name": "stdout",
     "output_type": "stream",
     "text": [
      "Average Train Loss: 1.4936; Test Loss: 2.8146;                 Train Accuracy: 0.6480; Test Accuracy: 0.4496;\n"
     ]
    },
    {
     "name": "stderr",
     "output_type": "stream",
     "text": [
      "Epoch 269/500: 100%|██████████████████████████████████████████████████████████████████████████████████████████████████████████████████████████████████████████████████████████████████████████████████████████████████████████████████████████████████████████████████████████| 196/196 [01:08<00:00,  2.86it/s, loss=1.7139, acc_t=0.6125, acc=0.6518]\n"
     ]
    },
    {
     "name": "stdout",
     "output_type": "stream",
     "text": [
      "Average Train Loss: 1.4893; Test Loss: 2.8126;                 Train Accuracy: 0.6518; Test Accuracy: 0.4522;\n"
     ]
    },
    {
     "name": "stderr",
     "output_type": "stream",
     "text": [
      "Epoch 270/500: 100%|██████████████████████████████████████████████████████████████████████████████████████████████████████████████████████████████████████████████████████████████████████████████████████████████████████████████████████████████████████████████████████████| 196/196 [01:08<00:00,  2.85it/s, loss=1.5516, acc_t=0.6750, acc=0.6480]\n"
     ]
    },
    {
     "name": "stdout",
     "output_type": "stream",
     "text": [
      "Average Train Loss: 1.4916; Test Loss: 2.8116;                 Train Accuracy: 0.6480; Test Accuracy: 0.4544;\n"
     ]
    },
    {
     "name": "stderr",
     "output_type": "stream",
     "text": [
      "Epoch 271/500: 100%|██████████████████████████████████████████████████████████████████████████████████████████████████████████████████████████████████████████████████████████████████████████████████████████████████████████████████████████████████████████████████████████| 196/196 [01:08<00:00,  2.88it/s, loss=1.4821, acc_t=0.6875, acc=0.6539]\n"
     ]
    },
    {
     "name": "stdout",
     "output_type": "stream",
     "text": [
      "Average Train Loss: 1.4690; Test Loss: 2.7834;                 Train Accuracy: 0.6539; Test Accuracy: 0.4528;\n"
     ]
    },
    {
     "name": "stderr",
     "output_type": "stream",
     "text": [
      "Epoch 272/500: 100%|██████████████████████████████████████████████████████████████████████████████████████████████████████████████████████████████████████████████████████████████████████████████████████████████████████████████████████████████████████████████████████████| 196/196 [01:08<00:00,  2.87it/s, loss=1.4539, acc_t=0.6500, acc=0.6542]\n"
     ]
    },
    {
     "name": "stdout",
     "output_type": "stream",
     "text": [
      "Average Train Loss: 1.4690; Test Loss: 2.8497;                 Train Accuracy: 0.6542; Test Accuracy: 0.4484;\n"
     ]
    },
    {
     "name": "stderr",
     "output_type": "stream",
     "text": [
      "Epoch 273/500: 100%|██████████████████████████████████████████████████████████████████████████████████████████████████████████████████████████████████████████████████████████████████████████████████████████████████████████████████████████████████████████████████████████| 196/196 [01:08<00:00,  2.85it/s, loss=1.4568, acc_t=0.6687, acc=0.6532]\n"
     ]
    },
    {
     "name": "stdout",
     "output_type": "stream",
     "text": [
      "Average Train Loss: 1.4738; Test Loss: 2.7696;                 Train Accuracy: 0.6532; Test Accuracy: 0.4562;\n"
     ]
    },
    {
     "name": "stderr",
     "output_type": "stream",
     "text": [
      "Epoch 274/500: 100%|██████████████████████████████████████████████████████████████████████████████████████████████████████████████████████████████████████████████████████████████████████████████████████████████████████████████████████████████████████████████████████████| 196/196 [01:08<00:00,  2.85it/s, loss=1.4943, acc_t=0.6813, acc=0.6532]\n"
     ]
    },
    {
     "name": "stdout",
     "output_type": "stream",
     "text": [
      "Average Train Loss: 1.4773; Test Loss: 2.7758;                 Train Accuracy: 0.6532; Test Accuracy: 0.4554;\n"
     ]
    },
    {
     "name": "stderr",
     "output_type": "stream",
     "text": [
      "Epoch 275/500: 100%|██████████████████████████████████████████████████████████████████████████████████████████████████████████████████████████████████████████████████████████████████████████████████████████████████████████████████████████████████████████████████████████| 196/196 [01:08<00:00,  2.85it/s, loss=1.6195, acc_t=0.6312, acc=0.6478]\n"
     ]
    },
    {
     "name": "stdout",
     "output_type": "stream",
     "text": [
      "Average Train Loss: 1.5007; Test Loss: 2.8178;                 Train Accuracy: 0.6478; Test Accuracy: 0.4534;\n"
     ]
    },
    {
     "name": "stderr",
     "output_type": "stream",
     "text": [
      "Epoch 276/500: 100%|██████████████████████████████████████████████████████████████████████████████████████████████████████████████████████████████████████████████████████████████████████████████████████████████████████████████████████████████████████████████████████████| 196/196 [01:08<00:00,  2.86it/s, loss=1.5733, acc_t=0.6250, acc=0.6545]\n"
     ]
    },
    {
     "name": "stdout",
     "output_type": "stream",
     "text": [
      "Average Train Loss: 1.4720; Test Loss: 2.7830;                 Train Accuracy: 0.6545; Test Accuracy: 0.4520;\n"
     ]
    },
    {
     "name": "stderr",
     "output_type": "stream",
     "text": [
      "Epoch 277/500: 100%|██████████████████████████████████████████████████████████████████████████████████████████████████████████████████████████████████████████████████████████████████████████████████████████████████████████████████████████████████████████████████████████| 196/196 [01:08<00:00,  2.86it/s, loss=1.4811, acc_t=0.6125, acc=0.6537]\n"
     ]
    },
    {
     "name": "stdout",
     "output_type": "stream",
     "text": [
      "Average Train Loss: 1.4754; Test Loss: 2.8057;                 Train Accuracy: 0.6537; Test Accuracy: 0.4512;\n"
     ]
    },
    {
     "name": "stderr",
     "output_type": "stream",
     "text": [
      "Epoch 278/500: 100%|██████████████████████████████████████████████████████████████████████████████████████████████████████████████████████████████████████████████████████████████████████████████████████████████████████████████████████████████████████████████████████████| 196/196 [01:08<00:00,  2.87it/s, loss=1.5338, acc_t=0.6375, acc=0.6577]\n"
     ]
    },
    {
     "name": "stdout",
     "output_type": "stream",
     "text": [
      "Average Train Loss: 1.4579; Test Loss: 2.7956;                 Train Accuracy: 0.6577; Test Accuracy: 0.4524;\n"
     ]
    },
    {
     "name": "stderr",
     "output_type": "stream",
     "text": [
      "Epoch 279/500: 100%|██████████████████████████████████████████████████████████████████████████████████████████████████████████████████████████████████████████████████████████████████████████████████████████████████████████████████████████████████████████████████████████| 196/196 [01:08<00:00,  2.87it/s, loss=1.4022, acc_t=0.6312, acc=0.6544]\n"
     ]
    },
    {
     "name": "stdout",
     "output_type": "stream",
     "text": [
      "Average Train Loss: 1.4718; Test Loss: 2.8091;                 Train Accuracy: 0.6544; Test Accuracy: 0.4514;\n"
     ]
    },
    {
     "name": "stderr",
     "output_type": "stream",
     "text": [
      "Epoch 280/500: 100%|██████████████████████████████████████████████████████████████████████████████████████████████████████████████████████████████████████████████████████████████████████████████████████████████████████████████████████████████████████████████████████████| 196/196 [01:08<00:00,  2.87it/s, loss=1.6039, acc_t=0.6438, acc=0.6545]\n"
     ]
    },
    {
     "name": "stdout",
     "output_type": "stream",
     "text": [
      "Average Train Loss: 1.4794; Test Loss: 2.7887;                 Train Accuracy: 0.6545; Test Accuracy: 0.4504;\n"
     ]
    },
    {
     "name": "stderr",
     "output_type": "stream",
     "text": [
      "Epoch 281/500: 100%|██████████████████████████████████████████████████████████████████████████████████████████████████████████████████████████████████████████████████████████████████████████████████████████████████████████████████████████████████████████████████████████| 196/196 [01:08<00:00,  2.86it/s, loss=1.6618, acc_t=0.5687, acc=0.6562]\n"
     ]
    },
    {
     "name": "stdout",
     "output_type": "stream",
     "text": [
      "Average Train Loss: 1.4609; Test Loss: 2.7922;                 Train Accuracy: 0.6562; Test Accuracy: 0.4572;\n"
     ]
    },
    {
     "name": "stderr",
     "output_type": "stream",
     "text": [
      "Epoch 282/500: 100%|██████████████████████████████████████████████████████████████████████████████████████████████████████████████████████████████████████████████████████████████████████████████████████████████████████████████████████████████████████████████████████████| 196/196 [01:08<00:00,  2.85it/s, loss=1.7652, acc_t=0.5750, acc=0.6563]\n"
     ]
    },
    {
     "name": "stdout",
     "output_type": "stream",
     "text": [
      "Average Train Loss: 1.4609; Test Loss: 2.7502;                 Train Accuracy: 0.6563; Test Accuracy: 0.4464;\n"
     ]
    },
    {
     "name": "stderr",
     "output_type": "stream",
     "text": [
      "Epoch 283/500: 100%|██████████████████████████████████████████████████████████████████████████████████████████████████████████████████████████████████████████████████████████████████████████████████████████████████████████████████████████████████████████████████████████| 196/196 [01:08<00:00,  2.86it/s, loss=1.3361, acc_t=0.6687, acc=0.6527]\n"
     ]
    },
    {
     "name": "stdout",
     "output_type": "stream",
     "text": [
      "Average Train Loss: 1.4793; Test Loss: 2.8080;                 Train Accuracy: 0.6527; Test Accuracy: 0.4506;\n"
     ]
    },
    {
     "name": "stderr",
     "output_type": "stream",
     "text": [
      "Epoch 284/500: 100%|██████████████████████████████████████████████████████████████████████████████████████████████████████████████████████████████████████████████████████████████████████████████████████████████████████████████████████████████████████████████████████████| 196/196 [01:08<00:00,  2.85it/s, loss=1.6676, acc_t=0.6250, acc=0.6627]\n"
     ]
    },
    {
     "name": "stdout",
     "output_type": "stream",
     "text": [
      "Average Train Loss: 1.4384; Test Loss: 2.8351;                 Train Accuracy: 0.6627; Test Accuracy: 0.4514;\n"
     ]
    },
    {
     "name": "stderr",
     "output_type": "stream",
     "text": [
      "Epoch 285/500: 100%|██████████████████████████████████████████████████████████████████████████████████████████████████████████████████████████████████████████████████████████████████████████████████████████████████████████████████████████████████████████████████████████| 196/196 [01:08<00:00,  2.85it/s, loss=1.6128, acc_t=0.6188, acc=0.6589]\n"
     ]
    },
    {
     "name": "stdout",
     "output_type": "stream",
     "text": [
      "Average Train Loss: 1.4536; Test Loss: 2.8410;                 Train Accuracy: 0.6589; Test Accuracy: 0.4538;\n"
     ]
    },
    {
     "name": "stderr",
     "output_type": "stream",
     "text": [
      "Epoch 286/500: 100%|██████████████████████████████████████████████████████████████████████████████████████████████████████████████████████████████████████████████████████████████████████████████████████████████████████████████████████████████████████████████████████████| 196/196 [01:08<00:00,  2.86it/s, loss=1.6084, acc_t=0.6312, acc=0.6607]\n"
     ]
    },
    {
     "name": "stdout",
     "output_type": "stream",
     "text": [
      "Average Train Loss: 1.4500; Test Loss: 2.8320;                 Train Accuracy: 0.6607; Test Accuracy: 0.4490;\n"
     ]
    },
    {
     "name": "stderr",
     "output_type": "stream",
     "text": [
      "Epoch 287/500: 100%|██████████████████████████████████████████████████████████████████████████████████████████████████████████████████████████████████████████████████████████████████████████████████████████████████████████████████████████████████████████████████████████| 196/196 [01:08<00:00,  2.85it/s, loss=1.3838, acc_t=0.6625, acc=0.6598]\n"
     ]
    },
    {
     "name": "stdout",
     "output_type": "stream",
     "text": [
      "Average Train Loss: 1.4443; Test Loss: 2.8333;                 Train Accuracy: 0.6598; Test Accuracy: 0.4538;\n"
     ]
    },
    {
     "name": "stderr",
     "output_type": "stream",
     "text": [
      "Epoch 288/500: 100%|██████████████████████████████████████████████████████████████████████████████████████████████████████████████████████████████████████████████████████████████████████████████████████████████████████████████████████████████████████████████████████████| 196/196 [01:08<00:00,  2.84it/s, loss=1.5205, acc_t=0.6562, acc=0.6611]\n"
     ]
    },
    {
     "name": "stdout",
     "output_type": "stream",
     "text": [
      "Average Train Loss: 1.4480; Test Loss: 2.7966;                 Train Accuracy: 0.6611; Test Accuracy: 0.4572;\n"
     ]
    },
    {
     "name": "stderr",
     "output_type": "stream",
     "text": [
      "Epoch 289/500: 100%|██████████████████████████████████████████████████████████████████████████████████████████████████████████████████████████████████████████████████████████████████████████████████████████████████████████████████████████████████████████████████████████| 196/196 [01:08<00:00,  2.86it/s, loss=1.5653, acc_t=0.6438, acc=0.6639]\n"
     ]
    },
    {
     "name": "stdout",
     "output_type": "stream",
     "text": [
      "Average Train Loss: 1.4380; Test Loss: 2.7927;                 Train Accuracy: 0.6639; Test Accuracy: 0.4602;\n"
     ]
    },
    {
     "name": "stderr",
     "output_type": "stream",
     "text": [
      "Epoch 290/500: 100%|██████████████████████████████████████████████████████████████████████████████████████████████████████████████████████████████████████████████████████████████████████████████████████████████████████████████████████████████████████████████████████████| 196/196 [01:08<00:00,  2.87it/s, loss=1.6591, acc_t=0.6562, acc=0.6607]\n"
     ]
    },
    {
     "name": "stdout",
     "output_type": "stream",
     "text": [
      "Average Train Loss: 1.4457; Test Loss: 2.8878;                 Train Accuracy: 0.6607; Test Accuracy: 0.4526;\n"
     ]
    },
    {
     "name": "stderr",
     "output_type": "stream",
     "text": [
      "Epoch 291/500: 100%|██████████████████████████████████████████████████████████████████████████████████████████████████████████████████████████████████████████████████████████████████████████████████████████████████████████████████████████████████████████████████████████| 196/196 [01:08<00:00,  2.86it/s, loss=1.3420, acc_t=0.6937, acc=0.6634]\n"
     ]
    },
    {
     "name": "stdout",
     "output_type": "stream",
     "text": [
      "Average Train Loss: 1.4380; Test Loss: 2.7661;                 Train Accuracy: 0.6634; Test Accuracy: 0.4752;\n"
     ]
    },
    {
     "name": "stderr",
     "output_type": "stream",
     "text": [
      "Epoch 292/500: 100%|██████████████████████████████████████████████████████████████████████████████████████████████████████████████████████████████████████████████████████████████████████████████████████████████████████████████████████████████████████████████████████████| 196/196 [01:08<00:00,  2.85it/s, loss=1.4268, acc_t=0.6750, acc=0.6643]\n"
     ]
    },
    {
     "name": "stdout",
     "output_type": "stream",
     "text": [
      "Average Train Loss: 1.4256; Test Loss: 2.7968;                 Train Accuracy: 0.6643; Test Accuracy: 0.4606;\n"
     ]
    },
    {
     "name": "stderr",
     "output_type": "stream",
     "text": [
      "Epoch 293/500: 100%|██████████████████████████████████████████████████████████████████████████████████████████████████████████████████████████████████████████████████████████████████████████████████████████████████████████████████████████████████████████████████████████| 196/196 [01:08<00:00,  2.86it/s, loss=1.4834, acc_t=0.7000, acc=0.6694]\n"
     ]
    },
    {
     "name": "stdout",
     "output_type": "stream",
     "text": [
      "Average Train Loss: 1.4088; Test Loss: 2.7683;                 Train Accuracy: 0.6694; Test Accuracy: 0.4572;\n"
     ]
    },
    {
     "name": "stderr",
     "output_type": "stream",
     "text": [
      "Epoch 294/500: 100%|██████████████████████████████████████████████████████████████████████████████████████████████████████████████████████████████████████████████████████████████████████████████████████████████████████████████████████████████████████████████████████████| 196/196 [01:08<00:00,  2.85it/s, loss=1.6897, acc_t=0.6125, acc=0.6640]\n"
     ]
    },
    {
     "name": "stdout",
     "output_type": "stream",
     "text": [
      "Average Train Loss: 1.4322; Test Loss: 2.7844;                 Train Accuracy: 0.6640; Test Accuracy: 0.4582;\n"
     ]
    },
    {
     "name": "stderr",
     "output_type": "stream",
     "text": [
      "Epoch 295/500: 100%|██████████████████████████████████████████████████████████████████████████████████████████████████████████████████████████████████████████████████████████████████████████████████████████████████████████████████████████████████████████████████████████| 196/196 [01:08<00:00,  2.87it/s, loss=1.3523, acc_t=0.7125, acc=0.6680]\n"
     ]
    },
    {
     "name": "stdout",
     "output_type": "stream",
     "text": [
      "Average Train Loss: 1.4049; Test Loss: 2.7882;                 Train Accuracy: 0.6680; Test Accuracy: 0.4628;\n"
     ]
    },
    {
     "name": "stderr",
     "output_type": "stream",
     "text": [
      "Epoch 296/500: 100%|██████████████████████████████████████████████████████████████████████████████████████████████████████████████████████████████████████████████████████████████████████████████████████████████████████████████████████████████████████████████████████████| 196/196 [01:08<00:00,  2.86it/s, loss=1.5991, acc_t=0.6188, acc=0.6661]\n"
     ]
    },
    {
     "name": "stdout",
     "output_type": "stream",
     "text": [
      "Average Train Loss: 1.4214; Test Loss: 2.7554;                 Train Accuracy: 0.6661; Test Accuracy: 0.4576;\n"
     ]
    },
    {
     "name": "stderr",
     "output_type": "stream",
     "text": [
      "Epoch 297/500: 100%|██████████████████████████████████████████████████████████████████████████████████████████████████████████████████████████████████████████████████████████████████████████████████████████████████████████████████████████████████████████████████████████| 196/196 [01:08<00:00,  2.85it/s, loss=1.3991, acc_t=0.6875, acc=0.6660]\n"
     ]
    },
    {
     "name": "stdout",
     "output_type": "stream",
     "text": [
      "Average Train Loss: 1.4213; Test Loss: 2.7690;                 Train Accuracy: 0.6660; Test Accuracy: 0.4556;\n"
     ]
    },
    {
     "name": "stderr",
     "output_type": "stream",
     "text": [
      "Epoch 298/500: 100%|██████████████████████████████████████████████████████████████████████████████████████████████████████████████████████████████████████████████████████████████████████████████████████████████████████████████████████████████████████████████████████████| 196/196 [01:08<00:00,  2.86it/s, loss=1.5036, acc_t=0.6312, acc=0.6677]\n"
     ]
    },
    {
     "name": "stdout",
     "output_type": "stream",
     "text": [
      "Average Train Loss: 1.4171; Test Loss: 2.7983;                 Train Accuracy: 0.6677; Test Accuracy: 0.4576;\n"
     ]
    },
    {
     "name": "stderr",
     "output_type": "stream",
     "text": [
      "Epoch 299/500: 100%|██████████████████████████████████████████████████████████████████████████████████████████████████████████████████████████████████████████████████████████████████████████████████████████████████████████████████████████████████████████████████████████| 196/196 [01:08<00:00,  2.86it/s, loss=1.7596, acc_t=0.6438, acc=0.6666]\n"
     ]
    },
    {
     "name": "stdout",
     "output_type": "stream",
     "text": [
      "Average Train Loss: 1.4236; Test Loss: 2.7477;                 Train Accuracy: 0.6666; Test Accuracy: 0.4600;\n"
     ]
    },
    {
     "name": "stderr",
     "output_type": "stream",
     "text": [
      "Epoch 300/500: 100%|██████████████████████████████████████████████████████████████████████████████████████████████████████████████████████████████████████████████████████████████████████████████████████████████████████████████████████████████████████████████████████████| 196/196 [01:08<00:00,  2.86it/s, loss=1.5320, acc_t=0.6500, acc=0.6695]\n"
     ]
    },
    {
     "name": "stdout",
     "output_type": "stream",
     "text": [
      "Average Train Loss: 1.4080; Test Loss: 2.7775;                 Train Accuracy: 0.6695; Test Accuracy: 0.4642;\n"
     ]
    },
    {
     "name": "stderr",
     "output_type": "stream",
     "text": [
      "Epoch 301/500: 100%|██████████████████████████████████████████████████████████████████████████████████████████████████████████████████████████████████████████████████████████████████████████████████████████████████████████████████████████████████████████████████████████| 196/196 [01:08<00:00,  2.87it/s, loss=1.6366, acc_t=0.6312, acc=0.6706]\n"
     ]
    },
    {
     "name": "stdout",
     "output_type": "stream",
     "text": [
      "Average Train Loss: 1.4044; Test Loss: 2.7792;                 Train Accuracy: 0.6706; Test Accuracy: 0.4634;\n"
     ]
    },
    {
     "name": "stderr",
     "output_type": "stream",
     "text": [
      "Epoch 302/500: 100%|██████████████████████████████████████████████████████████████████████████████████████████████████████████████████████████████████████████████████████████████████████████████████████████████████████████████████████████████████████████████████████████| 196/196 [01:08<00:00,  2.85it/s, loss=1.5213, acc_t=0.6875, acc=0.6680]\n"
     ]
    },
    {
     "name": "stdout",
     "output_type": "stream",
     "text": [
      "Average Train Loss: 1.4166; Test Loss: 2.7588;                 Train Accuracy: 0.6680; Test Accuracy: 0.4656;\n"
     ]
    },
    {
     "name": "stderr",
     "output_type": "stream",
     "text": [
      "Epoch 303/500: 100%|██████████████████████████████████████████████████████████████████████████████████████████████████████████████████████████████████████████████████████████████████████████████████████████████████████████████████████████████████████████████████████████| 196/196 [01:08<00:00,  2.85it/s, loss=1.5314, acc_t=0.6250, acc=0.6732]\n"
     ]
    },
    {
     "name": "stdout",
     "output_type": "stream",
     "text": [
      "Average Train Loss: 1.3977; Test Loss: 2.7470;                 Train Accuracy: 0.6732; Test Accuracy: 0.4620;\n"
     ]
    },
    {
     "name": "stderr",
     "output_type": "stream",
     "text": [
      "Epoch 304/500: 100%|██████████████████████████████████████████████████████████████████████████████████████████████████████████████████████████████████████████████████████████████████████████████████████████████████████████████████████████████████████████████████████████| 196/196 [01:08<00:00,  2.86it/s, loss=1.4723, acc_t=0.6250, acc=0.6746]\n"
     ]
    },
    {
     "name": "stdout",
     "output_type": "stream",
     "text": [
      "Average Train Loss: 1.3848; Test Loss: 2.7457;                 Train Accuracy: 0.6746; Test Accuracy: 0.4652;\n"
     ]
    },
    {
     "name": "stderr",
     "output_type": "stream",
     "text": [
      "Epoch 305/500: 100%|██████████████████████████████████████████████████████████████████████████████████████████████████████████████████████████████████████████████████████████████████████████████████████████████████████████████████████████████████████████████████████████| 196/196 [01:08<00:00,  2.86it/s, loss=1.4051, acc_t=0.6937, acc=0.6760]\n"
     ]
    },
    {
     "name": "stdout",
     "output_type": "stream",
     "text": [
      "Average Train Loss: 1.3872; Test Loss: 2.7354;                 Train Accuracy: 0.6760; Test Accuracy: 0.4660;\n"
     ]
    },
    {
     "name": "stderr",
     "output_type": "stream",
     "text": [
      "Epoch 306/500: 100%|██████████████████████████████████████████████████████████████████████████████████████████████████████████████████████████████████████████████████████████████████████████████████████████████████████████████████████████████████████████████████████████| 196/196 [01:08<00:00,  2.86it/s, loss=1.4770, acc_t=0.6875, acc=0.6745]\n"
     ]
    },
    {
     "name": "stdout",
     "output_type": "stream",
     "text": [
      "Average Train Loss: 1.3854; Test Loss: 2.7610;                 Train Accuracy: 0.6745; Test Accuracy: 0.4642;\n"
     ]
    },
    {
     "name": "stderr",
     "output_type": "stream",
     "text": [
      "Epoch 307/500: 100%|██████████████████████████████████████████████████████████████████████████████████████████████████████████████████████████████████████████████████████████████████████████████████████████████████████████████████████████████████████████████████████████| 196/196 [01:08<00:00,  2.86it/s, loss=1.4628, acc_t=0.6500, acc=0.6730]\n"
     ]
    },
    {
     "name": "stdout",
     "output_type": "stream",
     "text": [
      "Average Train Loss: 1.3906; Test Loss: 2.7564;                 Train Accuracy: 0.6730; Test Accuracy: 0.4650;\n"
     ]
    },
    {
     "name": "stderr",
     "output_type": "stream",
     "text": [
      "Epoch 308/500: 100%|██████████████████████████████████████████████████████████████████████████████████████████████████████████████████████████████████████████████████████████████████████████████████████████████████████████████████████████████████████████████████████████| 196/196 [01:08<00:00,  2.85it/s, loss=1.3481, acc_t=0.6438, acc=0.6736]\n"
     ]
    },
    {
     "name": "stdout",
     "output_type": "stream",
     "text": [
      "Average Train Loss: 1.3923; Test Loss: 2.7764;                 Train Accuracy: 0.6736; Test Accuracy: 0.4644;\n"
     ]
    },
    {
     "name": "stderr",
     "output_type": "stream",
     "text": [
      "Epoch 309/500: 100%|██████████████████████████████████████████████████████████████████████████████████████████████████████████████████████████████████████████████████████████████████████████████████████████████████████████████████████████████████████████████████████████| 196/196 [01:08<00:00,  2.87it/s, loss=1.3619, acc_t=0.6625, acc=0.6734]\n"
     ]
    },
    {
     "name": "stdout",
     "output_type": "stream",
     "text": [
      "Average Train Loss: 1.3951; Test Loss: 2.8022;                 Train Accuracy: 0.6734; Test Accuracy: 0.4556;\n"
     ]
    },
    {
     "name": "stderr",
     "output_type": "stream",
     "text": [
      "Epoch 310/500: 100%|██████████████████████████████████████████████████████████████████████████████████████████████████████████████████████████████████████████████████████████████████████████████████████████████████████████████████████████████████████████████████████████| 196/196 [01:08<00:00,  2.86it/s, loss=1.3743, acc_t=0.6562, acc=0.6757]\n"
     ]
    },
    {
     "name": "stdout",
     "output_type": "stream",
     "text": [
      "Average Train Loss: 1.3826; Test Loss: 2.7159;                 Train Accuracy: 0.6757; Test Accuracy: 0.4634;\n"
     ]
    },
    {
     "name": "stderr",
     "output_type": "stream",
     "text": [
      "Epoch 311/500: 100%|██████████████████████████████████████████████████████████████████████████████████████████████████████████████████████████████████████████████████████████████████████████████████████████████████████████████████████████████████████████████████████████| 196/196 [01:08<00:00,  2.85it/s, loss=1.5144, acc_t=0.6562, acc=0.6758]\n"
     ]
    },
    {
     "name": "stdout",
     "output_type": "stream",
     "text": [
      "Average Train Loss: 1.3781; Test Loss: 2.8247;                 Train Accuracy: 0.6758; Test Accuracy: 0.4600;\n"
     ]
    },
    {
     "name": "stderr",
     "output_type": "stream",
     "text": [
      "Epoch 312/500: 100%|██████████████████████████████████████████████████████████████████████████████████████████████████████████████████████████████████████████████████████████████████████████████████████████████████████████████████████████████████████████████████████████| 196/196 [01:08<00:00,  2.86it/s, loss=1.4048, acc_t=0.6625, acc=0.6750]\n"
     ]
    },
    {
     "name": "stdout",
     "output_type": "stream",
     "text": [
      "Average Train Loss: 1.3813; Test Loss: 2.7353;                 Train Accuracy: 0.6750; Test Accuracy: 0.4728;\n"
     ]
    },
    {
     "name": "stderr",
     "output_type": "stream",
     "text": [
      "Epoch 313/500: 100%|██████████████████████████████████████████████████████████████████████████████████████████████████████████████████████████████████████████████████████████████████████████████████████████████████████████████████████████████████████████████████████████| 196/196 [01:08<00:00,  2.86it/s, loss=1.5158, acc_t=0.6562, acc=0.6822]\n"
     ]
    },
    {
     "name": "stdout",
     "output_type": "stream",
     "text": [
      "Average Train Loss: 1.3522; Test Loss: 2.7677;                 Train Accuracy: 0.6822; Test Accuracy: 0.4676;\n"
     ]
    },
    {
     "name": "stderr",
     "output_type": "stream",
     "text": [
      "Epoch 314/500: 100%|██████████████████████████████████████████████████████████████████████████████████████████████████████████████████████████████████████████████████████████████████████████████████████████████████████████████████████████████████████████████████████████| 196/196 [01:08<00:00,  2.85it/s, loss=1.2605, acc_t=0.7125, acc=0.6774]\n"
     ]
    },
    {
     "name": "stdout",
     "output_type": "stream",
     "text": [
      "Average Train Loss: 1.3748; Test Loss: 2.7613;                 Train Accuracy: 0.6774; Test Accuracy: 0.4592;\n"
     ]
    },
    {
     "name": "stderr",
     "output_type": "stream",
     "text": [
      "Epoch 315/500: 100%|██████████████████████████████████████████████████████████████████████████████████████████████████████████████████████████████████████████████████████████████████████████████████████████████████████████████████████████████████████████████████████████| 196/196 [01:08<00:00,  2.85it/s, loss=1.4893, acc_t=0.6250, acc=0.6781]\n"
     ]
    },
    {
     "name": "stdout",
     "output_type": "stream",
     "text": [
      "Average Train Loss: 1.3657; Test Loss: 2.7058;                 Train Accuracy: 0.6781; Test Accuracy: 0.4700;\n"
     ]
    },
    {
     "name": "stderr",
     "output_type": "stream",
     "text": [
      "Epoch 316/500: 100%|██████████████████████████████████████████████████████████████████████████████████████████████████████████████████████████████████████████████████████████████████████████████████████████████████████████████████████████████████████████████████████████| 196/196 [01:08<00:00,  2.87it/s, loss=1.3926, acc_t=0.7125, acc=0.6825]\n"
     ]
    },
    {
     "name": "stdout",
     "output_type": "stream",
     "text": [
      "Average Train Loss: 1.3494; Test Loss: 2.7134;                 Train Accuracy: 0.6825; Test Accuracy: 0.4748;\n"
     ]
    },
    {
     "name": "stderr",
     "output_type": "stream",
     "text": [
      "Epoch 317/500: 100%|██████████████████████████████████████████████████████████████████████████████████████████████████████████████████████████████████████████████████████████████████████████████████████████████████████████████████████████████████████████████████████████| 196/196 [01:08<00:00,  2.86it/s, loss=1.5321, acc_t=0.6438, acc=0.6834]\n"
     ]
    },
    {
     "name": "stdout",
     "output_type": "stream",
     "text": [
      "Average Train Loss: 1.3556; Test Loss: 2.7329;                 Train Accuracy: 0.6834; Test Accuracy: 0.4680;\n"
     ]
    },
    {
     "name": "stderr",
     "output_type": "stream",
     "text": [
      "Epoch 318/500: 100%|██████████████████████████████████████████████████████████████████████████████████████████████████████████████████████████████████████████████████████████████████████████████████████████████████████████████████████████████████████████████████████████| 196/196 [01:08<00:00,  2.87it/s, loss=1.5757, acc_t=0.6687, acc=0.6810]\n"
     ]
    },
    {
     "name": "stdout",
     "output_type": "stream",
     "text": [
      "Average Train Loss: 1.3523; Test Loss: 2.7665;                 Train Accuracy: 0.6810; Test Accuracy: 0.4666;\n"
     ]
    },
    {
     "name": "stderr",
     "output_type": "stream",
     "text": [
      "Epoch 319/500: 100%|██████████████████████████████████████████████████████████████████████████████████████████████████████████████████████████████████████████████████████████████████████████████████████████████████████████████████████████████████████████████████████████| 196/196 [01:08<00:00,  2.86it/s, loss=1.4305, acc_t=0.6438, acc=0.6819]\n"
     ]
    },
    {
     "name": "stdout",
     "output_type": "stream",
     "text": [
      "Average Train Loss: 1.3612; Test Loss: 2.7459;                 Train Accuracy: 0.6819; Test Accuracy: 0.4614;\n"
     ]
    },
    {
     "name": "stderr",
     "output_type": "stream",
     "text": [
      "Epoch 320/500: 100%|██████████████████████████████████████████████████████████████████████████████████████████████████████████████████████████████████████████████████████████████████████████████████████████████████████████████████████████████████████████████████████████| 196/196 [01:08<00:00,  2.88it/s, loss=1.2843, acc_t=0.6875, acc=0.6787]\n"
     ]
    },
    {
     "name": "stdout",
     "output_type": "stream",
     "text": [
      "Average Train Loss: 1.3670; Test Loss: 2.7660;                 Train Accuracy: 0.6787; Test Accuracy: 0.4682;\n"
     ]
    },
    {
     "name": "stderr",
     "output_type": "stream",
     "text": [
      "Epoch 321/500: 100%|██████████████████████████████████████████████████████████████████████████████████████████████████████████████████████████████████████████████████████████████████████████████████████████████████████████████████████████████████████████████████████████| 196/196 [01:08<00:00,  2.86it/s, loss=1.2604, acc_t=0.6813, acc=0.6839]\n"
     ]
    },
    {
     "name": "stdout",
     "output_type": "stream",
     "text": [
      "Average Train Loss: 1.3459; Test Loss: 2.7574;                 Train Accuracy: 0.6839; Test Accuracy: 0.4638;\n"
     ]
    },
    {
     "name": "stderr",
     "output_type": "stream",
     "text": [
      "Epoch 322/500: 100%|██████████████████████████████████████████████████████████████████████████████████████████████████████████████████████████████████████████████████████████████████████████████████████████████████████████████████████████████████████████████████████████| 196/196 [01:08<00:00,  2.86it/s, loss=1.4365, acc_t=0.6750, acc=0.6852]\n"
     ]
    },
    {
     "name": "stdout",
     "output_type": "stream",
     "text": [
      "Average Train Loss: 1.3524; Test Loss: 2.7680;                 Train Accuracy: 0.6852; Test Accuracy: 0.4680;\n"
     ]
    },
    {
     "name": "stderr",
     "output_type": "stream",
     "text": [
      "Epoch 323/500: 100%|██████████████████████████████████████████████████████████████████████████████████████████████████████████████████████████████████████████████████████████████████████████████████████████████████████████████████████████████████████████████████████████| 196/196 [01:08<00:00,  2.87it/s, loss=1.5238, acc_t=0.6438, acc=0.6836]\n"
     ]
    },
    {
     "name": "stdout",
     "output_type": "stream",
     "text": [
      "Average Train Loss: 1.3547; Test Loss: 2.7672;                 Train Accuracy: 0.6836; Test Accuracy: 0.4636;\n"
     ]
    },
    {
     "name": "stderr",
     "output_type": "stream",
     "text": [
      "Epoch 324/500: 100%|██████████████████████████████████████████████████████████████████████████████████████████████████████████████████████████████████████████████████████████████████████████████████████████████████████████████████████████████████████████████████████████| 196/196 [01:08<00:00,  2.87it/s, loss=1.2830, acc_t=0.7250, acc=0.6846]\n"
     ]
    },
    {
     "name": "stdout",
     "output_type": "stream",
     "text": [
      "Average Train Loss: 1.3409; Test Loss: 2.7528;                 Train Accuracy: 0.6846; Test Accuracy: 0.4640;\n"
     ]
    },
    {
     "name": "stderr",
     "output_type": "stream",
     "text": [
      "Epoch 325/500: 100%|██████████████████████████████████████████████████████████████████████████████████████████████████████████████████████████████████████████████████████████████████████████████████████████████████████████████████████████████████████████████████████████| 196/196 [01:08<00:00,  2.85it/s, loss=1.2628, acc_t=0.7125, acc=0.6820]\n"
     ]
    },
    {
     "name": "stdout",
     "output_type": "stream",
     "text": [
      "Average Train Loss: 1.3516; Test Loss: 2.7626;                 Train Accuracy: 0.6820; Test Accuracy: 0.4670;\n"
     ]
    },
    {
     "name": "stderr",
     "output_type": "stream",
     "text": [
      "Epoch 326/500: 100%|██████████████████████████████████████████████████████████████████████████████████████████████████████████████████████████████████████████████████████████████████████████████████████████████████████████████████████████████████████████████████████████| 196/196 [01:08<00:00,  2.86it/s, loss=1.2667, acc_t=0.7125, acc=0.6864]\n"
     ]
    },
    {
     "name": "stdout",
     "output_type": "stream",
     "text": [
      "Average Train Loss: 1.3380; Test Loss: 2.7568;                 Train Accuracy: 0.6864; Test Accuracy: 0.4716;\n"
     ]
    },
    {
     "name": "stderr",
     "output_type": "stream",
     "text": [
      "Epoch 327/500: 100%|██████████████████████████████████████████████████████████████████████████████████████████████████████████████████████████████████████████████████████████████████████████████████████████████████████████████████████████████████████████████████████████| 196/196 [01:08<00:00,  2.87it/s, loss=1.3334, acc_t=0.6562, acc=0.6877]\n"
     ]
    },
    {
     "name": "stdout",
     "output_type": "stream",
     "text": [
      "Average Train Loss: 1.3345; Test Loss: 2.7496;                 Train Accuracy: 0.6877; Test Accuracy: 0.4710;\n"
     ]
    },
    {
     "name": "stderr",
     "output_type": "stream",
     "text": [
      "Epoch 328/500: 100%|██████████████████████████████████████████████████████████████████████████████████████████████████████████████████████████████████████████████████████████████████████████████████████████████████████████████████████████████████████████████████████████| 196/196 [01:08<00:00,  2.86it/s, loss=1.3823, acc_t=0.6375, acc=0.6859]\n"
     ]
    },
    {
     "name": "stdout",
     "output_type": "stream",
     "text": [
      "Average Train Loss: 1.3421; Test Loss: 2.8074;                 Train Accuracy: 0.6859; Test Accuracy: 0.4666;\n"
     ]
    },
    {
     "name": "stderr",
     "output_type": "stream",
     "text": [
      "Epoch 329/500: 100%|██████████████████████████████████████████████████████████████████████████████████████████████████████████████████████████████████████████████████████████████████████████████████████████████████████████████████████████████████████████████████████████| 196/196 [01:08<00:00,  2.86it/s, loss=1.4021, acc_t=0.6438, acc=0.6880]\n"
     ]
    },
    {
     "name": "stdout",
     "output_type": "stream",
     "text": [
      "Average Train Loss: 1.3328; Test Loss: 2.6901;                 Train Accuracy: 0.6880; Test Accuracy: 0.4744;\n"
     ]
    },
    {
     "name": "stderr",
     "output_type": "stream",
     "text": [
      "Epoch 330/500: 100%|██████████████████████████████████████████████████████████████████████████████████████████████████████████████████████████████████████████████████████████████████████████████████████████████████████████████████████████████████████████████████████████| 196/196 [01:08<00:00,  2.86it/s, loss=1.5514, acc_t=0.6750, acc=0.6812]\n"
     ]
    },
    {
     "name": "stdout",
     "output_type": "stream",
     "text": [
      "Average Train Loss: 1.3581; Test Loss: 2.7408;                 Train Accuracy: 0.6812; Test Accuracy: 0.4676;\n"
     ]
    },
    {
     "name": "stderr",
     "output_type": "stream",
     "text": [
      "Epoch 331/500: 100%|██████████████████████████████████████████████████████████████████████████████████████████████████████████████████████████████████████████████████████████████████████████████████████████████████████████████████████████████████████████████████████████| 196/196 [01:08<00:00,  2.85it/s, loss=1.3347, acc_t=0.7125, acc=0.6848]\n"
     ]
    },
    {
     "name": "stdout",
     "output_type": "stream",
     "text": [
      "Average Train Loss: 1.3367; Test Loss: 2.7408;                 Train Accuracy: 0.6848; Test Accuracy: 0.4670;\n"
     ]
    },
    {
     "name": "stderr",
     "output_type": "stream",
     "text": [
      "Epoch 332/500: 100%|██████████████████████████████████████████████████████████████████████████████████████████████████████████████████████████████████████████████████████████████████████████████████████████████████████████████████████████████████████████████████████████| 196/196 [01:08<00:00,  2.85it/s, loss=1.2725, acc_t=0.7125, acc=0.6877]\n"
     ]
    },
    {
     "name": "stdout",
     "output_type": "stream",
     "text": [
      "Average Train Loss: 1.3290; Test Loss: 2.7495;                 Train Accuracy: 0.6877; Test Accuracy: 0.4646;\n"
     ]
    },
    {
     "name": "stderr",
     "output_type": "stream",
     "text": [
      "Epoch 333/500: 100%|██████████████████████████████████████████████████████████████████████████████████████████████████████████████████████████████████████████████████████████████████████████████████████████████████████████████████████████████████████████████████████████| 196/196 [01:08<00:00,  2.87it/s, loss=1.6456, acc_t=0.6062, acc=0.6884]\n"
     ]
    },
    {
     "name": "stdout",
     "output_type": "stream",
     "text": [
      "Average Train Loss: 1.3309; Test Loss: 2.6965;                 Train Accuracy: 0.6884; Test Accuracy: 0.4696;\n"
     ]
    },
    {
     "name": "stderr",
     "output_type": "stream",
     "text": [
      "Epoch 334/500: 100%|██████████████████████████████████████████████████████████████████████████████████████████████████████████████████████████████████████████████████████████████████████████████████████████████████████████████████████████████████████████████████████████| 196/196 [01:08<00:00,  2.85it/s, loss=1.1930, acc_t=0.7688, acc=0.6909]\n"
     ]
    },
    {
     "name": "stdout",
     "output_type": "stream",
     "text": [
      "Average Train Loss: 1.3196; Test Loss: 2.6898;                 Train Accuracy: 0.6909; Test Accuracy: 0.4770;\n"
     ]
    },
    {
     "name": "stderr",
     "output_type": "stream",
     "text": [
      "Epoch 335/500: 100%|██████████████████████████████████████████████████████████████████████████████████████████████████████████████████████████████████████████████████████████████████████████████████████████████████████████████████████████████████████████████████████████| 196/196 [01:08<00:00,  2.86it/s, loss=1.3011, acc_t=0.6813, acc=0.6894]\n"
     ]
    },
    {
     "name": "stdout",
     "output_type": "stream",
     "text": [
      "Average Train Loss: 1.3271; Test Loss: 2.7356;                 Train Accuracy: 0.6894; Test Accuracy: 0.4706;\n"
     ]
    },
    {
     "name": "stderr",
     "output_type": "stream",
     "text": [
      "Epoch 336/500: 100%|██████████████████████████████████████████████████████████████████████████████████████████████████████████████████████████████████████████████████████████████████████████████████████████████████████████████████████████████████████████████████████████| 196/196 [01:08<00:00,  2.86it/s, loss=1.8950, acc_t=0.6000, acc=0.6913]\n"
     ]
    },
    {
     "name": "stdout",
     "output_type": "stream",
     "text": [
      "Average Train Loss: 1.3167; Test Loss: 2.7133;                 Train Accuracy: 0.6913; Test Accuracy: 0.4754;\n"
     ]
    },
    {
     "name": "stderr",
     "output_type": "stream",
     "text": [
      "Epoch 337/500: 100%|██████████████████████████████████████████████████████████████████████████████████████████████████████████████████████████████████████████████████████████████████████████████████████████████████████████████████████████████████████████████████████████| 196/196 [01:08<00:00,  2.87it/s, loss=1.4380, acc_t=0.6750, acc=0.6903]\n"
     ]
    },
    {
     "name": "stdout",
     "output_type": "stream",
     "text": [
      "Average Train Loss: 1.3214; Test Loss: 2.7748;                 Train Accuracy: 0.6903; Test Accuracy: 0.4674;\n"
     ]
    },
    {
     "name": "stderr",
     "output_type": "stream",
     "text": [
      "Epoch 338/500: 100%|██████████████████████████████████████████████████████████████████████████████████████████████████████████████████████████████████████████████████████████████████████████████████████████████████████████████████████████████████████████████████████████| 196/196 [01:08<00:00,  2.86it/s, loss=1.5317, acc_t=0.6625, acc=0.6876]\n"
     ]
    },
    {
     "name": "stdout",
     "output_type": "stream",
     "text": [
      "Average Train Loss: 1.3326; Test Loss: 2.7448;                 Train Accuracy: 0.6876; Test Accuracy: 0.4688;\n"
     ]
    },
    {
     "name": "stderr",
     "output_type": "stream",
     "text": [
      "Epoch 339/500: 100%|██████████████████████████████████████████████████████████████████████████████████████████████████████████████████████████████████████████████████████████████████████████████████████████████████████████████████████████████████████████████████████████| 196/196 [01:08<00:00,  2.87it/s, loss=1.3461, acc_t=0.6937, acc=0.6875]\n"
     ]
    },
    {
     "name": "stdout",
     "output_type": "stream",
     "text": [
      "Average Train Loss: 1.3285; Test Loss: 2.7053;                 Train Accuracy: 0.6875; Test Accuracy: 0.4760;\n"
     ]
    },
    {
     "name": "stderr",
     "output_type": "stream",
     "text": [
      "Epoch 340/500: 100%|██████████████████████████████████████████████████████████████████████████████████████████████████████████████████████████████████████████████████████████████████████████████████████████████████████████████████████████████████████████████████████████| 196/196 [01:08<00:00,  2.85it/s, loss=1.4822, acc_t=0.6562, acc=0.6912]\n"
     ]
    },
    {
     "name": "stdout",
     "output_type": "stream",
     "text": [
      "Average Train Loss: 1.3117; Test Loss: 2.7751;                 Train Accuracy: 0.6912; Test Accuracy: 0.4668;\n"
     ]
    },
    {
     "name": "stderr",
     "output_type": "stream",
     "text": [
      "Epoch 341/500: 100%|██████████████████████████████████████████████████████████████████████████████████████████████████████████████████████████████████████████████████████████████████████████████████████████████████████████████████████████████████████████████████████████| 196/196 [01:08<00:00,  2.86it/s, loss=1.3561, acc_t=0.6687, acc=0.6917]\n"
     ]
    },
    {
     "name": "stdout",
     "output_type": "stream",
     "text": [
      "Average Train Loss: 1.3163; Test Loss: 2.7626;                 Train Accuracy: 0.6917; Test Accuracy: 0.4708;\n"
     ]
    },
    {
     "name": "stderr",
     "output_type": "stream",
     "text": [
      "Epoch 342/500: 100%|██████████████████████████████████████████████████████████████████████████████████████████████████████████████████████████████████████████████████████████████████████████████████████████████████████████████████████████████████████████████████████████| 196/196 [01:08<00:00,  2.86it/s, loss=1.3668, acc_t=0.6937, acc=0.6919]\n"
     ]
    },
    {
     "name": "stdout",
     "output_type": "stream",
     "text": [
      "Average Train Loss: 1.3102; Test Loss: 2.7275;                 Train Accuracy: 0.6919; Test Accuracy: 0.4738;\n"
     ]
    },
    {
     "name": "stderr",
     "output_type": "stream",
     "text": [
      "Epoch 343/500: 100%|██████████████████████████████████████████████████████████████████████████████████████████████████████████████████████████████████████████████████████████████████████████████████████████████████████████████████████████████████████████████████████████| 196/196 [01:08<00:00,  2.87it/s, loss=1.2819, acc_t=0.7125, acc=0.6919]\n"
     ]
    },
    {
     "name": "stdout",
     "output_type": "stream",
     "text": [
      "Average Train Loss: 1.3170; Test Loss: 2.7360;                 Train Accuracy: 0.6919; Test Accuracy: 0.4724;\n"
     ]
    },
    {
     "name": "stderr",
     "output_type": "stream",
     "text": [
      "Epoch 344/500: 100%|██████████████████████████████████████████████████████████████████████████████████████████████████████████████████████████████████████████████████████████████████████████████████████████████████████████████████████████████████████████████████████████| 196/196 [01:08<00:00,  2.86it/s, loss=1.4380, acc_t=0.7000, acc=0.6933]\n"
     ]
    },
    {
     "name": "stdout",
     "output_type": "stream",
     "text": [
      "Average Train Loss: 1.3086; Test Loss: 2.6954;                 Train Accuracy: 0.6933; Test Accuracy: 0.4820;\n"
     ]
    },
    {
     "name": "stderr",
     "output_type": "stream",
     "text": [
      "Epoch 345/500: 100%|██████████████████████████████████████████████████████████████████████████████████████████████████████████████████████████████████████████████████████████████████████████████████████████████████████████████████████████████████████████████████████████| 196/196 [01:08<00:00,  2.86it/s, loss=1.4038, acc_t=0.6813, acc=0.6961]\n"
     ]
    },
    {
     "name": "stdout",
     "output_type": "stream",
     "text": [
      "Average Train Loss: 1.2974; Test Loss: 2.7586;                 Train Accuracy: 0.6961; Test Accuracy: 0.4760;\n"
     ]
    },
    {
     "name": "stderr",
     "output_type": "stream",
     "text": [
      "Epoch 346/500: 100%|██████████████████████████████████████████████████████████████████████████████████████████████████████████████████████████████████████████████████████████████████████████████████████████████████████████████████████████████████████████████████████████| 196/196 [01:08<00:00,  2.85it/s, loss=1.2221, acc_t=0.6813, acc=0.6920]\n"
     ]
    },
    {
     "name": "stdout",
     "output_type": "stream",
     "text": [
      "Average Train Loss: 1.3166; Test Loss: 2.7023;                 Train Accuracy: 0.6920; Test Accuracy: 0.4832;\n"
     ]
    },
    {
     "name": "stderr",
     "output_type": "stream",
     "text": [
      "Epoch 347/500: 100%|██████████████████████████████████████████████████████████████████████████████████████████████████████████████████████████████████████████████████████████████████████████████████████████████████████████████████████████████████████████████████████████| 196/196 [01:08<00:00,  2.87it/s, loss=1.4642, acc_t=0.6438, acc=0.6958]\n"
     ]
    },
    {
     "name": "stdout",
     "output_type": "stream",
     "text": [
      "Average Train Loss: 1.2963; Test Loss: 2.7134;                 Train Accuracy: 0.6958; Test Accuracy: 0.4748;\n"
     ]
    },
    {
     "name": "stderr",
     "output_type": "stream",
     "text": [
      "Epoch 348/500: 100%|██████████████████████████████████████████████████████████████████████████████████████████████████████████████████████████████████████████████████████████████████████████████████████████████████████████████████████████████████████████████████████████| 196/196 [01:08<00:00,  2.87it/s, loss=1.6314, acc_t=0.6250, acc=0.6949]\n"
     ]
    },
    {
     "name": "stdout",
     "output_type": "stream",
     "text": [
      "Average Train Loss: 1.2987; Test Loss: 2.7310;                 Train Accuracy: 0.6949; Test Accuracy: 0.4710;\n"
     ]
    },
    {
     "name": "stderr",
     "output_type": "stream",
     "text": [
      "Epoch 349/500: 100%|██████████████████████████████████████████████████████████████████████████████████████████████████████████████████████████████████████████████████████████████████████████████████████████████████████████████████████████████████████████████████████████| 196/196 [01:08<00:00,  2.87it/s, loss=1.1985, acc_t=0.7063, acc=0.6959]\n"
     ]
    },
    {
     "name": "stdout",
     "output_type": "stream",
     "text": [
      "Average Train Loss: 1.2920; Test Loss: 2.7455;                 Train Accuracy: 0.6959; Test Accuracy: 0.4752;\n"
     ]
    },
    {
     "name": "stderr",
     "output_type": "stream",
     "text": [
      "Epoch 350/500: 100%|██████████████████████████████████████████████████████████████████████████████████████████████████████████████████████████████████████████████████████████████████████████████████████████████████████████████████████████████████████████████████████████| 196/196 [01:08<00:00,  2.85it/s, loss=1.3054, acc_t=0.6937, acc=0.6992]\n"
     ]
    },
    {
     "name": "stdout",
     "output_type": "stream",
     "text": [
      "Average Train Loss: 1.2857; Test Loss: 2.7229;                 Train Accuracy: 0.6992; Test Accuracy: 0.4712;\n"
     ]
    },
    {
     "name": "stderr",
     "output_type": "stream",
     "text": [
      "Epoch 351/500: 100%|██████████████████████████████████████████████████████████████████████████████████████████████████████████████████████████████████████████████████████████████████████████████████████████████████████████████████████████████████████████████████████████| 196/196 [01:08<00:00,  2.86it/s, loss=1.2919, acc_t=0.7375, acc=0.6985]\n"
     ]
    },
    {
     "name": "stdout",
     "output_type": "stream",
     "text": [
      "Average Train Loss: 1.2868; Test Loss: 2.7321;                 Train Accuracy: 0.6985; Test Accuracy: 0.4728;\n"
     ]
    },
    {
     "name": "stderr",
     "output_type": "stream",
     "text": [
      "Epoch 352/500: 100%|██████████████████████████████████████████████████████████████████████████████████████████████████████████████████████████████████████████████████████████████████████████████████████████████████████████████████████████████████████████████████████████| 196/196 [01:08<00:00,  2.85it/s, loss=1.3113, acc_t=0.6813, acc=0.6992]\n"
     ]
    },
    {
     "name": "stdout",
     "output_type": "stream",
     "text": [
      "Average Train Loss: 1.2923; Test Loss: 2.7392;                 Train Accuracy: 0.6992; Test Accuracy: 0.4802;\n"
     ]
    },
    {
     "name": "stderr",
     "output_type": "stream",
     "text": [
      "Epoch 353/500: 100%|██████████████████████████████████████████████████████████████████████████████████████████████████████████████████████████████████████████████████████████████████████████████████████████████████████████████████████████████████████████████████████████| 196/196 [01:08<00:00,  2.87it/s, loss=1.3508, acc_t=0.6687, acc=0.6965]\n"
     ]
    },
    {
     "name": "stdout",
     "output_type": "stream",
     "text": [
      "Average Train Loss: 1.2887; Test Loss: 2.7577;                 Train Accuracy: 0.6965; Test Accuracy: 0.4660;\n"
     ]
    },
    {
     "name": "stderr",
     "output_type": "stream",
     "text": [
      "Epoch 354/500: 100%|██████████████████████████████████████████████████████████████████████████████████████████████████████████████████████████████████████████████████████████████████████████████████████████████████████████████████████████████████████████████████████████| 196/196 [01:08<00:00,  2.85it/s, loss=1.1866, acc_t=0.7312, acc=0.6975]\n"
     ]
    },
    {
     "name": "stdout",
     "output_type": "stream",
     "text": [
      "Average Train Loss: 1.2896; Test Loss: 2.7554;                 Train Accuracy: 0.6975; Test Accuracy: 0.4696;\n"
     ]
    },
    {
     "name": "stderr",
     "output_type": "stream",
     "text": [
      "Epoch 355/500: 100%|██████████████████████████████████████████████████████████████████████████████████████████████████████████████████████████████████████████████████████████████████████████████████████████████████████████████████████████████████████████████████████████| 196/196 [01:08<00:00,  2.86it/s, loss=1.3914, acc_t=0.6750, acc=0.7031]\n"
     ]
    },
    {
     "name": "stdout",
     "output_type": "stream",
     "text": [
      "Average Train Loss: 1.2665; Test Loss: 2.7768;                 Train Accuracy: 0.7031; Test Accuracy: 0.4710;\n"
     ]
    },
    {
     "name": "stderr",
     "output_type": "stream",
     "text": [
      "Epoch 356/500: 100%|██████████████████████████████████████████████████████████████████████████████████████████████████████████████████████████████████████████████████████████████████████████████████████████████████████████████████████████████████████████████████████████| 196/196 [01:08<00:00,  2.87it/s, loss=1.3802, acc_t=0.6750, acc=0.6970]\n"
     ]
    },
    {
     "name": "stdout",
     "output_type": "stream",
     "text": [
      "Average Train Loss: 1.2896; Test Loss: 2.6930;                 Train Accuracy: 0.6970; Test Accuracy: 0.4706;\n"
     ]
    },
    {
     "name": "stderr",
     "output_type": "stream",
     "text": [
      "Epoch 357/500: 100%|██████████████████████████████████████████████████████████████████████████████████████████████████████████████████████████████████████████████████████████████████████████████████████████████████████████████████████████████████████████████████████████| 196/196 [01:08<00:00,  2.86it/s, loss=1.3847, acc_t=0.6687, acc=0.7005]\n"
     ]
    },
    {
     "name": "stdout",
     "output_type": "stream",
     "text": [
      "Average Train Loss: 1.2775; Test Loss: 2.7664;                 Train Accuracy: 0.7005; Test Accuracy: 0.4756;\n"
     ]
    },
    {
     "name": "stderr",
     "output_type": "stream",
     "text": [
      "Epoch 358/500: 100%|██████████████████████████████████████████████████████████████████████████████████████████████████████████████████████████████████████████████████████████████████████████████████████████████████████████████████████████████████████████████████████████| 196/196 [01:08<00:00,  2.86it/s, loss=1.2751, acc_t=0.7188, acc=0.6996]\n"
     ]
    },
    {
     "name": "stdout",
     "output_type": "stream",
     "text": [
      "Average Train Loss: 1.2802; Test Loss: 2.7784;                 Train Accuracy: 0.6996; Test Accuracy: 0.4716;\n"
     ]
    },
    {
     "name": "stderr",
     "output_type": "stream",
     "text": [
      "Epoch 359/500: 100%|██████████████████████████████████████████████████████████████████████████████████████████████████████████████████████████████████████████████████████████████████████████████████████████████████████████████████████████████████████████████████████████| 196/196 [01:08<00:00,  2.86it/s, loss=1.3259, acc_t=0.6875, acc=0.6992]\n"
     ]
    },
    {
     "name": "stdout",
     "output_type": "stream",
     "text": [
      "Average Train Loss: 1.2845; Test Loss: 2.7543;                 Train Accuracy: 0.6992; Test Accuracy: 0.4782;\n"
     ]
    },
    {
     "name": "stderr",
     "output_type": "stream",
     "text": [
      "Epoch 360/500: 100%|██████████████████████████████████████████████████████████████████████████████████████████████████████████████████████████████████████████████████████████████████████████████████████████████████████████████████████████████████████████████████████████| 196/196 [01:08<00:00,  2.87it/s, loss=1.2707, acc_t=0.6687, acc=0.7007]\n"
     ]
    },
    {
     "name": "stdout",
     "output_type": "stream",
     "text": [
      "Average Train Loss: 1.2761; Test Loss: 2.7440;                 Train Accuracy: 0.7007; Test Accuracy: 0.4734;\n"
     ]
    },
    {
     "name": "stderr",
     "output_type": "stream",
     "text": [
      "Epoch 361/500: 100%|██████████████████████████████████████████████████████████████████████████████████████████████████████████████████████████████████████████████████████████████████████████████████████████████████████████████████████████████████████████████████████████| 196/196 [01:08<00:00,  2.86it/s, loss=1.1726, acc_t=0.7375, acc=0.7019]\n"
     ]
    },
    {
     "name": "stdout",
     "output_type": "stream",
     "text": [
      "Average Train Loss: 1.2689; Test Loss: 2.7820;                 Train Accuracy: 0.7019; Test Accuracy: 0.4680;\n"
     ]
    },
    {
     "name": "stderr",
     "output_type": "stream",
     "text": [
      "Epoch 362/500: 100%|██████████████████████████████████████████████████████████████████████████████████████████████████████████████████████████████████████████████████████████████████████████████████████████████████████████████████████████████████████████████████████████| 196/196 [01:08<00:00,  2.86it/s, loss=1.3623, acc_t=0.6875, acc=0.7027]\n"
     ]
    },
    {
     "name": "stdout",
     "output_type": "stream",
     "text": [
      "Average Train Loss: 1.2699; Test Loss: 2.7381;                 Train Accuracy: 0.7027; Test Accuracy: 0.4738;\n"
     ]
    },
    {
     "name": "stderr",
     "output_type": "stream",
     "text": [
      "Epoch 363/500: 100%|██████████████████████████████████████████████████████████████████████████████████████████████████████████████████████████████████████████████████████████████████████████████████████████████████████████████████████████████████████████████████████████| 196/196 [01:08<00:00,  2.86it/s, loss=1.3442, acc_t=0.7188, acc=0.6999]\n"
     ]
    },
    {
     "name": "stdout",
     "output_type": "stream",
     "text": [
      "Average Train Loss: 1.2827; Test Loss: 2.7125;                 Train Accuracy: 0.6999; Test Accuracy: 0.4772;\n"
     ]
    },
    {
     "name": "stderr",
     "output_type": "stream",
     "text": [
      "Epoch 364/500: 100%|██████████████████████████████████████████████████████████████████████████████████████████████████████████████████████████████████████████████████████████████████████████████████████████████████████████████████████████████████████████████████████████| 196/196 [01:08<00:00,  2.86it/s, loss=1.1132, acc_t=0.7375, acc=0.7051]\n"
     ]
    },
    {
     "name": "stdout",
     "output_type": "stream",
     "text": [
      "Average Train Loss: 1.2625; Test Loss: 2.7121;                 Train Accuracy: 0.7051; Test Accuracy: 0.4770;\n"
     ]
    },
    {
     "name": "stderr",
     "output_type": "stream",
     "text": [
      "Epoch 365/500: 100%|██████████████████████████████████████████████████████████████████████████████████████████████████████████████████████████████████████████████████████████████████████████████████████████████████████████████████████████████████████████████████████████| 196/196 [01:08<00:00,  2.87it/s, loss=1.1670, acc_t=0.6937, acc=0.7036]\n"
     ]
    },
    {
     "name": "stdout",
     "output_type": "stream",
     "text": [
      "Average Train Loss: 1.2665; Test Loss: 2.7100;                 Train Accuracy: 0.7036; Test Accuracy: 0.4790;\n"
     ]
    },
    {
     "name": "stderr",
     "output_type": "stream",
     "text": [
      "Epoch 366/500: 100%|██████████████████████████████████████████████████████████████████████████████████████████████████████████████████████████████████████████████████████████████████████████████████████████████████████████████████████████████████████████████████████████| 196/196 [01:08<00:00,  2.87it/s, loss=1.3710, acc_t=0.6750, acc=0.7031]\n"
     ]
    },
    {
     "name": "stdout",
     "output_type": "stream",
     "text": [
      "Average Train Loss: 1.2612; Test Loss: 2.7245;                 Train Accuracy: 0.7031; Test Accuracy: 0.4776;\n"
     ]
    },
    {
     "name": "stderr",
     "output_type": "stream",
     "text": [
      "Epoch 367/500: 100%|██████████████████████████████████████████████████████████████████████████████████████████████████████████████████████████████████████████████████████████████████████████████████████████████████████████████████████████████████████████████████████████| 196/196 [01:08<00:00,  2.86it/s, loss=1.3755, acc_t=0.7125, acc=0.7050]\n"
     ]
    },
    {
     "name": "stdout",
     "output_type": "stream",
     "text": [
      "Average Train Loss: 1.2587; Test Loss: 2.7414;                 Train Accuracy: 0.7050; Test Accuracy: 0.4800;\n"
     ]
    },
    {
     "name": "stderr",
     "output_type": "stream",
     "text": [
      "Epoch 368/500: 100%|██████████████████████████████████████████████████████████████████████████████████████████████████████████████████████████████████████████████████████████████████████████████████████████████████████████████████████████████████████████████████████████| 196/196 [01:08<00:00,  2.86it/s, loss=1.2570, acc_t=0.7000, acc=0.7045]\n"
     ]
    },
    {
     "name": "stdout",
     "output_type": "stream",
     "text": [
      "Average Train Loss: 1.2597; Test Loss: 2.7259;                 Train Accuracy: 0.7045; Test Accuracy: 0.4764;\n"
     ]
    },
    {
     "name": "stderr",
     "output_type": "stream",
     "text": [
      "Epoch 369/500: 100%|██████████████████████████████████████████████████████████████████████████████████████████████████████████████████████████████████████████████████████████████████████████████████████████████████████████████████████████████████████████████████████████| 196/196 [01:08<00:00,  2.86it/s, loss=1.3400, acc_t=0.6875, acc=0.7053]\n"
     ]
    },
    {
     "name": "stdout",
     "output_type": "stream",
     "text": [
      "Average Train Loss: 1.2572; Test Loss: 2.7445;                 Train Accuracy: 0.7053; Test Accuracy: 0.4702;\n"
     ]
    },
    {
     "name": "stderr",
     "output_type": "stream",
     "text": [
      "Epoch 370/500: 100%|██████████████████████████████████████████████████████████████████████████████████████████████████████████████████████████████████████████████████████████████████████████████████████████████████████████████████████████████████████████████████████████| 196/196 [01:08<00:00,  2.87it/s, loss=1.0394, acc_t=0.7562, acc=0.7049]\n"
     ]
    },
    {
     "name": "stdout",
     "output_type": "stream",
     "text": [
      "Average Train Loss: 1.2559; Test Loss: 2.7427;                 Train Accuracy: 0.7049; Test Accuracy: 0.4782;\n"
     ]
    },
    {
     "name": "stderr",
     "output_type": "stream",
     "text": [
      "Epoch 371/500: 100%|██████████████████████████████████████████████████████████████████████████████████████████████████████████████████████████████████████████████████████████████████████████████████████████████████████████████████████████████████████████████████████████| 196/196 [01:08<00:00,  2.85it/s, loss=1.2717, acc_t=0.7188, acc=0.7059]\n"
     ]
    },
    {
     "name": "stdout",
     "output_type": "stream",
     "text": [
      "Average Train Loss: 1.2489; Test Loss: 2.7251;                 Train Accuracy: 0.7059; Test Accuracy: 0.4758;\n"
     ]
    },
    {
     "name": "stderr",
     "output_type": "stream",
     "text": [
      "Epoch 372/500: 100%|██████████████████████████████████████████████████████████████████████████████████████████████████████████████████████████████████████████████████████████████████████████████████████████████████████████████████████████████████████████████████████████| 196/196 [01:08<00:00,  2.86it/s, loss=1.4553, acc_t=0.6687, acc=0.7088]\n"
     ]
    },
    {
     "name": "stdout",
     "output_type": "stream",
     "text": [
      "Average Train Loss: 1.2450; Test Loss: 2.7081;                 Train Accuracy: 0.7088; Test Accuracy: 0.4794;\n"
     ]
    },
    {
     "name": "stderr",
     "output_type": "stream",
     "text": [
      "Epoch 373/500: 100%|██████████████████████████████████████████████████████████████████████████████████████████████████████████████████████████████████████████████████████████████████████████████████████████████████████████████████████████████████████████████████████████| 196/196 [01:08<00:00,  2.87it/s, loss=1.5451, acc_t=0.6312, acc=0.7057]\n"
     ]
    },
    {
     "name": "stdout",
     "output_type": "stream",
     "text": [
      "Average Train Loss: 1.2507; Test Loss: 2.6919;                 Train Accuracy: 0.7057; Test Accuracy: 0.4854;\n"
     ]
    },
    {
     "name": "stderr",
     "output_type": "stream",
     "text": [
      "Epoch 374/500: 100%|██████████████████████████████████████████████████████████████████████████████████████████████████████████████████████████████████████████████████████████████████████████████████████████████████████████████████████████████████████████████████████████| 196/196 [01:08<00:00,  2.85it/s, loss=1.1308, acc_t=0.6937, acc=0.7088]\n"
     ]
    },
    {
     "name": "stdout",
     "output_type": "stream",
     "text": [
      "Average Train Loss: 1.2406; Test Loss: 2.7128;                 Train Accuracy: 0.7088; Test Accuracy: 0.4814;\n"
     ]
    },
    {
     "name": "stderr",
     "output_type": "stream",
     "text": [
      "Epoch 375/500: 100%|██████████████████████████████████████████████████████████████████████████████████████████████████████████████████████████████████████████████████████████████████████████████████████████████████████████████████████████████████████████████████████████| 196/196 [01:08<00:00,  2.85it/s, loss=1.1340, acc_t=0.7188, acc=0.7060]\n"
     ]
    },
    {
     "name": "stdout",
     "output_type": "stream",
     "text": [
      "Average Train Loss: 1.2552; Test Loss: 2.7258;                 Train Accuracy: 0.7060; Test Accuracy: 0.4842;\n"
     ]
    },
    {
     "name": "stderr",
     "output_type": "stream",
     "text": [
      "Epoch 376/500: 100%|██████████████████████████████████████████████████████████████████████████████████████████████████████████████████████████████████████████████████████████████████████████████████████████████████████████████████████████████████████████████████████████| 196/196 [01:08<00:00,  2.85it/s, loss=1.0331, acc_t=0.7500, acc=0.7069]\n"
     ]
    },
    {
     "name": "stdout",
     "output_type": "stream",
     "text": [
      "Average Train Loss: 1.2471; Test Loss: 2.7132;                 Train Accuracy: 0.7069; Test Accuracy: 0.4814;\n"
     ]
    },
    {
     "name": "stderr",
     "output_type": "stream",
     "text": [
      "Epoch 377/500: 100%|██████████████████████████████████████████████████████████████████████████████████████████████████████████████████████████████████████████████████████████████████████████████████████████████████████████████████████████████████████████████████████████| 196/196 [01:08<00:00,  2.87it/s, loss=1.3362, acc_t=0.7000, acc=0.7091]\n"
     ]
    },
    {
     "name": "stdout",
     "output_type": "stream",
     "text": [
      "Average Train Loss: 1.2394; Test Loss: 2.6982;                 Train Accuracy: 0.7091; Test Accuracy: 0.4818;\n"
     ]
    },
    {
     "name": "stderr",
     "output_type": "stream",
     "text": [
      "Epoch 378/500: 100%|██████████████████████████████████████████████████████████████████████████████████████████████████████████████████████████████████████████████████████████████████████████████████████████████████████████████████████████████████████████████████████████| 196/196 [01:09<00:00,  2.84it/s, loss=1.3488, acc_t=0.6750, acc=0.7080]\n"
     ]
    },
    {
     "name": "stdout",
     "output_type": "stream",
     "text": [
      "Average Train Loss: 1.2441; Test Loss: 2.7186;                 Train Accuracy: 0.7080; Test Accuracy: 0.4854;\n"
     ]
    },
    {
     "name": "stderr",
     "output_type": "stream",
     "text": [
      "Epoch 379/500: 100%|██████████████████████████████████████████████████████████████████████████████████████████████████████████████████████████████████████████████████████████████████████████████████████████████████████████████████████████████████████████████████████████| 196/196 [01:08<00:00,  2.86it/s, loss=1.3043, acc_t=0.6813, acc=0.7109]\n"
     ]
    },
    {
     "name": "stdout",
     "output_type": "stream",
     "text": [
      "Average Train Loss: 1.2338; Test Loss: 2.7137;                 Train Accuracy: 0.7109; Test Accuracy: 0.4820;\n"
     ]
    },
    {
     "name": "stderr",
     "output_type": "stream",
     "text": [
      "Epoch 380/500: 100%|██████████████████████████████████████████████████████████████████████████████████████████████████████████████████████████████████████████████████████████████████████████████████████████████████████████████████████████████████████████████████████████| 196/196 [01:08<00:00,  2.87it/s, loss=1.4603, acc_t=0.6687, acc=0.7135]\n"
     ]
    },
    {
     "name": "stdout",
     "output_type": "stream",
     "text": [
      "Average Train Loss: 1.2255; Test Loss: 2.7339;                 Train Accuracy: 0.7135; Test Accuracy: 0.4822;\n"
     ]
    },
    {
     "name": "stderr",
     "output_type": "stream",
     "text": [
      "Epoch 381/500: 100%|██████████████████████████████████████████████████████████████████████████████████████████████████████████████████████████████████████████████████████████████████████████████████████████████████████████████████████████████████████████████████████████| 196/196 [01:08<00:00,  2.87it/s, loss=1.2072, acc_t=0.7312, acc=0.7103]\n"
     ]
    },
    {
     "name": "stdout",
     "output_type": "stream",
     "text": [
      "Average Train Loss: 1.2297; Test Loss: 2.7261;                 Train Accuracy: 0.7103; Test Accuracy: 0.4810;\n"
     ]
    },
    {
     "name": "stderr",
     "output_type": "stream",
     "text": [
      "Epoch 382/500: 100%|██████████████████████████████████████████████████████████████████████████████████████████████████████████████████████████████████████████████████████████████████████████████████████████████████████████████████████████████████████████████████████████| 196/196 [01:08<00:00,  2.86it/s, loss=1.1840, acc_t=0.6937, acc=0.7119]\n"
     ]
    },
    {
     "name": "stdout",
     "output_type": "stream",
     "text": [
      "Average Train Loss: 1.2250; Test Loss: 2.6935;                 Train Accuracy: 0.7119; Test Accuracy: 0.4820;\n"
     ]
    },
    {
     "name": "stderr",
     "output_type": "stream",
     "text": [
      "Epoch 383/500: 100%|██████████████████████████████████████████████████████████████████████████████████████████████████████████████████████████████████████████████████████████████████████████████████████████████████████████████████████████████████████████████████████████| 196/196 [01:08<00:00,  2.87it/s, loss=1.4260, acc_t=0.6687, acc=0.7103]\n"
     ]
    },
    {
     "name": "stdout",
     "output_type": "stream",
     "text": [
      "Average Train Loss: 1.2362; Test Loss: 2.7002;                 Train Accuracy: 0.7103; Test Accuracy: 0.4768;\n"
     ]
    },
    {
     "name": "stderr",
     "output_type": "stream",
     "text": [
      "Epoch 384/500: 100%|██████████████████████████████████████████████████████████████████████████████████████████████████████████████████████████████████████████████████████████████████████████████████████████████████████████████████████████████████████████████████████████| 196/196 [01:08<00:00,  2.85it/s, loss=1.0408, acc_t=0.7500, acc=0.7117]\n"
     ]
    },
    {
     "name": "stdout",
     "output_type": "stream",
     "text": [
      "Average Train Loss: 1.2283; Test Loss: 2.7343;                 Train Accuracy: 0.7117; Test Accuracy: 0.4756;\n"
     ]
    },
    {
     "name": "stderr",
     "output_type": "stream",
     "text": [
      "Epoch 385/500: 100%|██████████████████████████████████████████████████████████████████████████████████████████████████████████████████████████████████████████████████████████████████████████████████████████████████████████████████████████████████████████████████████████| 196/196 [01:09<00:00,  2.84it/s, loss=1.2536, acc_t=0.6813, acc=0.7088]\n"
     ]
    },
    {
     "name": "stdout",
     "output_type": "stream",
     "text": [
      "Average Train Loss: 1.2388; Test Loss: 2.7029;                 Train Accuracy: 0.7088; Test Accuracy: 0.4792;\n"
     ]
    },
    {
     "name": "stderr",
     "output_type": "stream",
     "text": [
      "Epoch 386/500: 100%|██████████████████████████████████████████████████████████████████████████████████████████████████████████████████████████████████████████████████████████████████████████████████████████████████████████████████████████████████████████████████████████| 196/196 [01:08<00:00,  2.87it/s, loss=1.2879, acc_t=0.7000, acc=0.7115]\n"
     ]
    },
    {
     "name": "stdout",
     "output_type": "stream",
     "text": [
      "Average Train Loss: 1.2299; Test Loss: 2.6942;                 Train Accuracy: 0.7115; Test Accuracy: 0.4812;\n"
     ]
    },
    {
     "name": "stderr",
     "output_type": "stream",
     "text": [
      "Epoch 387/500: 100%|██████████████████████████████████████████████████████████████████████████████████████████████████████████████████████████████████████████████████████████████████████████████████████████████████████████████████████████████████████████████████████████| 196/196 [01:08<00:00,  2.86it/s, loss=1.4561, acc_t=0.6438, acc=0.7105]\n"
     ]
    },
    {
     "name": "stdout",
     "output_type": "stream",
     "text": [
      "Average Train Loss: 1.2322; Test Loss: 2.7117;                 Train Accuracy: 0.7105; Test Accuracy: 0.4820;\n"
     ]
    },
    {
     "name": "stderr",
     "output_type": "stream",
     "text": [
      "Epoch 388/500: 100%|██████████████████████████████████████████████████████████████████████████████████████████████████████████████████████████████████████████████████████████████████████████████████████████████████████████████████████████████████████████████████████████| 196/196 [01:08<00:00,  2.87it/s, loss=1.5468, acc_t=0.6250, acc=0.7130]\n"
     ]
    },
    {
     "name": "stdout",
     "output_type": "stream",
     "text": [
      "Average Train Loss: 1.2229; Test Loss: 2.7299;                 Train Accuracy: 0.7130; Test Accuracy: 0.4778;\n"
     ]
    },
    {
     "name": "stderr",
     "output_type": "stream",
     "text": [
      "Epoch 389/500: 100%|██████████████████████████████████████████████████████████████████████████████████████████████████████████████████████████████████████████████████████████████████████████████████████████████████████████████████████████████████████████████████████████| 196/196 [01:08<00:00,  2.85it/s, loss=1.2738, acc_t=0.7000, acc=0.7172]\n"
     ]
    },
    {
     "name": "stdout",
     "output_type": "stream",
     "text": [
      "Average Train Loss: 1.2067; Test Loss: 2.7115;                 Train Accuracy: 0.7172; Test Accuracy: 0.4832;\n"
     ]
    },
    {
     "name": "stderr",
     "output_type": "stream",
     "text": [
      "Epoch 390/500: 100%|██████████████████████████████████████████████████████████████████████████████████████████████████████████████████████████████████████████████████████████████████████████████████████████████████████████████████████████████████████████████████████████| 196/196 [01:08<00:00,  2.85it/s, loss=1.2427, acc_t=0.7000, acc=0.7149]\n"
     ]
    },
    {
     "name": "stdout",
     "output_type": "stream",
     "text": [
      "Average Train Loss: 1.2167; Test Loss: 2.6934;                 Train Accuracy: 0.7149; Test Accuracy: 0.4822;\n"
     ]
    },
    {
     "name": "stderr",
     "output_type": "stream",
     "text": [
      "Epoch 391/500: 100%|██████████████████████████████████████████████████████████████████████████████████████████████████████████████████████████████████████████████████████████████████████████████████████████████████████████████████████████████████████████████████████████| 196/196 [01:08<00:00,  2.84it/s, loss=1.5113, acc_t=0.6813, acc=0.7146]\n"
     ]
    },
    {
     "name": "stdout",
     "output_type": "stream",
     "text": [
      "Average Train Loss: 1.2176; Test Loss: 2.6950;                 Train Accuracy: 0.7146; Test Accuracy: 0.4840;\n"
     ]
    },
    {
     "name": "stderr",
     "output_type": "stream",
     "text": [
      "Epoch 392/500: 100%|██████████████████████████████████████████████████████████████████████████████████████████████████████████████████████████████████████████████████████████████████████████████████████████████████████████████████████████████████████████████████████████| 196/196 [01:08<00:00,  2.86it/s, loss=1.3715, acc_t=0.7250, acc=0.7167]\n"
     ]
    },
    {
     "name": "stdout",
     "output_type": "stream",
     "text": [
      "Average Train Loss: 1.2095; Test Loss: 2.7333;                 Train Accuracy: 0.7167; Test Accuracy: 0.4796;\n"
     ]
    },
    {
     "name": "stderr",
     "output_type": "stream",
     "text": [
      "Epoch 393/500: 100%|██████████████████████████████████████████████████████████████████████████████████████████████████████████████████████████████████████████████████████████████████████████████████████████████████████████████████████████████████████████████████████████| 196/196 [01:08<00:00,  2.87it/s, loss=1.2127, acc_t=0.7625, acc=0.7145]\n"
     ]
    },
    {
     "name": "stdout",
     "output_type": "stream",
     "text": [
      "Average Train Loss: 1.2180; Test Loss: 2.7113;                 Train Accuracy: 0.7145; Test Accuracy: 0.4782;\n"
     ]
    },
    {
     "name": "stderr",
     "output_type": "stream",
     "text": [
      "Epoch 394/500: 100%|██████████████████████████████████████████████████████████████████████████████████████████████████████████████████████████████████████████████████████████████████████████████████████████████████████████████████████████████████████████████████████████| 196/196 [01:08<00:00,  2.87it/s, loss=1.1716, acc_t=0.7063, acc=0.7154]\n"
     ]
    },
    {
     "name": "stdout",
     "output_type": "stream",
     "text": [
      "Average Train Loss: 1.2101; Test Loss: 2.7140;                 Train Accuracy: 0.7154; Test Accuracy: 0.4852;\n"
     ]
    },
    {
     "name": "stderr",
     "output_type": "stream",
     "text": [
      "Epoch 395/500: 100%|██████████████████████████████████████████████████████████████████████████████████████████████████████████████████████████████████████████████████████████████████████████████████████████████████████████████████████████████████████████████████████████| 196/196 [01:08<00:00,  2.87it/s, loss=1.0495, acc_t=0.7312, acc=0.7170]\n"
     ]
    },
    {
     "name": "stdout",
     "output_type": "stream",
     "text": [
      "Average Train Loss: 1.2004; Test Loss: 2.6984;                 Train Accuracy: 0.7170; Test Accuracy: 0.4866;\n"
     ]
    },
    {
     "name": "stderr",
     "output_type": "stream",
     "text": [
      "Epoch 396/500: 100%|██████████████████████████████████████████████████████████████████████████████████████████████████████████████████████████████████████████████████████████████████████████████████████████████████████████████████████████████████████████████████████████| 196/196 [01:08<00:00,  2.85it/s, loss=1.3983, acc_t=0.6937, acc=0.7156]\n"
     ]
    },
    {
     "name": "stdout",
     "output_type": "stream",
     "text": [
      "Average Train Loss: 1.2135; Test Loss: 2.7217;                 Train Accuracy: 0.7156; Test Accuracy: 0.4822;\n"
     ]
    },
    {
     "name": "stderr",
     "output_type": "stream",
     "text": [
      "Epoch 397/500: 100%|██████████████████████████████████████████████████████████████████████████████████████████████████████████████████████████████████████████████████████████████████████████████████████████████████████████████████████████████████████████████████████████| 196/196 [01:08<00:00,  2.87it/s, loss=1.3879, acc_t=0.7000, acc=0.7187]\n"
     ]
    },
    {
     "name": "stdout",
     "output_type": "stream",
     "text": [
      "Average Train Loss: 1.2012; Test Loss: 2.7274;                 Train Accuracy: 0.7187; Test Accuracy: 0.4792;\n"
     ]
    },
    {
     "name": "stderr",
     "output_type": "stream",
     "text": [
      "Epoch 398/500: 100%|██████████████████████████████████████████████████████████████████████████████████████████████████████████████████████████████████████████████████████████████████████████████████████████████████████████████████████████████████████████████████████████| 196/196 [01:08<00:00,  2.86it/s, loss=1.4152, acc_t=0.6438, acc=0.7144]\n"
     ]
    },
    {
     "name": "stdout",
     "output_type": "stream",
     "text": [
      "Average Train Loss: 1.2202; Test Loss: 2.7170;                 Train Accuracy: 0.7144; Test Accuracy: 0.4816;\n"
     ]
    },
    {
     "name": "stderr",
     "output_type": "stream",
     "text": [
      "Epoch 399/500: 100%|██████████████████████████████████████████████████████████████████████████████████████████████████████████████████████████████████████████████████████████████████████████████████████████████████████████████████████████████████████████████████████████| 196/196 [01:08<00:00,  2.87it/s, loss=1.0349, acc_t=0.7750, acc=0.7191]\n"
     ]
    },
    {
     "name": "stdout",
     "output_type": "stream",
     "text": [
      "Average Train Loss: 1.1964; Test Loss: 2.7007;                 Train Accuracy: 0.7191; Test Accuracy: 0.4816;\n"
     ]
    },
    {
     "name": "stderr",
     "output_type": "stream",
     "text": [
      "Epoch 400/500: 100%|██████████████████████████████████████████████████████████████████████████████████████████████████████████████████████████████████████████████████████████████████████████████████████████████████████████████████████████████████████████████████████████| 196/196 [01:08<00:00,  2.86it/s, loss=1.2299, acc_t=0.6875, acc=0.7161]\n"
     ]
    },
    {
     "name": "stdout",
     "output_type": "stream",
     "text": [
      "Average Train Loss: 1.2053; Test Loss: 2.7120;                 Train Accuracy: 0.7161; Test Accuracy: 0.4866;\n"
     ]
    },
    {
     "name": "stderr",
     "output_type": "stream",
     "text": [
      "Epoch 401/500: 100%|██████████████████████████████████████████████████████████████████████████████████████████████████████████████████████████████████████████████████████████████████████████████████████████████████████████████████████████████████████████████████████████| 196/196 [01:08<00:00,  2.86it/s, loss=0.9042, acc_t=0.8125, acc=0.7164]\n"
     ]
    },
    {
     "name": "stdout",
     "output_type": "stream",
     "text": [
      "Average Train Loss: 1.2105; Test Loss: 2.7059;                 Train Accuracy: 0.7164; Test Accuracy: 0.4792;\n"
     ]
    },
    {
     "name": "stderr",
     "output_type": "stream",
     "text": [
      "Epoch 402/500: 100%|██████████████████████████████████████████████████████████████████████████████████████████████████████████████████████████████████████████████████████████████████████████████████████████████████████████████████████████████████████████████████████████| 196/196 [01:08<00:00,  2.87it/s, loss=1.3203, acc_t=0.6500, acc=0.7147]\n"
     ]
    },
    {
     "name": "stdout",
     "output_type": "stream",
     "text": [
      "Average Train Loss: 1.2156; Test Loss: 2.7109;                 Train Accuracy: 0.7147; Test Accuracy: 0.4814;\n"
     ]
    },
    {
     "name": "stderr",
     "output_type": "stream",
     "text": [
      "Epoch 403/500: 100%|██████████████████████████████████████████████████████████████████████████████████████████████████████████████████████████████████████████████████████████████████████████████████████████████████████████████████████████████████████████████████████████| 196/196 [01:08<00:00,  2.86it/s, loss=1.2585, acc_t=0.6937, acc=0.7195]\n"
     ]
    },
    {
     "name": "stdout",
     "output_type": "stream",
     "text": [
      "Average Train Loss: 1.1959; Test Loss: 2.7120;                 Train Accuracy: 0.7195; Test Accuracy: 0.4814;\n"
     ]
    },
    {
     "name": "stderr",
     "output_type": "stream",
     "text": [
      "Epoch 404/500: 100%|██████████████████████████████████████████████████████████████████████████████████████████████████████████████████████████████████████████████████████████████████████████████████████████████████████████████████████████████████████████████████████████| 196/196 [01:08<00:00,  2.87it/s, loss=1.4597, acc_t=0.6813, acc=0.7185]\n"
     ]
    },
    {
     "name": "stdout",
     "output_type": "stream",
     "text": [
      "Average Train Loss: 1.1991; Test Loss: 2.7051;                 Train Accuracy: 0.7185; Test Accuracy: 0.4816;\n"
     ]
    },
    {
     "name": "stderr",
     "output_type": "stream",
     "text": [
      "Epoch 405/500: 100%|██████████████████████████████████████████████████████████████████████████████████████████████████████████████████████████████████████████████████████████████████████████████████████████████████████████████████████████████████████████████████████████| 196/196 [01:08<00:00,  2.86it/s, loss=1.2788, acc_t=0.6687, acc=0.7195]\n"
     ]
    },
    {
     "name": "stdout",
     "output_type": "stream",
     "text": [
      "Average Train Loss: 1.1862; Test Loss: 2.7103;                 Train Accuracy: 0.7195; Test Accuracy: 0.4822;\n"
     ]
    },
    {
     "name": "stderr",
     "output_type": "stream",
     "text": [
      "Epoch 406/500: 100%|██████████████████████████████████████████████████████████████████████████████████████████████████████████████████████████████████████████████████████████████████████████████████████████████████████████████████████████████████████████████████████████| 196/196 [01:08<00:00,  2.86it/s, loss=1.0062, acc_t=0.7875, acc=0.7203]\n"
     ]
    },
    {
     "name": "stdout",
     "output_type": "stream",
     "text": [
      "Average Train Loss: 1.1904; Test Loss: 2.6900;                 Train Accuracy: 0.7203; Test Accuracy: 0.4862;\n"
     ]
    },
    {
     "name": "stderr",
     "output_type": "stream",
     "text": [
      "Epoch 407/500: 100%|██████████████████████████████████████████████████████████████████████████████████████████████████████████████████████████████████████████████████████████████████████████████████████████████████████████████████████████████████████████████████████████| 196/196 [01:08<00:00,  2.86it/s, loss=1.3549, acc_t=0.6937, acc=0.7203]\n"
     ]
    },
    {
     "name": "stdout",
     "output_type": "stream",
     "text": [
      "Average Train Loss: 1.1911; Test Loss: 2.7179;                 Train Accuracy: 0.7203; Test Accuracy: 0.4828;\n"
     ]
    },
    {
     "name": "stderr",
     "output_type": "stream",
     "text": [
      "Epoch 408/500: 100%|██████████████████████████████████████████████████████████████████████████████████████████████████████████████████████████████████████████████████████████████████████████████████████████████████████████████████████████████████████████████████████████| 196/196 [01:08<00:00,  2.87it/s, loss=0.9697, acc_t=0.7812, acc=0.7202]\n"
     ]
    },
    {
     "name": "stdout",
     "output_type": "stream",
     "text": [
      "Average Train Loss: 1.1915; Test Loss: 2.7215;                 Train Accuracy: 0.7202; Test Accuracy: 0.4836;\n"
     ]
    },
    {
     "name": "stderr",
     "output_type": "stream",
     "text": [
      "Epoch 409/500: 100%|██████████████████████████████████████████████████████████████████████████████████████████████████████████████████████████████████████████████████████████████████████████████████████████████████████████████████████████████████████████████████████████| 196/196 [01:08<00:00,  2.86it/s, loss=1.2565, acc_t=0.7125, acc=0.7210]\n"
     ]
    },
    {
     "name": "stdout",
     "output_type": "stream",
     "text": [
      "Average Train Loss: 1.1890; Test Loss: 2.7110;                 Train Accuracy: 0.7210; Test Accuracy: 0.4862;\n"
     ]
    },
    {
     "name": "stderr",
     "output_type": "stream",
     "text": [
      "Epoch 410/500: 100%|██████████████████████████████████████████████████████████████████████████████████████████████████████████████████████████████████████████████████████████████████████████████████████████████████████████████████████████████████████████████████████████| 196/196 [01:08<00:00,  2.85it/s, loss=1.4186, acc_t=0.6875, acc=0.7214]\n"
     ]
    },
    {
     "name": "stdout",
     "output_type": "stream",
     "text": [
      "Average Train Loss: 1.1851; Test Loss: 2.6888;                 Train Accuracy: 0.7214; Test Accuracy: 0.4902;\n"
     ]
    },
    {
     "name": "stderr",
     "output_type": "stream",
     "text": [
      "Epoch 411/500: 100%|██████████████████████████████████████████████████████████████████████████████████████████████████████████████████████████████████████████████████████████████████████████████████████████████████████████████████████████████████████████████████████████| 196/196 [01:08<00:00,  2.87it/s, loss=1.2251, acc_t=0.7312, acc=0.7209]\n"
     ]
    },
    {
     "name": "stdout",
     "output_type": "stream",
     "text": [
      "Average Train Loss: 1.1939; Test Loss: 2.7002;                 Train Accuracy: 0.7209; Test Accuracy: 0.4824;\n"
     ]
    },
    {
     "name": "stderr",
     "output_type": "stream",
     "text": [
      "Epoch 412/500: 100%|██████████████████████████████████████████████████████████████████████████████████████████████████████████████████████████████████████████████████████████████████████████████████████████████████████████████████████████████████████████████████████████| 196/196 [01:08<00:00,  2.86it/s, loss=1.2494, acc_t=0.7250, acc=0.7225]\n"
     ]
    },
    {
     "name": "stdout",
     "output_type": "stream",
     "text": [
      "Average Train Loss: 1.1837; Test Loss: 2.6972;                 Train Accuracy: 0.7225; Test Accuracy: 0.4866;\n"
     ]
    },
    {
     "name": "stderr",
     "output_type": "stream",
     "text": [
      "Epoch 413/500: 100%|██████████████████████████████████████████████████████████████████████████████████████████████████████████████████████████████████████████████████████████████████████████████████████████████████████████████████████████████████████████████████████████| 196/196 [01:08<00:00,  2.86it/s, loss=1.4333, acc_t=0.6813, acc=0.7228]\n"
     ]
    },
    {
     "name": "stdout",
     "output_type": "stream",
     "text": [
      "Average Train Loss: 1.1793; Test Loss: 2.6883;                 Train Accuracy: 0.7228; Test Accuracy: 0.4842;\n"
     ]
    },
    {
     "name": "stderr",
     "output_type": "stream",
     "text": [
      "Epoch 414/500: 100%|██████████████████████████████████████████████████████████████████████████████████████████████████████████████████████████████████████████████████████████████████████████████████████████████████████████████████████████████████████████████████████████| 196/196 [01:08<00:00,  2.87it/s, loss=1.2267, acc_t=0.7188, acc=0.7230]\n"
     ]
    },
    {
     "name": "stdout",
     "output_type": "stream",
     "text": [
      "Average Train Loss: 1.1781; Test Loss: 2.6883;                 Train Accuracy: 0.7230; Test Accuracy: 0.4858;\n"
     ]
    },
    {
     "name": "stderr",
     "output_type": "stream",
     "text": [
      "Epoch 415/500: 100%|██████████████████████████████████████████████████████████████████████████████████████████████████████████████████████████████████████████████████████████████████████████████████████████████████████████████████████████████████████████████████████████| 196/196 [01:08<00:00,  2.86it/s, loss=1.2711, acc_t=0.7250, acc=0.7197]\n"
     ]
    },
    {
     "name": "stdout",
     "output_type": "stream",
     "text": [
      "Average Train Loss: 1.1907; Test Loss: 2.7001;                 Train Accuracy: 0.7197; Test Accuracy: 0.4866;\n"
     ]
    },
    {
     "name": "stderr",
     "output_type": "stream",
     "text": [
      "Epoch 416/500: 100%|██████████████████████████████████████████████████████████████████████████████████████████████████████████████████████████████████████████████████████████████████████████████████████████████████████████████████████████████████████████████████████████| 196/196 [01:08<00:00,  2.86it/s, loss=1.3089, acc_t=0.6750, acc=0.7220]\n"
     ]
    },
    {
     "name": "stdout",
     "output_type": "stream",
     "text": [
      "Average Train Loss: 1.1816; Test Loss: 2.6917;                 Train Accuracy: 0.7220; Test Accuracy: 0.4864;\n"
     ]
    },
    {
     "name": "stderr",
     "output_type": "stream",
     "text": [
      "Epoch 417/500: 100%|██████████████████████████████████████████████████████████████████████████████████████████████████████████████████████████████████████████████████████████████████████████████████████████████████████████████████████████████████████████████████████████| 196/196 [01:08<00:00,  2.87it/s, loss=1.0025, acc_t=0.7750, acc=0.7246]\n"
     ]
    },
    {
     "name": "stdout",
     "output_type": "stream",
     "text": [
      "Average Train Loss: 1.1697; Test Loss: 2.6981;                 Train Accuracy: 0.7246; Test Accuracy: 0.4866;\n"
     ]
    },
    {
     "name": "stderr",
     "output_type": "stream",
     "text": [
      "Epoch 418/500: 100%|██████████████████████████████████████████████████████████████████████████████████████████████████████████████████████████████████████████████████████████████████████████████████████████████████████████████████████████████████████████████████████████| 196/196 [01:08<00:00,  2.86it/s, loss=1.2473, acc_t=0.7250, acc=0.7245]\n"
     ]
    },
    {
     "name": "stdout",
     "output_type": "stream",
     "text": [
      "Average Train Loss: 1.1750; Test Loss: 2.7102;                 Train Accuracy: 0.7245; Test Accuracy: 0.4910;\n"
     ]
    },
    {
     "name": "stderr",
     "output_type": "stream",
     "text": [
      "Epoch 419/500: 100%|██████████████████████████████████████████████████████████████████████████████████████████████████████████████████████████████████████████████████████████████████████████████████████████████████████████████████████████████████████████████████████████| 196/196 [01:08<00:00,  2.86it/s, loss=1.3828, acc_t=0.6562, acc=0.7231]\n"
     ]
    },
    {
     "name": "stdout",
     "output_type": "stream",
     "text": [
      "Average Train Loss: 1.1783; Test Loss: 2.6950;                 Train Accuracy: 0.7231; Test Accuracy: 0.4892;\n"
     ]
    },
    {
     "name": "stderr",
     "output_type": "stream",
     "text": [
      "Epoch 420/500: 100%|██████████████████████████████████████████████████████████████████████████████████████████████████████████████████████████████████████████████████████████████████████████████████████████████████████████████████████████████████████████████████████████| 196/196 [01:09<00:00,  2.83it/s, loss=1.3801, acc_t=0.7000, acc=0.7233]\n"
     ]
    },
    {
     "name": "stdout",
     "output_type": "stream",
     "text": [
      "Average Train Loss: 1.1794; Test Loss: 2.7189;                 Train Accuracy: 0.7233; Test Accuracy: 0.4850;\n"
     ]
    },
    {
     "name": "stderr",
     "output_type": "stream",
     "text": [
      "Epoch 421/500: 100%|██████████████████████████████████████████████████████████████████████████████████████████████████████████████████████████████████████████████████████████████████████████████████████████████████████████████████████████████████████████████████████████| 196/196 [01:09<00:00,  2.84it/s, loss=1.1347, acc_t=0.7250, acc=0.7257]\n"
     ]
    },
    {
     "name": "stdout",
     "output_type": "stream",
     "text": [
      "Average Train Loss: 1.1654; Test Loss: 2.7123;                 Train Accuracy: 0.7257; Test Accuracy: 0.4780;\n"
     ]
    },
    {
     "name": "stderr",
     "output_type": "stream",
     "text": [
      "Epoch 422/500: 100%|██████████████████████████████████████████████████████████████████████████████████████████████████████████████████████████████████████████████████████████████████████████████████████████████████████████████████████████████████████████████████████████| 196/196 [01:08<00:00,  2.85it/s, loss=1.3178, acc_t=0.6937, acc=0.7238]\n"
     ]
    },
    {
     "name": "stdout",
     "output_type": "stream",
     "text": [
      "Average Train Loss: 1.1750; Test Loss: 2.7210;                 Train Accuracy: 0.7238; Test Accuracy: 0.4838;\n"
     ]
    },
    {
     "name": "stderr",
     "output_type": "stream",
     "text": [
      "Epoch 423/500: 100%|██████████████████████████████████████████████████████████████████████████████████████████████████████████████████████████████████████████████████████████████████████████████████████████████████████████████████████████████████████████████████████████| 196/196 [01:08<00:00,  2.86it/s, loss=1.2190, acc_t=0.7312, acc=0.7229]\n"
     ]
    },
    {
     "name": "stdout",
     "output_type": "stream",
     "text": [
      "Average Train Loss: 1.1784; Test Loss: 2.7008;                 Train Accuracy: 0.7229; Test Accuracy: 0.4892;\n"
     ]
    },
    {
     "name": "stderr",
     "output_type": "stream",
     "text": [
      "Epoch 424/500: 100%|██████████████████████████████████████████████████████████████████████████████████████████████████████████████████████████████████████████████████████████████████████████████████████████████████████████████████████████████████████████████████████████| 196/196 [01:08<00:00,  2.86it/s, loss=1.3470, acc_t=0.6937, acc=0.7224]\n"
     ]
    },
    {
     "name": "stdout",
     "output_type": "stream",
     "text": [
      "Average Train Loss: 1.1814; Test Loss: 2.6903;                 Train Accuracy: 0.7224; Test Accuracy: 0.4872;\n"
     ]
    },
    {
     "name": "stderr",
     "output_type": "stream",
     "text": [
      "Epoch 425/500: 100%|██████████████████████████████████████████████████████████████████████████████████████████████████████████████████████████████████████████████████████████████████████████████████████████████████████████████████████████████████████████████████████████| 196/196 [01:08<00:00,  2.85it/s, loss=1.2714, acc_t=0.7000, acc=0.7223]\n"
     ]
    },
    {
     "name": "stdout",
     "output_type": "stream",
     "text": [
      "Average Train Loss: 1.1808; Test Loss: 2.6932;                 Train Accuracy: 0.7223; Test Accuracy: 0.4882;\n"
     ]
    },
    {
     "name": "stderr",
     "output_type": "stream",
     "text": [
      "Epoch 426/500: 100%|██████████████████████████████████████████████████████████████████████████████████████████████████████████████████████████████████████████████████████████████████████████████████████████████████████████████████████████████████████████████████████████| 196/196 [01:09<00:00,  2.84it/s, loss=1.3786, acc_t=0.6687, acc=0.7240]\n"
     ]
    },
    {
     "name": "stdout",
     "output_type": "stream",
     "text": [
      "Average Train Loss: 1.1726; Test Loss: 2.6807;                 Train Accuracy: 0.7240; Test Accuracy: 0.4874;\n"
     ]
    },
    {
     "name": "stderr",
     "output_type": "stream",
     "text": [
      "Epoch 427/500: 100%|██████████████████████████████████████████████████████████████████████████████████████████████████████████████████████████████████████████████████████████████████████████████████████████████████████████████████████████████████████████████████████████| 196/196 [01:08<00:00,  2.86it/s, loss=1.0872, acc_t=0.7438, acc=0.7247]\n"
     ]
    },
    {
     "name": "stdout",
     "output_type": "stream",
     "text": [
      "Average Train Loss: 1.1659; Test Loss: 2.6856;                 Train Accuracy: 0.7247; Test Accuracy: 0.4904;\n"
     ]
    },
    {
     "name": "stderr",
     "output_type": "stream",
     "text": [
      "Epoch 428/500: 100%|██████████████████████████████████████████████████████████████████████████████████████████████████████████████████████████████████████████████████████████████████████████████████████████████████████████████████████████████████████████████████████████| 196/196 [01:08<00:00,  2.87it/s, loss=1.5195, acc_t=0.6438, acc=0.7248]\n"
     ]
    },
    {
     "name": "stdout",
     "output_type": "stream",
     "text": [
      "Average Train Loss: 1.1706; Test Loss: 2.6829;                 Train Accuracy: 0.7248; Test Accuracy: 0.4884;\n"
     ]
    },
    {
     "name": "stderr",
     "output_type": "stream",
     "text": [
      "Epoch 429/500: 100%|██████████████████████████████████████████████████████████████████████████████████████████████████████████████████████████████████████████████████████████████████████████████████████████████████████████████████████████████████████████████████████████| 196/196 [01:08<00:00,  2.87it/s, loss=1.0646, acc_t=0.7625, acc=0.7254]\n"
     ]
    },
    {
     "name": "stdout",
     "output_type": "stream",
     "text": [
      "Average Train Loss: 1.1680; Test Loss: 2.6805;                 Train Accuracy: 0.7254; Test Accuracy: 0.4916;\n"
     ]
    },
    {
     "name": "stderr",
     "output_type": "stream",
     "text": [
      "Epoch 430/500: 100%|██████████████████████████████████████████████████████████████████████████████████████████████████████████████████████████████████████████████████████████████████████████████████████████████████████████████████████████████████████████████████████████| 196/196 [01:08<00:00,  2.85it/s, loss=1.2419, acc_t=0.7000, acc=0.7234]\n"
     ]
    },
    {
     "name": "stdout",
     "output_type": "stream",
     "text": [
      "Average Train Loss: 1.1734; Test Loss: 2.6838;                 Train Accuracy: 0.7234; Test Accuracy: 0.4884;\n"
     ]
    },
    {
     "name": "stderr",
     "output_type": "stream",
     "text": [
      "Epoch 431/500: 100%|██████████████████████████████████████████████████████████████████████████████████████████████████████████████████████████████████████████████████████████████████████████████████████████████████████████████████████████████████████████████████████████| 196/196 [01:08<00:00,  2.87it/s, loss=1.2296, acc_t=0.6500, acc=0.7245]\n"
     ]
    },
    {
     "name": "stdout",
     "output_type": "stream",
     "text": [
      "Average Train Loss: 1.1666; Test Loss: 2.6979;                 Train Accuracy: 0.7245; Test Accuracy: 0.4892;\n"
     ]
    },
    {
     "name": "stderr",
     "output_type": "stream",
     "text": [
      "Epoch 432/500: 100%|██████████████████████████████████████████████████████████████████████████████████████████████████████████████████████████████████████████████████████████████████████████████████████████████████████████████████████████████████████████████████████████| 196/196 [01:08<00:00,  2.85it/s, loss=1.1185, acc_t=0.7250, acc=0.7241]\n"
     ]
    },
    {
     "name": "stdout",
     "output_type": "stream",
     "text": [
      "Average Train Loss: 1.1682; Test Loss: 2.6912;                 Train Accuracy: 0.7241; Test Accuracy: 0.4890;\n"
     ]
    },
    {
     "name": "stderr",
     "output_type": "stream",
     "text": [
      "Epoch 433/500: 100%|██████████████████████████████████████████████████████████████████████████████████████████████████████████████████████████████████████████████████████████████████████████████████████████████████████████████████████████████████████████████████████████| 196/196 [01:08<00:00,  2.86it/s, loss=1.2944, acc_t=0.7188, acc=0.7286]\n"
     ]
    },
    {
     "name": "stdout",
     "output_type": "stream",
     "text": [
      "Average Train Loss: 1.1582; Test Loss: 2.7020;                 Train Accuracy: 0.7286; Test Accuracy: 0.4862;\n"
     ]
    },
    {
     "name": "stderr",
     "output_type": "stream",
     "text": [
      "Epoch 434/500: 100%|██████████████████████████████████████████████████████████████████████████████████████████████████████████████████████████████████████████████████████████████████████████████████████████████████████████████████████████████████████████████████████████| 196/196 [01:08<00:00,  2.86it/s, loss=0.9990, acc_t=0.7562, acc=0.7293]\n"
     ]
    },
    {
     "name": "stdout",
     "output_type": "stream",
     "text": [
      "Average Train Loss: 1.1517; Test Loss: 2.6907;                 Train Accuracy: 0.7293; Test Accuracy: 0.4852;\n"
     ]
    },
    {
     "name": "stderr",
     "output_type": "stream",
     "text": [
      "Epoch 435/500: 100%|██████████████████████████████████████████████████████████████████████████████████████████████████████████████████████████████████████████████████████████████████████████████████████████████████████████████████████████████████████████████████████████| 196/196 [01:08<00:00,  2.86it/s, loss=1.2621, acc_t=0.7125, acc=0.7255]\n"
     ]
    },
    {
     "name": "stdout",
     "output_type": "stream",
     "text": [
      "Average Train Loss: 1.1696; Test Loss: 2.6879;                 Train Accuracy: 0.7255; Test Accuracy: 0.4854;\n"
     ]
    },
    {
     "name": "stderr",
     "output_type": "stream",
     "text": [
      "Epoch 436/500: 100%|██████████████████████████████████████████████████████████████████████████████████████████████████████████████████████████████████████████████████████████████████████████████████████████████████████████████████████████████████████████████████████████| 196/196 [01:08<00:00,  2.87it/s, loss=1.0222, acc_t=0.7812, acc=0.7289]\n"
     ]
    },
    {
     "name": "stdout",
     "output_type": "stream",
     "text": [
      "Average Train Loss: 1.1612; Test Loss: 2.6844;                 Train Accuracy: 0.7289; Test Accuracy: 0.4896;\n"
     ]
    },
    {
     "name": "stderr",
     "output_type": "stream",
     "text": [
      "Epoch 437/500: 100%|██████████████████████████████████████████████████████████████████████████████████████████████████████████████████████████████████████████████████████████████████████████████████████████████████████████████████████████████████████████████████████████| 196/196 [01:08<00:00,  2.86it/s, loss=1.3772, acc_t=0.6937, acc=0.7277]\n"
     ]
    },
    {
     "name": "stdout",
     "output_type": "stream",
     "text": [
      "Average Train Loss: 1.1526; Test Loss: 2.6937;                 Train Accuracy: 0.7277; Test Accuracy: 0.4884;\n"
     ]
    },
    {
     "name": "stderr",
     "output_type": "stream",
     "text": [
      "Epoch 438/500: 100%|██████████████████████████████████████████████████████████████████████████████████████████████████████████████████████████████████████████████████████████████████████████████████████████████████████████████████████████████████████████████████████████| 196/196 [01:08<00:00,  2.85it/s, loss=1.3130, acc_t=0.6875, acc=0.7285]\n"
     ]
    },
    {
     "name": "stdout",
     "output_type": "stream",
     "text": [
      "Average Train Loss: 1.1485; Test Loss: 2.6956;                 Train Accuracy: 0.7285; Test Accuracy: 0.4888;\n"
     ]
    },
    {
     "name": "stderr",
     "output_type": "stream",
     "text": [
      "Epoch 439/500: 100%|██████████████████████████████████████████████████████████████████████████████████████████████████████████████████████████████████████████████████████████████████████████████████████████████████████████████████████████████████████████████████████████| 196/196 [01:08<00:00,  2.87it/s, loss=1.2112, acc_t=0.7250, acc=0.7291]\n"
     ]
    },
    {
     "name": "stdout",
     "output_type": "stream",
     "text": [
      "Average Train Loss: 1.1511; Test Loss: 2.6841;                 Train Accuracy: 0.7291; Test Accuracy: 0.4884;\n"
     ]
    },
    {
     "name": "stderr",
     "output_type": "stream",
     "text": [
      "Epoch 440/500: 100%|██████████████████████████████████████████████████████████████████████████████████████████████████████████████████████████████████████████████████████████████████████████████████████████████████████████████████████████████████████████████████████████| 196/196 [01:08<00:00,  2.86it/s, loss=1.2003, acc_t=0.6937, acc=0.7273]\n"
     ]
    },
    {
     "name": "stdout",
     "output_type": "stream",
     "text": [
      "Average Train Loss: 1.1560; Test Loss: 2.6833;                 Train Accuracy: 0.7273; Test Accuracy: 0.4888;\n"
     ]
    },
    {
     "name": "stderr",
     "output_type": "stream",
     "text": [
      "Epoch 441/500: 100%|██████████████████████████████████████████████████████████████████████████████████████████████████████████████████████████████████████████████████████████████████████████████████████████████████████████████████████████████████████████████████████████| 196/196 [01:08<00:00,  2.86it/s, loss=1.0856, acc_t=0.7625, acc=0.7282]\n"
     ]
    },
    {
     "name": "stdout",
     "output_type": "stream",
     "text": [
      "Average Train Loss: 1.1511; Test Loss: 2.6966;                 Train Accuracy: 0.7282; Test Accuracy: 0.4878;\n"
     ]
    },
    {
     "name": "stderr",
     "output_type": "stream",
     "text": [
      "Epoch 442/500: 100%|██████████████████████████████████████████████████████████████████████████████████████████████████████████████████████████████████████████████████████████████████████████████████████████████████████████████████████████████████████████████████████████| 196/196 [01:08<00:00,  2.87it/s, loss=1.3309, acc_t=0.7250, acc=0.7283]\n"
     ]
    },
    {
     "name": "stdout",
     "output_type": "stream",
     "text": [
      "Average Train Loss: 1.1517; Test Loss: 2.6947;                 Train Accuracy: 0.7283; Test Accuracy: 0.4856;\n"
     ]
    },
    {
     "name": "stderr",
     "output_type": "stream",
     "text": [
      "Epoch 443/500: 100%|██████████████████████████████████████████████████████████████████████████████████████████████████████████████████████████████████████████████████████████████████████████████████████████████████████████████████████████████████████████████████████████| 196/196 [01:08<00:00,  2.86it/s, loss=1.2019, acc_t=0.7312, acc=0.7301]\n"
     ]
    },
    {
     "name": "stdout",
     "output_type": "stream",
     "text": [
      "Average Train Loss: 1.1497; Test Loss: 2.6886;                 Train Accuracy: 0.7301; Test Accuracy: 0.4876;\n"
     ]
    },
    {
     "name": "stderr",
     "output_type": "stream",
     "text": [
      "Epoch 444/500: 100%|██████████████████████████████████████████████████████████████████████████████████████████████████████████████████████████████████████████████████████████████████████████████████████████████████████████████████████████████████████████████████████████| 196/196 [01:08<00:00,  2.86it/s, loss=1.2966, acc_t=0.7000, acc=0.7275]\n"
     ]
    },
    {
     "name": "stdout",
     "output_type": "stream",
     "text": [
      "Average Train Loss: 1.1617; Test Loss: 2.6923;                 Train Accuracy: 0.7275; Test Accuracy: 0.4872;\n"
     ]
    },
    {
     "name": "stderr",
     "output_type": "stream",
     "text": [
      "Epoch 445/500: 100%|██████████████████████████████████████████████████████████████████████████████████████████████████████████████████████████████████████████████████████████████████████████████████████████████████████████████████████████████████████████████████████████| 196/196 [01:08<00:00,  2.86it/s, loss=1.2561, acc_t=0.7312, acc=0.7324]\n"
     ]
    },
    {
     "name": "stdout",
     "output_type": "stream",
     "text": [
      "Average Train Loss: 1.1449; Test Loss: 2.6748;                 Train Accuracy: 0.7324; Test Accuracy: 0.4872;\n"
     ]
    },
    {
     "name": "stderr",
     "output_type": "stream",
     "text": [
      "Epoch 446/500: 100%|██████████████████████████████████████████████████████████████████████████████████████████████████████████████████████████████████████████████████████████████████████████████████████████████████████████████████████████████████████████████████████████| 196/196 [01:08<00:00,  2.87it/s, loss=1.0650, acc_t=0.7500, acc=0.7283]\n"
     ]
    },
    {
     "name": "stdout",
     "output_type": "stream",
     "text": [
      "Average Train Loss: 1.1509; Test Loss: 2.6800;                 Train Accuracy: 0.7283; Test Accuracy: 0.4882;\n"
     ]
    },
    {
     "name": "stderr",
     "output_type": "stream",
     "text": [
      "Epoch 447/500: 100%|██████████████████████████████████████████████████████████████████████████████████████████████████████████████████████████████████████████████████████████████████████████████████████████████████████████████████████████████████████████████████████████| 196/196 [01:08<00:00,  2.85it/s, loss=1.2840, acc_t=0.6937, acc=0.7295]\n"
     ]
    },
    {
     "name": "stdout",
     "output_type": "stream",
     "text": [
      "Average Train Loss: 1.1546; Test Loss: 2.6848;                 Train Accuracy: 0.7295; Test Accuracy: 0.4914;\n"
     ]
    },
    {
     "name": "stderr",
     "output_type": "stream",
     "text": [
      "Epoch 448/500: 100%|██████████████████████████████████████████████████████████████████████████████████████████████████████████████████████████████████████████████████████████████████████████████████████████████████████████████████████████████████████████████████████████| 196/196 [01:08<00:00,  2.85it/s, loss=1.0909, acc_t=0.7312, acc=0.7297]\n"
     ]
    },
    {
     "name": "stdout",
     "output_type": "stream",
     "text": [
      "Average Train Loss: 1.1491; Test Loss: 2.6742;                 Train Accuracy: 0.7297; Test Accuracy: 0.4878;\n"
     ]
    },
    {
     "name": "stderr",
     "output_type": "stream",
     "text": [
      "Epoch 449/500: 100%|██████████████████████████████████████████████████████████████████████████████████████████████████████████████████████████████████████████████████████████████████████████████████████████████████████████████████████████████████████████████████████████| 196/196 [01:08<00:00,  2.86it/s, loss=1.0970, acc_t=0.7188, acc=0.7268]\n"
     ]
    },
    {
     "name": "stdout",
     "output_type": "stream",
     "text": [
      "Average Train Loss: 1.1600; Test Loss: 2.6761;                 Train Accuracy: 0.7268; Test Accuracy: 0.4852;\n"
     ]
    },
    {
     "name": "stderr",
     "output_type": "stream",
     "text": [
      "Epoch 450/500: 100%|██████████████████████████████████████████████████████████████████████████████████████████████████████████████████████████████████████████████████████████████████████████████████████████████████████████████████████████████████████████████████████████| 196/196 [01:08<00:00,  2.86it/s, loss=1.1204, acc_t=0.7500, acc=0.7301]\n"
     ]
    },
    {
     "name": "stdout",
     "output_type": "stream",
     "text": [
      "Average Train Loss: 1.1457; Test Loss: 2.6810;                 Train Accuracy: 0.7301; Test Accuracy: 0.4896;\n"
     ]
    },
    {
     "name": "stderr",
     "output_type": "stream",
     "text": [
      "Epoch 451/500: 100%|██████████████████████████████████████████████████████████████████████████████████████████████████████████████████████████████████████████████████████████████████████████████████████████████████████████████████████████████████████████████████████████| 196/196 [01:08<00:00,  2.86it/s, loss=1.0569, acc_t=0.6937, acc=0.7314]\n"
     ]
    },
    {
     "name": "stdout",
     "output_type": "stream",
     "text": [
      "Average Train Loss: 1.1439; Test Loss: 2.6816;                 Train Accuracy: 0.7314; Test Accuracy: 0.4892;\n"
     ]
    },
    {
     "name": "stderr",
     "output_type": "stream",
     "text": [
      "Epoch 452/500: 100%|██████████████████████████████████████████████████████████████████████████████████████████████████████████████████████████████████████████████████████████████████████████████████████████████████████████████████████████████████████████████████████████| 196/196 [01:08<00:00,  2.85it/s, loss=1.3727, acc_t=0.7125, acc=0.7324]\n"
     ]
    },
    {
     "name": "stdout",
     "output_type": "stream",
     "text": [
      "Average Train Loss: 1.1421; Test Loss: 2.6927;                 Train Accuracy: 0.7324; Test Accuracy: 0.4904;\n"
     ]
    },
    {
     "name": "stderr",
     "output_type": "stream",
     "text": [
      "Epoch 453/500: 100%|██████████████████████████████████████████████████████████████████████████████████████████████████████████████████████████████████████████████████████████████████████████████████████████████████████████████████████████████████████████████████████████| 196/196 [01:08<00:00,  2.86it/s, loss=1.0475, acc_t=0.7812, acc=0.7338]\n"
     ]
    },
    {
     "name": "stdout",
     "output_type": "stream",
     "text": [
      "Average Train Loss: 1.1365; Test Loss: 2.6762;                 Train Accuracy: 0.7338; Test Accuracy: 0.4902;\n"
     ]
    },
    {
     "name": "stderr",
     "output_type": "stream",
     "text": [
      "Epoch 454/500: 100%|██████████████████████████████████████████████████████████████████████████████████████████████████████████████████████████████████████████████████████████████████████████████████████████████████████████████████████████████████████████████████████████| 196/196 [01:08<00:00,  2.85it/s, loss=1.4458, acc_t=0.6250, acc=0.7321]\n"
     ]
    },
    {
     "name": "stdout",
     "output_type": "stream",
     "text": [
      "Average Train Loss: 1.1399; Test Loss: 2.6996;                 Train Accuracy: 0.7321; Test Accuracy: 0.4886;\n"
     ]
    },
    {
     "name": "stderr",
     "output_type": "stream",
     "text": [
      "Epoch 455/500: 100%|██████████████████████████████████████████████████████████████████████████████████████████████████████████████████████████████████████████████████████████████████████████████████████████████████████████████████████████████████████████████████████████| 196/196 [01:08<00:00,  2.87it/s, loss=1.5830, acc_t=0.6687, acc=0.7325]\n"
     ]
    },
    {
     "name": "stdout",
     "output_type": "stream",
     "text": [
      "Average Train Loss: 1.1353; Test Loss: 2.6911;                 Train Accuracy: 0.7325; Test Accuracy: 0.4884;\n"
     ]
    },
    {
     "name": "stderr",
     "output_type": "stream",
     "text": [
      "Epoch 456/500: 100%|██████████████████████████████████████████████████████████████████████████████████████████████████████████████████████████████████████████████████████████████████████████████████████████████████████████████████████████████████████████████████████████| 196/196 [01:08<00:00,  2.86it/s, loss=1.0371, acc_t=0.7312, acc=0.7323]\n"
     ]
    },
    {
     "name": "stdout",
     "output_type": "stream",
     "text": [
      "Average Train Loss: 1.1343; Test Loss: 2.6943;                 Train Accuracy: 0.7323; Test Accuracy: 0.4912;\n"
     ]
    },
    {
     "name": "stderr",
     "output_type": "stream",
     "text": [
      "Epoch 457/500: 100%|██████████████████████████████████████████████████████████████████████████████████████████████████████████████████████████████████████████████████████████████████████████████████████████████████████████████████████████████████████████████████████████| 196/196 [01:08<00:00,  2.86it/s, loss=1.1828, acc_t=0.7312, acc=0.7304]\n"
     ]
    },
    {
     "name": "stdout",
     "output_type": "stream",
     "text": [
      "Average Train Loss: 1.1459; Test Loss: 2.6902;                 Train Accuracy: 0.7304; Test Accuracy: 0.4904;\n"
     ]
    },
    {
     "name": "stderr",
     "output_type": "stream",
     "text": [
      "Epoch 458/500: 100%|██████████████████████████████████████████████████████████████████████████████████████████████████████████████████████████████████████████████████████████████████████████████████████████████████████████████████████████████████████████████████████████| 196/196 [01:08<00:00,  2.87it/s, loss=1.2027, acc_t=0.7250, acc=0.7324]\n"
     ]
    },
    {
     "name": "stdout",
     "output_type": "stream",
     "text": [
      "Average Train Loss: 1.1405; Test Loss: 2.6945;                 Train Accuracy: 0.7324; Test Accuracy: 0.4890;\n"
     ]
    },
    {
     "name": "stderr",
     "output_type": "stream",
     "text": [
      "Epoch 459/500: 100%|██████████████████████████████████████████████████████████████████████████████████████████████████████████████████████████████████████████████████████████████████████████████████████████████████████████████████████████████████████████████████████████| 196/196 [01:08<00:00,  2.86it/s, loss=1.2790, acc_t=0.7188, acc=0.7327]\n"
     ]
    },
    {
     "name": "stdout",
     "output_type": "stream",
     "text": [
      "Average Train Loss: 1.1404; Test Loss: 2.6895;                 Train Accuracy: 0.7327; Test Accuracy: 0.4856;\n"
     ]
    },
    {
     "name": "stderr",
     "output_type": "stream",
     "text": [
      "Epoch 460/500: 100%|██████████████████████████████████████████████████████████████████████████████████████████████████████████████████████████████████████████████████████████████████████████████████████████████████████████████████████████████████████████████████████████| 196/196 [01:08<00:00,  2.87it/s, loss=1.4500, acc_t=0.7063, acc=0.7305]\n"
     ]
    },
    {
     "name": "stdout",
     "output_type": "stream",
     "text": [
      "Average Train Loss: 1.1474; Test Loss: 2.7006;                 Train Accuracy: 0.7305; Test Accuracy: 0.4892;\n"
     ]
    },
    {
     "name": "stderr",
     "output_type": "stream",
     "text": [
      "Epoch 461/500: 100%|██████████████████████████████████████████████████████████████████████████████████████████████████████████████████████████████████████████████████████████████████████████████████████████████████████████████████████████████████████████████████████████| 196/196 [01:08<00:00,  2.85it/s, loss=0.7996, acc_t=0.8063, acc=0.7282]\n"
     ]
    },
    {
     "name": "stdout",
     "output_type": "stream",
     "text": [
      "Average Train Loss: 1.1554; Test Loss: 2.6871;                 Train Accuracy: 0.7282; Test Accuracy: 0.4896;\n"
     ]
    },
    {
     "name": "stderr",
     "output_type": "stream",
     "text": [
      "Epoch 462/500: 100%|██████████████████████████████████████████████████████████████████████████████████████████████████████████████████████████████████████████████████████████████████████████████████████████████████████████████████████████████████████████████████████████| 196/196 [01:08<00:00,  2.86it/s, loss=1.2268, acc_t=0.7125, acc=0.7325]\n"
     ]
    },
    {
     "name": "stdout",
     "output_type": "stream",
     "text": [
      "Average Train Loss: 1.1426; Test Loss: 2.6832;                 Train Accuracy: 0.7325; Test Accuracy: 0.4882;\n"
     ]
    },
    {
     "name": "stderr",
     "output_type": "stream",
     "text": [
      "Epoch 463/500: 100%|██████████████████████████████████████████████████████████████████████████████████████████████████████████████████████████████████████████████████████████████████████████████████████████████████████████████████████████████████████████████████████████| 196/196 [01:08<00:00,  2.86it/s, loss=1.1448, acc_t=0.7188, acc=0.7329]\n"
     ]
    },
    {
     "name": "stdout",
     "output_type": "stream",
     "text": [
      "Average Train Loss: 1.1355; Test Loss: 2.6901;                 Train Accuracy: 0.7329; Test Accuracy: 0.4902;\n"
     ]
    },
    {
     "name": "stderr",
     "output_type": "stream",
     "text": [
      "Epoch 464/500: 100%|██████████████████████████████████████████████████████████████████████████████████████████████████████████████████████████████████████████████████████████████████████████████████████████████████████████████████████████████████████████████████████████| 196/196 [01:08<00:00,  2.86it/s, loss=1.2681, acc_t=0.7500, acc=0.7332]\n"
     ]
    },
    {
     "name": "stdout",
     "output_type": "stream",
     "text": [
      "Average Train Loss: 1.1332; Test Loss: 2.6863;                 Train Accuracy: 0.7332; Test Accuracy: 0.4880;\n"
     ]
    },
    {
     "name": "stderr",
     "output_type": "stream",
     "text": [
      "Epoch 465/500: 100%|██████████████████████████████████████████████████████████████████████████████████████████████████████████████████████████████████████████████████████████████████████████████████████████████████████████████████████████████████████████████████████████| 196/196 [01:08<00:00,  2.86it/s, loss=1.0184, acc_t=0.7375, acc=0.7330]\n"
     ]
    },
    {
     "name": "stdout",
     "output_type": "stream",
     "text": [
      "Average Train Loss: 1.1385; Test Loss: 2.6855;                 Train Accuracy: 0.7330; Test Accuracy: 0.4914;\n"
     ]
    },
    {
     "name": "stderr",
     "output_type": "stream",
     "text": [
      "Epoch 466/500: 100%|██████████████████████████████████████████████████████████████████████████████████████████████████████████████████████████████████████████████████████████████████████████████████████████████████████████████████████████████████████████████████████████| 196/196 [01:08<00:00,  2.86it/s, loss=1.3001, acc_t=0.6937, acc=0.7299]\n"
     ]
    },
    {
     "name": "stdout",
     "output_type": "stream",
     "text": [
      "Average Train Loss: 1.1452; Test Loss: 2.6826;                 Train Accuracy: 0.7299; Test Accuracy: 0.4922;\n"
     ]
    },
    {
     "name": "stderr",
     "output_type": "stream",
     "text": [
      "Epoch 467/500: 100%|██████████████████████████████████████████████████████████████████████████████████████████████████████████████████████████████████████████████████████████████████████████████████████████████████████████████████████████████████████████████████████████| 196/196 [01:08<00:00,  2.86it/s, loss=1.0123, acc_t=0.7500, acc=0.7327]\n"
     ]
    },
    {
     "name": "stdout",
     "output_type": "stream",
     "text": [
      "Average Train Loss: 1.1398; Test Loss: 2.6823;                 Train Accuracy: 0.7327; Test Accuracy: 0.4918;\n"
     ]
    },
    {
     "name": "stderr",
     "output_type": "stream",
     "text": [
      "Epoch 468/500: 100%|██████████████████████████████████████████████████████████████████████████████████████████████████████████████████████████████████████████████████████████████████████████████████████████████████████████████████████████████████████████████████████████| 196/196 [01:08<00:00,  2.86it/s, loss=1.0792, acc_t=0.7375, acc=0.7352]\n"
     ]
    },
    {
     "name": "stdout",
     "output_type": "stream",
     "text": [
      "Average Train Loss: 1.1283; Test Loss: 2.6847;                 Train Accuracy: 0.7352; Test Accuracy: 0.4908;\n"
     ]
    },
    {
     "name": "stderr",
     "output_type": "stream",
     "text": [
      "Epoch 469/500: 100%|██████████████████████████████████████████████████████████████████████████████████████████████████████████████████████████████████████████████████████████████████████████████████████████████████████████████████████████████████████████████████████████| 196/196 [01:08<00:00,  2.85it/s, loss=1.3246, acc_t=0.7063, acc=0.7325]\n"
     ]
    },
    {
     "name": "stdout",
     "output_type": "stream",
     "text": [
      "Average Train Loss: 1.1397; Test Loss: 2.6825;                 Train Accuracy: 0.7325; Test Accuracy: 0.4900;\n"
     ]
    },
    {
     "name": "stderr",
     "output_type": "stream",
     "text": [
      "Epoch 470/500: 100%|██████████████████████████████████████████████████████████████████████████████████████████████████████████████████████████████████████████████████████████████████████████████████████████████████████████████████████████████████████████████████████████| 196/196 [01:08<00:00,  2.87it/s, loss=1.0551, acc_t=0.7312, acc=0.7347]\n"
     ]
    },
    {
     "name": "stdout",
     "output_type": "stream",
     "text": [
      "Average Train Loss: 1.1263; Test Loss: 2.6820;                 Train Accuracy: 0.7347; Test Accuracy: 0.4906;\n"
     ]
    },
    {
     "name": "stderr",
     "output_type": "stream",
     "text": [
      "Epoch 471/500: 100%|██████████████████████████████████████████████████████████████████████████████████████████████████████████████████████████████████████████████████████████████████████████████████████████████████████████████████████████████████████████████████████████| 196/196 [01:08<00:00,  2.85it/s, loss=1.2373, acc_t=0.7375, acc=0.7316]\n"
     ]
    },
    {
     "name": "stdout",
     "output_type": "stream",
     "text": [
      "Average Train Loss: 1.1398; Test Loss: 2.6722;                 Train Accuracy: 0.7316; Test Accuracy: 0.4896;\n"
     ]
    },
    {
     "name": "stderr",
     "output_type": "stream",
     "text": [
      "Epoch 472/500: 100%|██████████████████████████████████████████████████████████████████████████████████████████████████████████████████████████████████████████████████████████████████████████████████████████████████████████████████████████████████████████████████████████| 196/196 [01:08<00:00,  2.84it/s, loss=0.9347, acc_t=0.7688, acc=0.7346]\n"
     ]
    },
    {
     "name": "stdout",
     "output_type": "stream",
     "text": [
      "Average Train Loss: 1.1336; Test Loss: 2.6792;                 Train Accuracy: 0.7346; Test Accuracy: 0.4908;\n"
     ]
    },
    {
     "name": "stderr",
     "output_type": "stream",
     "text": [
      "Epoch 473/500: 100%|██████████████████████████████████████████████████████████████████████████████████████████████████████████████████████████████████████████████████████████████████████████████████████████████████████████████████████████████████████████████████████████| 196/196 [01:08<00:00,  2.86it/s, loss=1.1717, acc_t=0.7438, acc=0.7321]\n"
     ]
    },
    {
     "name": "stdout",
     "output_type": "stream",
     "text": [
      "Average Train Loss: 1.1401; Test Loss: 2.6761;                 Train Accuracy: 0.7321; Test Accuracy: 0.4906;\n"
     ]
    },
    {
     "name": "stderr",
     "output_type": "stream",
     "text": [
      "Epoch 474/500: 100%|██████████████████████████████████████████████████████████████████████████████████████████████████████████████████████████████████████████████████████████████████████████████████████████████████████████████████████████████████████████████████████████| 196/196 [01:08<00:00,  2.85it/s, loss=0.9055, acc_t=0.7812, acc=0.7331]\n"
     ]
    },
    {
     "name": "stdout",
     "output_type": "stream",
     "text": [
      "Average Train Loss: 1.1357; Test Loss: 2.6795;                 Train Accuracy: 0.7331; Test Accuracy: 0.4900;\n"
     ]
    },
    {
     "name": "stderr",
     "output_type": "stream",
     "text": [
      "Epoch 475/500: 100%|██████████████████████████████████████████████████████████████████████████████████████████████████████████████████████████████████████████████████████████████████████████████████████████████████████████████████████████████████████████████████████████| 196/196 [01:08<00:00,  2.85it/s, loss=1.2440, acc_t=0.6687, acc=0.7332]\n"
     ]
    },
    {
     "name": "stdout",
     "output_type": "stream",
     "text": [
      "Average Train Loss: 1.1396; Test Loss: 2.6816;                 Train Accuracy: 0.7332; Test Accuracy: 0.4890;\n"
     ]
    },
    {
     "name": "stderr",
     "output_type": "stream",
     "text": [
      "Epoch 476/500: 100%|██████████████████████████████████████████████████████████████████████████████████████████████████████████████████████████████████████████████████████████████████████████████████████████████████████████████████████████████████████████████████████████| 196/196 [01:08<00:00,  2.86it/s, loss=1.0356, acc_t=0.7438, acc=0.7308]\n"
     ]
    },
    {
     "name": "stdout",
     "output_type": "stream",
     "text": [
      "Average Train Loss: 1.1435; Test Loss: 2.6891;                 Train Accuracy: 0.7308; Test Accuracy: 0.4894;\n"
     ]
    },
    {
     "name": "stderr",
     "output_type": "stream",
     "text": [
      "Epoch 477/500: 100%|██████████████████████████████████████████████████████████████████████████████████████████████████████████████████████████████████████████████████████████████████████████████████████████████████████████████████████████████████████████████████████████| 196/196 [01:08<00:00,  2.86it/s, loss=0.9624, acc_t=0.8000, acc=0.7345]\n"
     ]
    },
    {
     "name": "stdout",
     "output_type": "stream",
     "text": [
      "Average Train Loss: 1.1304; Test Loss: 2.6804;                 Train Accuracy: 0.7345; Test Accuracy: 0.4908;\n"
     ]
    },
    {
     "name": "stderr",
     "output_type": "stream",
     "text": [
      "Epoch 478/500: 100%|██████████████████████████████████████████████████████████████████████████████████████████████████████████████████████████████████████████████████████████████████████████████████████████████████████████████████████████████████████████████████████████| 196/196 [01:08<00:00,  2.85it/s, loss=0.9381, acc_t=0.7688, acc=0.7350]\n"
     ]
    },
    {
     "name": "stdout",
     "output_type": "stream",
     "text": [
      "Average Train Loss: 1.1219; Test Loss: 2.6783;                 Train Accuracy: 0.7350; Test Accuracy: 0.4906;\n"
     ]
    },
    {
     "name": "stderr",
     "output_type": "stream",
     "text": [
      "Epoch 479/500: 100%|██████████████████████████████████████████████████████████████████████████████████████████████████████████████████████████████████████████████████████████████████████████████████████████████████████████████████████████████████████████████████████████| 196/196 [01:08<00:00,  2.86it/s, loss=1.0756, acc_t=0.7375, acc=0.7326]\n"
     ]
    },
    {
     "name": "stdout",
     "output_type": "stream",
     "text": [
      "Average Train Loss: 1.1330; Test Loss: 2.6765;                 Train Accuracy: 0.7326; Test Accuracy: 0.4912;\n"
     ]
    },
    {
     "name": "stderr",
     "output_type": "stream",
     "text": [
      "Epoch 480/500: 100%|██████████████████████████████████████████████████████████████████████████████████████████████████████████████████████████████████████████████████████████████████████████████████████████████████████████████████████████████████████████████████████████| 196/196 [01:08<00:00,  2.86it/s, loss=1.0414, acc_t=0.7625, acc=0.7359]\n"
     ]
    },
    {
     "name": "stdout",
     "output_type": "stream",
     "text": [
      "Average Train Loss: 1.1283; Test Loss: 2.6835;                 Train Accuracy: 0.7359; Test Accuracy: 0.4910;\n"
     ]
    },
    {
     "name": "stderr",
     "output_type": "stream",
     "text": [
      "Epoch 481/500: 100%|██████████████████████████████████████████████████████████████████████████████████████████████████████████████████████████████████████████████████████████████████████████████████████████████████████████████████████████████████████████████████████████| 196/196 [01:08<00:00,  2.86it/s, loss=1.2701, acc_t=0.6813, acc=0.7359]\n"
     ]
    },
    {
     "name": "stdout",
     "output_type": "stream",
     "text": [
      "Average Train Loss: 1.1230; Test Loss: 2.6890;                 Train Accuracy: 0.7359; Test Accuracy: 0.4928;\n"
     ]
    },
    {
     "name": "stderr",
     "output_type": "stream",
     "text": [
      "Epoch 482/500: 100%|██████████████████████████████████████████████████████████████████████████████████████████████████████████████████████████████████████████████████████████████████████████████████████████████████████████████████████████████████████████████████████████| 196/196 [01:08<00:00,  2.87it/s, loss=1.2553, acc_t=0.7500, acc=0.7333]\n"
     ]
    },
    {
     "name": "stdout",
     "output_type": "stream",
     "text": [
      "Average Train Loss: 1.1319; Test Loss: 2.6754;                 Train Accuracy: 0.7333; Test Accuracy: 0.4924;\n"
     ]
    },
    {
     "name": "stderr",
     "output_type": "stream",
     "text": [
      "Epoch 483/500: 100%|██████████████████████████████████████████████████████████████████████████████████████████████████████████████████████████████████████████████████████████████████████████████████████████████████████████████████████████████████████████████████████████| 196/196 [01:08<00:00,  2.85it/s, loss=1.1749, acc_t=0.7000, acc=0.7296]\n"
     ]
    },
    {
     "name": "stdout",
     "output_type": "stream",
     "text": [
      "Average Train Loss: 1.1424; Test Loss: 2.6719;                 Train Accuracy: 0.7296; Test Accuracy: 0.4928;\n"
     ]
    },
    {
     "name": "stderr",
     "output_type": "stream",
     "text": [
      "Epoch 484/500: 100%|██████████████████████████████████████████████████████████████████████████████████████████████████████████████████████████████████████████████████████████████████████████████████████████████████████████████████████████████████████████████████████████| 196/196 [01:08<00:00,  2.85it/s, loss=0.9975, acc_t=0.7688, acc=0.7357]\n"
     ]
    },
    {
     "name": "stdout",
     "output_type": "stream",
     "text": [
      "Average Train Loss: 1.1250; Test Loss: 2.6705;                 Train Accuracy: 0.7357; Test Accuracy: 0.4898;\n"
     ]
    },
    {
     "name": "stderr",
     "output_type": "stream",
     "text": [
      "Epoch 485/500: 100%|██████████████████████████████████████████████████████████████████████████████████████████████████████████████████████████████████████████████████████████████████████████████████████████████████████████████████████████████████████████████████████████| 196/196 [01:08<00:00,  2.86it/s, loss=1.0516, acc_t=0.7500, acc=0.7336]\n"
     ]
    },
    {
     "name": "stdout",
     "output_type": "stream",
     "text": [
      "Average Train Loss: 1.1316; Test Loss: 2.6825;                 Train Accuracy: 0.7336; Test Accuracy: 0.4910;\n"
     ]
    },
    {
     "name": "stderr",
     "output_type": "stream",
     "text": [
      "Epoch 486/500: 100%|██████████████████████████████████████████████████████████████████████████████████████████████████████████████████████████████████████████████████████████████████████████████████████████████████████████████████████████████████████████████████████████| 196/196 [01:08<00:00,  2.86it/s, loss=1.1259, acc_t=0.7562, acc=0.7334]\n"
     ]
    },
    {
     "name": "stdout",
     "output_type": "stream",
     "text": [
      "Average Train Loss: 1.1328; Test Loss: 2.6794;                 Train Accuracy: 0.7334; Test Accuracy: 0.4906;\n"
     ]
    },
    {
     "name": "stderr",
     "output_type": "stream",
     "text": [
      "Epoch 487/500: 100%|██████████████████████████████████████████████████████████████████████████████████████████████████████████████████████████████████████████████████████████████████████████████████████████████████████████████████████████████████████████████████████████| 196/196 [01:08<00:00,  2.87it/s, loss=0.9038, acc_t=0.8000, acc=0.7316]\n"
     ]
    },
    {
     "name": "stdout",
     "output_type": "stream",
     "text": [
      "Average Train Loss: 1.1373; Test Loss: 2.6788;                 Train Accuracy: 0.7316; Test Accuracy: 0.4920;\n"
     ]
    },
    {
     "name": "stderr",
     "output_type": "stream",
     "text": [
      "Epoch 488/500: 100%|██████████████████████████████████████████████████████████████████████████████████████████████████████████████████████████████████████████████████████████████████████████████████████████████████████████████████████████████████████████████████████████| 196/196 [01:08<00:00,  2.86it/s, loss=1.2963, acc_t=0.7000, acc=0.7328]\n"
     ]
    },
    {
     "name": "stdout",
     "output_type": "stream",
     "text": [
      "Average Train Loss: 1.1304; Test Loss: 2.6844;                 Train Accuracy: 0.7328; Test Accuracy: 0.4910;\n"
     ]
    },
    {
     "name": "stderr",
     "output_type": "stream",
     "text": [
      "Epoch 489/500: 100%|██████████████████████████████████████████████████████████████████████████████████████████████████████████████████████████████████████████████████████████████████████████████████████████████████████████████████████████████████████████████████████████| 196/196 [01:08<00:00,  2.86it/s, loss=1.2932, acc_t=0.6875, acc=0.7326]\n"
     ]
    },
    {
     "name": "stdout",
     "output_type": "stream",
     "text": [
      "Average Train Loss: 1.1324; Test Loss: 2.6892;                 Train Accuracy: 0.7326; Test Accuracy: 0.4912;\n"
     ]
    },
    {
     "name": "stderr",
     "output_type": "stream",
     "text": [
      "Epoch 490/500: 100%|██████████████████████████████████████████████████████████████████████████████████████████████████████████████████████████████████████████████████████████████████████████████████████████████████████████████████████████████████████████████████████████| 196/196 [01:08<00:00,  2.85it/s, loss=1.1505, acc_t=0.7000, acc=0.7328]\n"
     ]
    },
    {
     "name": "stdout",
     "output_type": "stream",
     "text": [
      "Average Train Loss: 1.1340; Test Loss: 2.6811;                 Train Accuracy: 0.7328; Test Accuracy: 0.4918;\n"
     ]
    },
    {
     "name": "stderr",
     "output_type": "stream",
     "text": [
      "Epoch 491/500: 100%|██████████████████████████████████████████████████████████████████████████████████████████████████████████████████████████████████████████████████████████████████████████████████████████████████████████████████████████████████████████████████████████| 196/196 [01:08<00:00,  2.86it/s, loss=1.5093, acc_t=0.6687, acc=0.7347]\n"
     ]
    },
    {
     "name": "stdout",
     "output_type": "stream",
     "text": [
      "Average Train Loss: 1.1289; Test Loss: 2.6835;                 Train Accuracy: 0.7347; Test Accuracy: 0.4912;\n"
     ]
    },
    {
     "name": "stderr",
     "output_type": "stream",
     "text": [
      "Epoch 492/500: 100%|██████████████████████████████████████████████████████████████████████████████████████████████████████████████████████████████████████████████████████████████████████████████████████████████████████████████████████████████████████████████████████████| 196/196 [01:08<00:00,  2.87it/s, loss=1.2639, acc_t=0.6937, acc=0.7363]\n"
     ]
    },
    {
     "name": "stdout",
     "output_type": "stream",
     "text": [
      "Average Train Loss: 1.1235; Test Loss: 2.6809;                 Train Accuracy: 0.7363; Test Accuracy: 0.4906;\n"
     ]
    },
    {
     "name": "stderr",
     "output_type": "stream",
     "text": [
      "Epoch 493/500: 100%|██████████████████████████████████████████████████████████████████████████████████████████████████████████████████████████████████████████████████████████████████████████████████████████████████████████████████████████████████████████████████████████| 196/196 [01:08<00:00,  2.86it/s, loss=1.2207, acc_t=0.6750, acc=0.7342]\n"
     ]
    },
    {
     "name": "stdout",
     "output_type": "stream",
     "text": [
      "Average Train Loss: 1.1306; Test Loss: 2.6842;                 Train Accuracy: 0.7342; Test Accuracy: 0.4930;\n"
     ]
    },
    {
     "name": "stderr",
     "output_type": "stream",
     "text": [
      "Epoch 494/500: 100%|██████████████████████████████████████████████████████████████████████████████████████████████████████████████████████████████████████████████████████████████████████████████████████████████████████████████████████████████████████████████████████████| 196/196 [01:08<00:00,  2.86it/s, loss=0.9900, acc_t=0.7937, acc=0.7343]\n"
     ]
    },
    {
     "name": "stdout",
     "output_type": "stream",
     "text": [
      "Average Train Loss: 1.1275; Test Loss: 2.6775;                 Train Accuracy: 0.7343; Test Accuracy: 0.4912;\n"
     ]
    },
    {
     "name": "stderr",
     "output_type": "stream",
     "text": [
      "Epoch 495/500: 100%|██████████████████████████████████████████████████████████████████████████████████████████████████████████████████████████████████████████████████████████████████████████████████████████████████████████████████████████████████████████████████████████| 196/196 [01:08<00:00,  2.85it/s, loss=1.2180, acc_t=0.6937, acc=0.7339]\n"
     ]
    },
    {
     "name": "stdout",
     "output_type": "stream",
     "text": [
      "Average Train Loss: 1.1308; Test Loss: 2.6869;                 Train Accuracy: 0.7339; Test Accuracy: 0.4914;\n"
     ]
    },
    {
     "name": "stderr",
     "output_type": "stream",
     "text": [
      "Epoch 496/500: 100%|██████████████████████████████████████████████████████████████████████████████████████████████████████████████████████████████████████████████████████████████████████████████████████████████████████████████████████████████████████████████████████████| 196/196 [01:08<00:00,  2.86it/s, loss=1.2785, acc_t=0.7438, acc=0.7341]\n"
     ]
    },
    {
     "name": "stdout",
     "output_type": "stream",
     "text": [
      "Average Train Loss: 1.1352; Test Loss: 2.6847;                 Train Accuracy: 0.7341; Test Accuracy: 0.4934;\n"
     ]
    },
    {
     "name": "stderr",
     "output_type": "stream",
     "text": [
      "Epoch 497/500: 100%|██████████████████████████████████████████████████████████████████████████████████████████████████████████████████████████████████████████████████████████████████████████████████████████████████████████████████████████████████████████████████████████| 196/196 [01:08<00:00,  2.86it/s, loss=1.1982, acc_t=0.7188, acc=0.7360]\n"
     ]
    },
    {
     "name": "stdout",
     "output_type": "stream",
     "text": [
      "Average Train Loss: 1.1221; Test Loss: 2.6880;                 Train Accuracy: 0.7360; Test Accuracy: 0.4914;\n"
     ]
    },
    {
     "name": "stderr",
     "output_type": "stream",
     "text": [
      "Epoch 498/500: 100%|██████████████████████████████████████████████████████████████████████████████████████████████████████████████████████████████████████████████████████████████████████████████████████████████████████████████████████████████████████████████████████████| 196/196 [01:08<00:00,  2.86it/s, loss=1.2158, acc_t=0.7000, acc=0.7361]\n"
     ]
    },
    {
     "name": "stdout",
     "output_type": "stream",
     "text": [
      "Average Train Loss: 1.1234; Test Loss: 2.6847;                 Train Accuracy: 0.7361; Test Accuracy: 0.4914;\n"
     ]
    },
    {
     "name": "stderr",
     "output_type": "stream",
     "text": [
      "Epoch 499/500: 100%|██████████████████████████████████████████████████████████████████████████████████████████████████████████████████████████████████████████████████████████████████████████████████████████████████████████████████████████████████████████████████████████| 196/196 [01:08<00:00,  2.85it/s, loss=1.4086, acc_t=0.7063, acc=0.7348]\n"
     ]
    },
    {
     "name": "stdout",
     "output_type": "stream",
     "text": [
      "Average Train Loss: 1.1251; Test Loss: 2.6814;                 Train Accuracy: 0.7348; Test Accuracy: 0.4908;\n"
     ]
    },
    {
     "name": "stderr",
     "output_type": "stream",
     "text": [
      "Epoch 500/500: 100%|██████████████████████████████████████████████████████████████████████████████████████████████████████████████████████████████████████████████████████████████████████████████████████████████████████████████████████████████████████████████████████████| 196/196 [01:08<00:00,  2.85it/s, loss=1.3438, acc_t=0.6813, acc=0.7341]\n"
     ]
    },
    {
     "name": "stdout",
     "output_type": "stream",
     "text": [
      "Average Train Loss: 1.1285; Test Loss: 2.6884;                 Train Accuracy: 0.7341; Test Accuracy: 0.4942;\n"
     ]
    }
   ],
   "source": [
    "def train_cifar10(\n",
    "    n_epochs=100,\n",
    "    batch_size=64,\n",
    "    learning_rate=0.001,\n",
    "    save_model=True\n",
    "):  \n",
    "    from ADL.aug_cifar10_policy import CIFAR10Policy\n",
    "    device = torch.device('cuda' if torch.cuda.is_available() else 'cpu')\n",
    "    print(f'Using device: {device}')\n",
    "    train_transform = transforms.Compose([\n",
    "        transforms.RandomCrop(64, padding=4),\n",
    "        transforms.RandomHorizontalFlip(),\n",
    "        CIFAR10Policy(),\n",
    "        transforms.ToTensor(),\n",
    "        transforms.Normalize([0.4802, 0.4481, 0.3975], [0.2302, 0.2265, 0.2262])\n",
    "        # transforms.Normalize(mean=[0.4802, 0.4481, 0.3975], std=[0.2770, 0.2691, 0.2821]), \n",
    "    ])\n",
    "    test_transform = transforms.Compose([\n",
    "        transforms.ToTensor(),\n",
    "        transforms.Normalize([0.4802, 0.4481, 0.3975], [0.2302, 0.2265, 0.2262])\n",
    "        # transforms.Normalize(mean=[0.4802, 0.4481, 0.3975], std=[0.2770, 0.2691, 0.2821]),\n",
    "    ])\n",
    "\n",
    "\n",
    "    data_dir = \"/scratch-shared/20220510/img200/tiny-imagenet-200/\"\n",
    "    # train_dataset = datasets.ImageFolder(data_dir+\"train\", transform = train_transform)\n",
    "    # test_dataset = datasets.ImageFolder(data_dir+\"val\", transform = test_transform)\n",
    "    train_dataset = RAMImageFolder(data_dir+\"train\", transform=train_transform)\n",
    "    test_dataset  = RAMImageFolder(data_dir+\"val\",   transform=test_transform)\n",
    "\n",
    "\n",
    "    train_loader = DataLoader(train_dataset, batch_size=batch_size, shuffle=True)\n",
    "    test_loader = DataLoader(test_dataset, batch_size=batch_size, shuffle=False)\n",
    "    print('data loaded')\n",
    "    # Initialize model and optimizer\n",
    "    model = VGG11(lr=learning_rate).to(device)\n",
    "\n",
    "    # Training history\n",
    "    history = defaultdict(list)\n",
    "    best_accuracy = 0.66\n",
    "\n",
    "    for epoch in range(n_epochs):\n",
    "        model.train()\n",
    "        epoch_loss = 0\n",
    "        n_batches = 0\n",
    "        correct = 0\n",
    "\n",
    "        pbar = tqdm(train_loader, desc=f'Epoch {epoch+1}/{n_epochs}')\n",
    "        for data, target in pbar:\n",
    "            data, target = data.to(device), target.to(device)\n",
    "            output,loss = model.forward_with_update(data, target)\n",
    "\n",
    "            epoch_loss += loss\n",
    "            n_batches += 1\n",
    "            \n",
    "            pred = output.argmax(dim=1, keepdim=True)\n",
    "            right_ = pred.eq(target.view_as(pred)).sum().item()\n",
    "            correct += right_\n",
    "            accuracy = correct / len(train_loader.dataset)\n",
    "\n",
    "            pbar.set_postfix({'loss': f'{loss:.4f}',\n",
    "                              'acc_t': f'{right_/len(pred):.4f}', 'acc': f'{accuracy:.4f}'})\n",
    "        if model.scheduler is not None:\n",
    "            model.scheduler.step()\n",
    "            model.update_lr()\n",
    "        # if epoch % 100 ==0  and epoch>1:\n",
    "        #     model.alpha = model.alpha*.75\n",
    "\n",
    "        # Evaluate\n",
    "        avg_train_loss = epoch_loss / n_batches\n",
    "        test_loss, test_accuracy = evaluate_model(model, test_loader, device)\n",
    "\n",
    "\n",
    "        # Store history\n",
    "        history['train_loss'].append(avg_train_loss)\n",
    "        history['test_loss'].append(test_loss)\n",
    "        history['test_accuracy'].append(test_accuracy)\n",
    "\n",
    "        # # Save best model\n",
    "        if test_accuracy > best_accuracy:\n",
    "            best_accuracy = test_accuracy\n",
    "            # if save_model:\n",
    "            #     torch.save(model.state_dict(), 'c100_vgg11x2bz-'+str(best_accuracy)+'.pth')\n",
    "        if epoch % 1 == 0:\n",
    "            # print(f'Epoch {epoch+1}/{n_epochs}:')\n",
    "            print(f'Average Train Loss: {avg_train_loss:.4f}; Test Loss: {test_loss:.4f}; \\\n",
    "                Train Accuracy: {accuracy:.4f}; Test Accuracy: {test_accuracy:.4f};')\n",
    "\n",
    "    return model, history\n",
    "\n",
    "def evaluate_model(model, test_loader, device):\n",
    "    model.eval()\n",
    "    test_loss = 0\n",
    "    correct = 0\n",
    "    with torch.no_grad():\n",
    "        for data, target in test_loader:\n",
    "            data, target = data.to(device), target.to(device)\n",
    "            output = model(data)\n",
    "            test_loss += F.cross_entropy(output, target).item()\n",
    "            pred = output.argmax(dim=1, keepdim=True)\n",
    "            correct += pred.eq(target.view_as(pred)).sum().item()\n",
    "\n",
    "    test_loss /= len(test_loader)\n",
    "    accuracy = correct / len(test_loader.dataset)\n",
    "    return test_loss, accuracy\n",
    "\n",
    "# if __name__ == \"__main__\":\n",
    "# Set random seeds for reproducibility\n",
    "torch.manual_seed(42)\n",
    "if torch.cuda.is_available():\n",
    "    torch.cuda.manual_seed(42)\n",
    "\n",
    "# Train the model\n",
    "model, history = train_cifar10(\n",
    "    n_epochs=EPOCHS,\n",
    "    batch_size=512,\n",
    "    learning_rate=LR,\n",
    ")"
   ]
  },
  {
   "cell_type": "code",
   "execution_count": 9,
   "metadata": {},
   "outputs": [
    {
     "data": {
      "text/plain": [
       "defaultdict(list,\n",
       "            {'train_loss': [5.413480634592017,\n",
       "              4.894365497997829,\n",
       "              4.630165834816134,\n",
       "              4.467273176932822,\n",
       "              4.330835707333623,\n",
       "              4.249629504826604,\n",
       "              4.156291046921088,\n",
       "              4.07070041797599,\n",
       "              4.0016564155111505,\n",
       "              3.961547329717753,\n",
       "              3.9051040301517563,\n",
       "              3.84107762088581,\n",
       "              3.7941448201938552,\n",
       "              3.764775321191671,\n",
       "              3.7079039130892073,\n",
       "              3.671315290489975,\n",
       "              3.6420447473623314,\n",
       "              3.5880211153808905,\n",
       "              3.540701577858049,\n",
       "              3.5239315981767616,\n",
       "              3.493577324614233,\n",
       "              3.44975329783498,\n",
       "              3.42696948927276,\n",
       "              3.4158123111238283,\n",
       "              3.375917594043576,\n",
       "              3.337713051815422,\n",
       "              3.3289052503449574,\n",
       "              3.297737705464266,\n",
       "              3.260175698873948,\n",
       "              3.2340703095708574,\n",
       "              3.232078423305434,\n",
       "              3.1999220118230705,\n",
       "              3.1675261721319083,\n",
       "              3.140782338015887,\n",
       "              3.118439619638482,\n",
       "              3.0990606838343093,\n",
       "              3.064984980894595,\n",
       "              3.0746391890000324,\n",
       "              3.066502494471414,\n",
       "              3.016904576700561,\n",
       "              3.0001318783176187,\n",
       "              2.9953899663321826,\n",
       "              2.9521287910792293,\n",
       "              2.9188713273223565,\n",
       "              2.927231422492436,\n",
       "              2.898222210455914,\n",
       "              2.8887581727942644,\n",
       "              2.860238507085917,\n",
       "              2.8497772958813883,\n",
       "              2.8506788964174232,\n",
       "              2.8061506346780427,\n",
       "              2.788447697551883,\n",
       "              2.7833338160904084,\n",
       "              2.7828113558341045,\n",
       "              2.7432778416847694,\n",
       "              2.748740330034373,\n",
       "              2.7407925664162147,\n",
       "              2.6938992008870963,\n",
       "              2.691355895022957,\n",
       "              2.652319281685109,\n",
       "              2.6398664299322636,\n",
       "              2.630560758162518,\n",
       "              2.6322832022394453,\n",
       "              2.596918387072427,\n",
       "              2.6270546292772097,\n",
       "              2.574728780863236,\n",
       "              2.587538073257524,\n",
       "              2.571845443881288,\n",
       "              2.5455345973676566,\n",
       "              2.557657756367508,\n",
       "              2.5469327654157365,\n",
       "              2.527455141349715,\n",
       "              2.5034354608886096,\n",
       "              2.5096603425181643,\n",
       "              2.47354451247624,\n",
       "              2.4535341761550127,\n",
       "              2.462164818024149,\n",
       "              2.4499391134904354,\n",
       "              2.4262432322210197,\n",
       "              2.4181517593714656,\n",
       "              2.4077977501616186,\n",
       "              2.402045436051427,\n",
       "              2.396286806281732,\n",
       "              2.398346510468697,\n",
       "              2.405801927556797,\n",
       "              2.3413454306368924,\n",
       "              2.3374400564602444,\n",
       "              2.329476402730358,\n",
       "              2.331321796592401,\n",
       "              2.3318332141759446,\n",
       "              2.3126832319765676,\n",
       "              2.310647033915228,\n",
       "              2.2900799810886383,\n",
       "              2.28387229418268,\n",
       "              2.275883430120896,\n",
       "              2.2656045823681112,\n",
       "              2.263568225563789,\n",
       "              2.255351498418925,\n",
       "              2.2559203876524556,\n",
       "              2.242968481414172,\n",
       "              2.236913803280616,\n",
       "              2.214217625710429,\n",
       "              2.2083531386998234,\n",
       "              2.2092377841472626,\n",
       "              2.1965307058120263,\n",
       "              2.1710345331503422,\n",
       "              2.1880984129954357,\n",
       "              2.210927584949805,\n",
       "              2.170781743161532,\n",
       "              2.1580027998710167,\n",
       "              2.1671891753770867,\n",
       "              2.123201601359309,\n",
       "              2.13082475808202,\n",
       "              2.127765043657653,\n",
       "              2.1209076034779453,\n",
       "              2.109346606293503,\n",
       "              2.0986209311047377,\n",
       "              2.093981615742859,\n",
       "              2.0957947665331313,\n",
       "              2.1093798656852876,\n",
       "              2.068362593042607,\n",
       "              2.078301469282228,\n",
       "              2.0801661227430617,\n",
       "              2.0723342244722405,\n",
       "              2.0662882820684083,\n",
       "              2.0635297128132413,\n",
       "              2.0371687035171355,\n",
       "              2.029195250297079,\n",
       "              2.0284144458722095,\n",
       "              2.015612642984001,\n",
       "              2.0220876536807237,\n",
       "              2.0251854761522643,\n",
       "              2.007552287408284,\n",
       "              2.011990503389008,\n",
       "              1.996737769063638,\n",
       "              1.9727491109955066,\n",
       "              2.016889541124811,\n",
       "              1.9838350658514061,\n",
       "              1.9757562304029659,\n",
       "              1.9730176372187478,\n",
       "              1.9612690806388855,\n",
       "              1.9612610364446834,\n",
       "              1.9711191052076769,\n",
       "              1.973956618990217,\n",
       "              1.9596521890893275,\n",
       "              1.945926308631897,\n",
       "              1.9270663595929438,\n",
       "              1.9373716268004204,\n",
       "              1.9202419580245504,\n",
       "              1.9251608331592716,\n",
       "              1.9012845602570747,\n",
       "              1.9160390411104475,\n",
       "              1.9236191505072069,\n",
       "              1.9057861487476193,\n",
       "              1.8867848545921093,\n",
       "              1.9124862326651204,\n",
       "              1.9221764596141115,\n",
       "              1.867458735193525,\n",
       "              1.8732746462432706,\n",
       "              1.8610233792236872,\n",
       "              1.852792318378176,\n",
       "              1.8733802674984446,\n",
       "              1.8706714012184922,\n",
       "              1.8633687818536953,\n",
       "              1.850857933565062,\n",
       "              1.842612005009943,\n",
       "              1.841679540823917,\n",
       "              1.8382524160706266,\n",
       "              1.853902486514072,\n",
       "              1.8382265330577383,\n",
       "              1.8276126652347797,\n",
       "              1.820964472026241,\n",
       "              1.8064461618053669,\n",
       "              1.8159568242880764,\n",
       "              1.8075336120566543,\n",
       "              1.8125909493893992,\n",
       "              1.8155247112926172,\n",
       "              1.7915944663845762,\n",
       "              1.7699227387807808,\n",
       "              1.7730996961496315,\n",
       "              1.7905539760784226,\n",
       "              1.7834272548860433,\n",
       "              1.7855933028824476,\n",
       "              1.7892693360241092,\n",
       "              1.7622352692545677,\n",
       "              1.7490836783331267,\n",
       "              1.7555795907974243,\n",
       "              1.7494257183707491,\n",
       "              1.7477746502477296,\n",
       "              1.747585946808056,\n",
       "              1.7280311693950576,\n",
       "              1.756484490876295,\n",
       "              1.7333292736082662,\n",
       "              1.7254865479712584,\n",
       "              1.7234036849469554,\n",
       "              1.7394391030681378,\n",
       "              1.6973924764565058,\n",
       "              1.713718948315601,\n",
       "              1.7389555421410774,\n",
       "              1.7048606781326994,\n",
       "              1.6958046610258064,\n",
       "              1.691474781960857,\n",
       "              1.6919372799445171,\n",
       "              1.71852538537006,\n",
       "              1.6911307257048938,\n",
       "              1.7185270932255958,\n",
       "              1.6742632711420253,\n",
       "              1.6829761394432612,\n",
       "              1.6731873379678142,\n",
       "              1.682891576874013,\n",
       "              1.6699879649950533,\n",
       "              1.6660424483065703,\n",
       "              1.6722970416351242,\n",
       "              1.6671843096917989,\n",
       "              1.6556943375237134,\n",
       "              1.661952339873022,\n",
       "              1.6514507988277747,\n",
       "              1.654215270159196,\n",
       "              1.6472429973738534,\n",
       "              1.6297183955202297,\n",
       "              1.6350868064530042,\n",
       "              1.634187021425792,\n",
       "              1.6311460271173595,\n",
       "              1.6198991397205664,\n",
       "              1.6336685029827818,\n",
       "              1.6322139282615817,\n",
       "              1.62215470172921,\n",
       "              1.6065662971564703,\n",
       "              1.6110558467251914,\n",
       "              1.6240071350214433,\n",
       "              1.5976072026758779,\n",
       "              1.6140217276252047,\n",
       "              1.6046322930832297,\n",
       "              1.614533396399751,\n",
       "              1.604917978753849,\n",
       "              1.574292174407414,\n",
       "              1.596453847325578,\n",
       "              1.5794060412718325,\n",
       "              1.5782493669159559,\n",
       "              1.57350419796243,\n",
       "              1.5731828395201235,\n",
       "              1.5537312645085004,\n",
       "              1.580302425793239,\n",
       "              1.5853165163069356,\n",
       "              1.552687550077633,\n",
       "              1.5657849184104375,\n",
       "              1.550539649870931,\n",
       "              1.5434393286705017,\n",
       "              1.5628598952779964,\n",
       "              1.545822793731884,\n",
       "              1.5405008452279227,\n",
       "              1.54097831188416,\n",
       "              1.5432345569133759,\n",
       "              1.5432167272178494,\n",
       "              1.5263662897810644,\n",
       "              1.5409831654052346,\n",
       "              1.521545650399461,\n",
       "              1.5183172888901768,\n",
       "              1.5222187303766912,\n",
       "              1.525395729103867,\n",
       "              1.5330285168423945,\n",
       "              1.5168892041761048,\n",
       "              1.5061781594947892,\n",
       "              1.5168905215603965,\n",
       "              1.4931411128871295,\n",
       "              1.5134163559699545,\n",
       "              1.5003499005522047,\n",
       "              1.4936203488281794,\n",
       "              1.4892990662127126,\n",
       "              1.491603791105504,\n",
       "              1.4689892354060192,\n",
       "              1.4690499658487282,\n",
       "              1.4738006731685327,\n",
       "              1.47725439740687,\n",
       "              1.5007399557804575,\n",
       "              1.4719591973995676,\n",
       "              1.4753795777048384,\n",
       "              1.4578590052468436,\n",
       "              1.471772309468717,\n",
       "              1.4794187162603651,\n",
       "              1.4609410130247777,\n",
       "              1.4608522057533264,\n",
       "              1.4792999552220714,\n",
       "              1.4383927054551182,\n",
       "              1.4535719186675793,\n",
       "              1.4500408136114782,\n",
       "              1.4443263137827114,\n",
       "              1.448028790707491,\n",
       "              1.438037477585734,\n",
       "              1.4456611737913014,\n",
       "              1.4379952641165987,\n",
       "              1.4255767318667198,\n",
       "              1.408819780666001,\n",
       "              1.432185373744186,\n",
       "              1.4048519000715138,\n",
       "              1.421427164150744,\n",
       "              1.4213444304709533,\n",
       "              1.4171254227356034,\n",
       "              1.4235629098755973,\n",
       "              1.4079628896956542,\n",
       "              1.4044317226020657,\n",
       "              1.4165527449578654,\n",
       "              1.3976897852761405,\n",
       "              1.384848713874817,\n",
       "              1.3871835798633343,\n",
       "              1.3854481778582748,\n",
       "              1.3906006077114417,\n",
       "              1.3922534408617993,\n",
       "              1.395075029864603,\n",
       "              1.382639363712194,\n",
       "              1.3780926453823945,\n",
       "              1.38134060769665,\n",
       "              1.3522359309147816,\n",
       "              1.374821689664101,\n",
       "              1.365661895396758,\n",
       "              1.3493862754228163,\n",
       "              1.3556369147738632,\n",
       "              1.3523027094043032,\n",
       "              1.36124615584101,\n",
       "              1.367044879465687,\n",
       "              1.3458802791274325,\n",
       "              1.3524201019686095,\n",
       "              1.354717311810474,\n",
       "              1.3409308049143578,\n",
       "              1.3516183781380555,\n",
       "              1.3379938590283296,\n",
       "              1.3345333216141682,\n",
       "              1.3421048357778667,\n",
       "              1.3327916380094023,\n",
       "              1.3580996795576445,\n",
       "              1.336719696010862,\n",
       "              1.3289793784521065,\n",
       "              1.330868930840979,\n",
       "              1.3195786318000482,\n",
       "              1.327122831831173,\n",
       "              1.31668336963167,\n",
       "              1.3213958423964831,\n",
       "              1.3326405274624726,\n",
       "              1.3284984091106726,\n",
       "              1.311677182815513,\n",
       "              1.3162838840971187,\n",
       "              1.3101722452105309,\n",
       "              1.3169908006580509,\n",
       "              1.3086357001139193,\n",
       "              1.2974101432732172,\n",
       "              1.316579985375307,\n",
       "              1.296321338536788,\n",
       "              1.2987480145327899,\n",
       "              1.2919976650452127,\n",
       "              1.2857403615299536,\n",
       "              1.2868025771209173,\n",
       "              1.2922981618618479,\n",
       "              1.2887232498246797,\n",
       "              1.2895706368952382,\n",
       "              1.2664568849972315,\n",
       "              1.289633349496491,\n",
       "              1.2775086541565097,\n",
       "              1.2801789045333862,\n",
       "              1.2845413429396493,\n",
       "              1.276073188197856,\n",
       "              1.2689131030014582,\n",
       "              1.2698848740178712,\n",
       "              1.2827214574327275,\n",
       "              1.2624681865682408,\n",
       "              1.2664734544802685,\n",
       "              1.2611972829517053,\n",
       "              1.2587085573040708,\n",
       "              1.2597353172545531,\n",
       "              1.2572347339318724,\n",
       "              1.2559340687430636,\n",
       "              1.2488931697242114,\n",
       "              1.244984887692393,\n",
       "              1.2506743310665598,\n",
       "              1.2406037103156655,\n",
       "              1.255176574599986,\n",
       "              1.2470877754444978,\n",
       "              1.2394332320106274,\n",
       "              1.244131409392065,\n",
       "              1.2337999866933238,\n",
       "              1.2255456271220226,\n",
       "              1.2297289912797966,\n",
       "              1.2250489261077375,\n",
       "              1.236212174807276,\n",
       "              1.2283059258242042,\n",
       "              1.2388475294015846,\n",
       "              1.2298932090705754,\n",
       "              1.2322253195606931,\n",
       "              1.2229252466741873,\n",
       "              1.2067188815194734,\n",
       "              1.2166990324550746,\n",
       "              1.2175537657981017,\n",
       "              1.2095315395569315,\n",
       "              1.2180392164356855,\n",
       "              1.2100838523130029,\n",
       "              1.2003542175706552,\n",
       "              1.213500173116217,\n",
       "              1.201239055212663,\n",
       "              1.2202342827709354,\n",
       "              1.196400698958611,\n",
       "              1.2053188356209774,\n",
       "              1.2104822987196397,\n",
       "              1.215560577657758,\n",
       "              1.195858822185166,\n",
       "              1.1990789080760917,\n",
       "              1.18623693196141,\n",
       "              1.1903891992204043,\n",
       "              1.191149033758105,\n",
       "              1.1914655207371225,\n",
       "              1.1890418927888482,\n",
       "              1.1850995713350725,\n",
       "              1.193917413755339,\n",
       "              1.1836870917860343,\n",
       "              1.1792799179651299,\n",
       "              1.1781491281426684,\n",
       "              1.190745154509739,\n",
       "              1.181586394504625,\n",
       "              1.169654446597002,\n",
       "              1.1749891532318932,\n",
       "              1.178258325068318,\n",
       "              1.1794090118943428,\n",
       "              1.1654298095678797,\n",
       "              1.1750067229173622,\n",
       "              1.178398763038674,\n",
       "              1.181377733848533,\n",
       "              1.1808267929116074,\n",
       "              1.1725651658311183,\n",
       "              1.1659233235583013,\n",
       "              1.170558396346715,\n",
       "              1.1680397789697259,\n",
       "              1.1733711957931519,\n",
       "              1.1665635808390014,\n",
       "              1.1681567880572106,\n",
       "              1.1582117704104404,\n",
       "              1.1516815487827574,\n",
       "              1.1695806274608689,\n",
       "              1.1611903689953746,\n",
       "              1.1526079463715455,\n",
       "              1.1485477825816797,\n",
       "              1.1511263242181466,\n",
       "              1.1560281287042462,\n",
       "              1.1511191585842444,\n",
       "              1.1516654977993088,\n",
       "              1.1497344243891385,\n",
       "              1.161690126268231,\n",
       "              1.1449315240796731,\n",
       "              1.1509325224526075,\n",
       "              1.1545601362476543,\n",
       "              1.149074266151506,\n",
       "              1.1600302272305196,\n",
       "              1.1456547756584323,\n",
       "              1.1438653788396291,\n",
       "              1.142077473961577,\n",
       "              1.1364678582366632,\n",
       "              1.139899532709803,\n",
       "              1.1353494144824086,\n",
       "              1.1342962387264992,\n",
       "              1.1459459224525763,\n",
       "              1.1404950205160647,\n",
       "              1.1403735048916874,\n",
       "              1.147441596400981,\n",
       "              1.155427867660717,\n",
       "              1.1426183030921586,\n",
       "              1.1354697000007241,\n",
       "              1.1331624887427505,\n",
       "              1.1384755652778002,\n",
       "              1.1452054743255888,\n",
       "              1.139768330722439,\n",
       "              1.1283447702928466,\n",
       "              1.1396834603985961,\n",
       "              1.126347010841175,\n",
       "              1.139832583617191,\n",
       "              1.1336035439554526,\n",
       "              1.1401026841937278,\n",
       "              1.1357048467105748,\n",
       "              1.1396210154100341,\n",
       "              1.1434939591860285,\n",
       "              1.130445054599217,\n",
       "              1.121888173173885,\n",
       "              1.132984736440133,\n",
       "              1.1282944539371802,\n",
       "              1.1229639716294346,\n",
       "              1.1318972049927225,\n",
       "              1.1424148313853206,\n",
       "              1.125014606787234,\n",
       "              1.1315707935362447,\n",
       "              1.1327698373672914,\n",
       "              1.1373107299512746,\n",
       "              1.1303989421956393,\n",
       "              1.1324314979874357,\n",
       "              1.1340420121441082,\n",
       "              1.1289013414358606,\n",
       "              1.1235311429719537,\n",
       "              1.1306070940835136,\n",
       "              1.1274654208397379,\n",
       "              1.1307720332121363,\n",
       "              1.1351595554424792,\n",
       "              1.1221062376791118,\n",
       "              1.1234167780803175,\n",
       "              1.1250792787391313,\n",
       "              1.1284537698541368],\n",
       "             'test_loss': [4.928910923004151,\n",
       "              4.487132167816162,\n",
       "              4.289346432685852,\n",
       "              4.10983452796936,\n",
       "              3.932095098495483,\n",
       "              3.9285629749298097,\n",
       "              3.99436616897583,\n",
       "              3.739085578918457,\n",
       "              3.622528004646301,\n",
       "              3.637422871589661,\n",
       "              3.548859453201294,\n",
       "              3.564389944076538,\n",
       "              3.4747976779937746,\n",
       "              3.381017541885376,\n",
       "              3.337097907066345,\n",
       "              3.3667722225189207,\n",
       "              3.2890701055526734,\n",
       "              3.2767990827560425,\n",
       "              3.135045599937439,\n",
       "              3.1668564319610595,\n",
       "              3.1391306638717653,\n",
       "              3.179833984375,\n",
       "              3.1054896116256714,\n",
       "              3.1492687463760376,\n",
       "              3.127974271774292,\n",
       "              3.027228593826294,\n",
       "              3.0347376823425294,\n",
       "              3.1673964262008667,\n",
       "              2.957317924499512,\n",
       "              2.9378382921218873,\n",
       "              3.0220622301101683,\n",
       "              3.029214859008789,\n",
       "              3.0177748680114744,\n",
       "              2.885864496231079,\n",
       "              2.9268219232559205,\n",
       "              2.7896687507629396,\n",
       "              2.8668779134750366,\n",
       "              2.926331663131714,\n",
       "              2.8337532758712767,\n",
       "              2.8299067497253416,\n",
       "              2.8570746898651125,\n",
       "              2.9749974250793456,\n",
       "              2.7421303272247313,\n",
       "              2.826478695869446,\n",
       "              2.806910753250122,\n",
       "              2.8139782428741453,\n",
       "              2.8617445468902587,\n",
       "              2.7904360055923463,\n",
       "              2.7643161535263063,\n",
       "              2.788499116897583,\n",
       "              2.761991572380066,\n",
       "              2.8533756017684935,\n",
       "              2.940788722038269,\n",
       "              2.7176184177398683,\n",
       "              2.7503398656845093,\n",
       "              2.7578540325164793,\n",
       "              2.8437607526779174,\n",
       "              2.729560208320618,\n",
       "              2.7562074184417726,\n",
       "              2.714958596229553,\n",
       "              2.6263463497161865,\n",
       "              2.7334195375442505,\n",
       "              2.6618287563323975,\n",
       "              2.871290850639343,\n",
       "              2.811487913131714,\n",
       "              2.6203396320343018,\n",
       "              2.7157315254211425,\n",
       "              2.7767817974090576,\n",
       "              2.8044111013412474,\n",
       "              2.6804720401763915,\n",
       "              2.7559177398681642,\n",
       "              2.7195598125457763,\n",
       "              2.7917767763137817,\n",
       "              2.8081960439682008,\n",
       "              2.750901222229004,\n",
       "              2.8662037372589113,\n",
       "              2.74578173160553,\n",
       "              2.7655704498291014,\n",
       "              2.7531198024749757,\n",
       "              2.714239740371704,\n",
       "              2.723050284385681,\n",
       "              2.8493658542633056,\n",
       "              2.7163434267044066,\n",
       "              2.813226246833801,\n",
       "              2.676721382141113,\n",
       "              2.733080530166626,\n",
       "              2.6806856870651243,\n",
       "              2.779267144203186,\n",
       "              2.692672002315521,\n",
       "              2.70089271068573,\n",
       "              2.7329635858535766,\n",
       "              2.694523811340332,\n",
       "              2.710376000404358,\n",
       "              2.7157006740570067,\n",
       "              2.723115015029907,\n",
       "              2.795345187187195,\n",
       "              2.6926042795181275,\n",
       "              2.7265203475952147,\n",
       "              2.8341908693313598,\n",
       "              2.771323895454407,\n",
       "              2.8265363693237306,\n",
       "              2.852757525444031,\n",
       "              2.7504879355430605,\n",
       "              2.7637045860290526,\n",
       "              2.706543517112732,\n",
       "              2.7680965185165407,\n",
       "              2.68589243888855,\n",
       "              2.7979525327682495,\n",
       "              2.765815186500549,\n",
       "              2.7809242367744447,\n",
       "              2.760723614692688,\n",
       "              2.8126861333847044,\n",
       "              2.7792757987976073,\n",
       "              2.763643705844879,\n",
       "              2.748753809928894,\n",
       "              2.7421245336532594,\n",
       "              2.803739309310913,\n",
       "              2.7726887464523315,\n",
       "              2.7231960535049438,\n",
       "              2.858249282836914,\n",
       "              2.785401725769043,\n",
       "              2.8038700103759764,\n",
       "              2.7710546255111694,\n",
       "              2.7867979049682616,\n",
       "              2.72418749332428,\n",
       "              2.7568321943283083,\n",
       "              2.7285024881362916,\n",
       "              2.7560641407966613,\n",
       "              2.8294901609420777,\n",
       "              2.839760732650757,\n",
       "              2.870541572570801,\n",
       "              2.8831013202667237,\n",
       "              2.7734454035758973,\n",
       "              2.779695951938629,\n",
       "              2.743100810050964,\n",
       "              2.8333478689193727,\n",
       "              2.936300015449524,\n",
       "              2.7860183000564573,\n",
       "              2.760418248176575,\n",
       "              2.7766881465911863,\n",
       "              2.828005886077881,\n",
       "              2.8073256731033327,\n",
       "              2.7897027492523194,\n",
       "              2.9302905559539796,\n",
       "              2.7904385924339294,\n",
       "              2.783004641532898,\n",
       "              2.786824035644531,\n",
       "              2.9046268224716187,\n",
       "              2.7444448471069336,\n",
       "              2.8587889194488527,\n",
       "              2.84898898601532,\n",
       "              2.880037713050842,\n",
       "              2.8506909370422364,\n",
       "              2.8071267127990724,\n",
       "              2.7645134210586546,\n",
       "              2.7364031434059144,\n",
       "              2.8056752920150756,\n",
       "              2.7993867874145506,\n",
       "              2.8403881311416628,\n",
       "              2.730183219909668,\n",
       "              2.8283589839935304,\n",
       "              2.775923657417297,\n",
       "              2.841416120529175,\n",
       "              2.8323662996292116,\n",
       "              2.7792271852493284,\n",
       "              2.7397686362266542,\n",
       "              2.882616901397705,\n",
       "              2.7659995317459107,\n",
       "              2.820260500907898,\n",
       "              2.812803316116333,\n",
       "              2.876617407798767,\n",
       "              2.8372755527496336,\n",
       "              2.838149571418762,\n",
       "              2.9189021825790404,\n",
       "              2.8053510427474975,\n",
       "              2.9611499309539795,\n",
       "              2.8215434551239014,\n",
       "              2.829799437522888,\n",
       "              2.7945099115371703,\n",
       "              2.8588414192199707,\n",
       "              2.7722800970077515,\n",
       "              2.8192453384399414,\n",
       "              2.8403652906417847,\n",
       "              2.7644002199172975,\n",
       "              2.77736918926239,\n",
       "              2.7330411672592163,\n",
       "              2.874123954772949,\n",
       "              2.810462975502014,\n",
       "              2.864537167549133,\n",
       "              2.882517695426941,\n",
       "              2.876056265830994,\n",
       "              2.927543783187866,\n",
       "              2.811659407615662,\n",
       "              2.884734535217285,\n",
       "              2.8413373827934265,\n",
       "              2.7346893787384032,\n",
       "              2.807274329662323,\n",
       "              2.850989079475403,\n",
       "              2.844106340408325,\n",
       "              2.823218321800232,\n",
       "              2.8327723503112794,\n",
       "              2.786605405807495,\n",
       "              2.889048171043396,\n",
       "              2.8622463941574097,\n",
       "              2.849687361717224,\n",
       "              2.835163712501526,\n",
       "              2.8718953847885134,\n",
       "              2.9376049518585203,\n",
       "              2.901928758621216,\n",
       "              2.9108243942260743,\n",
       "              2.7414724588394166,\n",
       "              2.831895899772644,\n",
       "              2.8857057809829714,\n",
       "              2.8145910263061524,\n",
       "              2.8293076038360594,\n",
       "              2.896473503112793,\n",
       "              2.8708123683929445,\n",
       "              2.806312990188599,\n",
       "              2.829958128929138,\n",
       "              2.795932745933533,\n",
       "              2.8105051279067994,\n",
       "              2.8738603353500367,\n",
       "              2.860308599472046,\n",
       "              2.831647825241089,\n",
       "              2.791550898551941,\n",
       "              2.8205484628677366,\n",
       "              2.7981980085372924,\n",
       "              2.8139258861541747,\n",
       "              2.877788519859314,\n",
       "              2.8951538801193237,\n",
       "              2.8077447175979615,\n",
       "              2.8587022542953493,\n",
       "              2.81471049785614,\n",
       "              2.8448880195617674,\n",
       "              2.8491119384765624,\n",
       "              2.886249232292175,\n",
       "              2.826751732826233,\n",
       "              2.8027191162109375,\n",
       "              2.8760892868041994,\n",
       "              2.8257058382034304,\n",
       "              2.8253612756729125,\n",
       "              2.781668543815613,\n",
       "              2.7878196239471436,\n",
       "              2.810194969177246,\n",
       "              2.864745593070984,\n",
       "              2.9188525438308717,\n",
       "              2.817177152633667,\n",
       "              2.8403417110443114,\n",
       "              2.7841396570205688,\n",
       "              2.776949882507324,\n",
       "              2.89618079662323,\n",
       "              2.8903106689453124,\n",
       "              2.800316071510315,\n",
       "              2.8148852586746216,\n",
       "              2.8246912479400637,\n",
       "              2.9048646211624147,\n",
       "              2.773002815246582,\n",
       "              2.783397841453552,\n",
       "              2.831523084640503,\n",
       "              2.879298782348633,\n",
       "              2.8052507638931274,\n",
       "              2.7753170013427733,\n",
       "              2.7240171670913695,\n",
       "              2.7932168006896974,\n",
       "              2.863944745063782,\n",
       "              2.827835774421692,\n",
       "              2.795286774635315,\n",
       "              2.814604902267456,\n",
       "              2.812629723548889,\n",
       "              2.811566615104675,\n",
       "              2.7833935260772704,\n",
       "              2.8496625900268553,\n",
       "              2.769631004333496,\n",
       "              2.775793266296387,\n",
       "              2.8177886962890626,\n",
       "              2.7830438137054445,\n",
       "              2.8057259559631347,\n",
       "              2.795585107803345,\n",
       "              2.809146285057068,\n",
       "              2.7887495279312136,\n",
       "              2.792209005355835,\n",
       "              2.750222158432007,\n",
       "              2.8079530239105224,\n",
       "              2.83510799407959,\n",
       "              2.8409505605697634,\n",
       "              2.8319939374923706,\n",
       "              2.8332716703414915,\n",
       "              2.796620559692383,\n",
       "              2.7926509380340576,\n",
       "              2.887783980369568,\n",
       "              2.766104578971863,\n",
       "              2.796814513206482,\n",
       "              2.7683305025100706,\n",
       "              2.7843762397766114,\n",
       "              2.7881782054901123,\n",
       "              2.7554075002670286,\n",
       "              2.7689685583114625,\n",
       "              2.798316764831543,\n",
       "              2.7477277517318726,\n",
       "              2.7775307416915895,\n",
       "              2.7792295932769777,\n",
       "              2.7587854146957396,\n",
       "              2.7469700813293456,\n",
       "              2.7457271337509157,\n",
       "              2.735386276245117,\n",
       "              2.760952663421631,\n",
       "              2.7563883304595946,\n",
       "              2.776360106468201,\n",
       "              2.8021911859512327,\n",
       "              2.715905284881592,\n",
       "              2.8247318267822266,\n",
       "              2.735345458984375,\n",
       "              2.7677197456359863,\n",
       "              2.761250042915344,\n",
       "              2.705762434005737,\n",
       "              2.7134374618530273,\n",
       "              2.7328634023666383,\n",
       "              2.7665470838546753,\n",
       "              2.74587242603302,\n",
       "              2.766006588935852,\n",
       "              2.7574347972869875,\n",
       "              2.7679903745651244,\n",
       "              2.767240858078003,\n",
       "              2.752783679962158,\n",
       "              2.7626195430755613,\n",
       "              2.756761384010315,\n",
       "              2.749619698524475,\n",
       "              2.8074058055877686,\n",
       "              2.6901413202285767,\n",
       "              2.740839433670044,\n",
       "              2.740795683860779,\n",
       "              2.749525451660156,\n",
       "              2.6965086698532104,\n",
       "              2.6898488998413086,\n",
       "              2.735570192337036,\n",
       "              2.7133130073547362,\n",
       "              2.774820065498352,\n",
       "              2.744768214225769,\n",
       "              2.7052555084228516,\n",
       "              2.775132155418396,\n",
       "              2.762552547454834,\n",
       "              2.7275145053863525,\n",
       "              2.735956811904907,\n",
       "              2.695436978340149,\n",
       "              2.758554482460022,\n",
       "              2.7022680044174194,\n",
       "              2.713409733772278,\n",
       "              2.7310457468032836,\n",
       "              2.7454922437667846,\n",
       "              2.72292275428772,\n",
       "              2.7320582389831545,\n",
       "              2.73924458026886,\n",
       "              2.75768096446991,\n",
       "              2.755365085601807,\n",
       "              2.7767754793167114,\n",
       "              2.693043065071106,\n",
       "              2.7664229393005373,\n",
       "              2.7784293413162233,\n",
       "              2.7543486833572386,\n",
       "              2.7440000772476196,\n",
       "              2.7819602489471436,\n",
       "              2.73807053565979,\n",
       "              2.7124751329422,\n",
       "              2.712131309509277,\n",
       "              2.709998106956482,\n",
       "              2.7244771480560304,\n",
       "              2.74136905670166,\n",
       "              2.7259151220321653,\n",
       "              2.744523525238037,\n",
       "              2.742731714248657,\n",
       "              2.725136423110962,\n",
       "              2.708116626739502,\n",
       "              2.6918874025344848,\n",
       "              2.712821054458618,\n",
       "              2.7258013486862183,\n",
       "              2.7131510972976685,\n",
       "              2.6981762170791628,\n",
       "              2.718639945983887,\n",
       "              2.7136916160583495,\n",
       "              2.733850193023682,\n",
       "              2.7260684251785277,\n",
       "              2.69345908164978,\n",
       "              2.70022656917572,\n",
       "              2.734337902069092,\n",
       "              2.702925109863281,\n",
       "              2.6941996812820435,\n",
       "              2.7117230892181396,\n",
       "              2.729899597167969,\n",
       "              2.7114913702011108,\n",
       "              2.6934312105178835,\n",
       "              2.6949605703353883,\n",
       "              2.7333272218704225,\n",
       "              2.7112879037857054,\n",
       "              2.7139615297317503,\n",
       "              2.6984398126602174,\n",
       "              2.721707344055176,\n",
       "              2.727425384521484,\n",
       "              2.7169851779937746,\n",
       "              2.700680446624756,\n",
       "              2.711962580680847,\n",
       "              2.7059024572372437,\n",
       "              2.710927200317383,\n",
       "              2.711977171897888,\n",
       "              2.7051486730575562,\n",
       "              2.7103075981140137,\n",
       "              2.689997911453247,\n",
       "              2.717910313606262,\n",
       "              2.721531343460083,\n",
       "              2.7110448360443113,\n",
       "              2.6887711763381956,\n",
       "              2.700188994407654,\n",
       "              2.6971620321273804,\n",
       "              2.6883285522460936,\n",
       "              2.688255214691162,\n",
       "              2.7000818967819216,\n",
       "              2.691656160354614,\n",
       "              2.698147487640381,\n",
       "              2.7101552486419678,\n",
       "              2.69496066570282,\n",
       "              2.718942904472351,\n",
       "              2.712308883666992,\n",
       "              2.72100989818573,\n",
       "              2.700848412513733,\n",
       "              2.6902853727340696,\n",
       "              2.6932080030441283,\n",
       "              2.6806954383850097,\n",
       "              2.685621738433838,\n",
       "              2.682907485961914,\n",
       "              2.6804726839065554,\n",
       "              2.683762621879578,\n",
       "              2.6979244709014893,\n",
       "              2.6911672830581663,\n",
       "              2.7020333051681518,\n",
       "              2.690722441673279,\n",
       "              2.6879201412200926,\n",
       "              2.684440183639526,\n",
       "              2.693678092956543,\n",
       "              2.695557403564453,\n",
       "              2.684112310409546,\n",
       "              2.683268189430237,\n",
       "              2.696559762954712,\n",
       "              2.6947121381759644,\n",
       "              2.6885682344436646,\n",
       "              2.692261576652527,\n",
       "              2.674790072441101,\n",
       "              2.680019187927246,\n",
       "              2.684750461578369,\n",
       "              2.674195981025696,\n",
       "              2.676088047027588,\n",
       "              2.6809751272201536,\n",
       "              2.681585264205933,\n",
       "              2.6927378177642822,\n",
       "              2.676166868209839,\n",
       "              2.6996350288391113,\n",
       "              2.6910959482192993,\n",
       "              2.6942615509033203,\n",
       "              2.6902374982833863,\n",
       "              2.6944886445999146,\n",
       "              2.689506006240845,\n",
       "              2.700609040260315,\n",
       "              2.6871304512023926,\n",
       "              2.683209466934204,\n",
       "              2.690084218978882,\n",
       "              2.686294937133789,\n",
       "              2.685450720787048,\n",
       "              2.682553744316101,\n",
       "              2.6823336601257326,\n",
       "              2.6847129821777345,\n",
       "              2.6824633359909056,\n",
       "              2.681952953338623,\n",
       "              2.672187876701355,\n",
       "              2.679156708717346,\n",
       "              2.6760761737823486,\n",
       "              2.6794706106185915,\n",
       "              2.6816185235977175,\n",
       "              2.6890668630599976,\n",
       "              2.6803739786148073,\n",
       "              2.678346633911133,\n",
       "              2.6764688968658445,\n",
       "              2.6835094928741454,\n",
       "              2.6890097141265867,\n",
       "              2.675447964668274,\n",
       "              2.67189884185791,\n",
       "              2.6704519748687745,\n",
       "              2.682466149330139,\n",
       "              2.679400849342346,\n",
       "              2.6787654638290403,\n",
       "              2.6844203948974608,\n",
       "              2.6891623973846435,\n",
       "              2.6811212301254272,\n",
       "              2.6834667682647706,\n",
       "              2.680855917930603,\n",
       "              2.68424973487854,\n",
       "              2.677462029457092,\n",
       "              2.6869276762008667,\n",
       "              2.6847074031829834,\n",
       "              2.6880197286605836,\n",
       "              2.6847267150878906,\n",
       "              2.6814407110214233,\n",
       "              2.688355875015259],\n",
       "             'test_accuracy': [0.0264,\n",
       "              0.0796,\n",
       "              0.0912,\n",
       "              0.122,\n",
       "              0.1486,\n",
       "              0.149,\n",
       "              0.1456,\n",
       "              0.1846,\n",
       "              0.1912,\n",
       "              0.1924,\n",
       "              0.2104,\n",
       "              0.2068,\n",
       "              0.2126,\n",
       "              0.2358,\n",
       "              0.243,\n",
       "              0.2366,\n",
       "              0.2524,\n",
       "              0.25,\n",
       "              0.2768,\n",
       "              0.2704,\n",
       "              0.277,\n",
       "              0.267,\n",
       "              0.2858,\n",
       "              0.2718,\n",
       "              0.2868,\n",
       "              0.3022,\n",
       "              0.2962,\n",
       "              0.2838,\n",
       "              0.3186,\n",
       "              0.322,\n",
       "              0.299,\n",
       "              0.307,\n",
       "              0.3088,\n",
       "              0.3322,\n",
       "              0.3268,\n",
       "              0.351,\n",
       "              0.336,\n",
       "              0.3326,\n",
       "              0.348,\n",
       "              0.3424,\n",
       "              0.3372,\n",
       "              0.331,\n",
       "              0.3646,\n",
       "              0.3404,\n",
       "              0.3502,\n",
       "              0.3482,\n",
       "              0.349,\n",
       "              0.3574,\n",
       "              0.3624,\n",
       "              0.3582,\n",
       "              0.3622,\n",
       "              0.355,\n",
       "              0.3452,\n",
       "              0.3716,\n",
       "              0.368,\n",
       "              0.3644,\n",
       "              0.3566,\n",
       "              0.3758,\n",
       "              0.3796,\n",
       "              0.381,\n",
       "              0.4064,\n",
       "              0.3852,\n",
       "              0.3886,\n",
       "              0.3544,\n",
       "              0.3688,\n",
       "              0.3952,\n",
       "              0.384,\n",
       "              0.375,\n",
       "              0.3808,\n",
       "              0.381,\n",
       "              0.3832,\n",
       "              0.3922,\n",
       "              0.3782,\n",
       "              0.38,\n",
       "              0.392,\n",
       "              0.3678,\n",
       "              0.3912,\n",
       "              0.3862,\n",
       "              0.3778,\n",
       "              0.3978,\n",
       "              0.3924,\n",
       "              0.3774,\n",
       "              0.3942,\n",
       "              0.377,\n",
       "              0.411,\n",
       "              0.3988,\n",
       "              0.412,\n",
       "              0.386,\n",
       "              0.3924,\n",
       "              0.3998,\n",
       "              0.3968,\n",
       "              0.3988,\n",
       "              0.3996,\n",
       "              0.4056,\n",
       "              0.4006,\n",
       "              0.3916,\n",
       "              0.4046,\n",
       "              0.3868,\n",
       "              0.3826,\n",
       "              0.3972,\n",
       "              0.4036,\n",
       "              0.3928,\n",
       "              0.4096,\n",
       "              0.4012,\n",
       "              0.4082,\n",
       "              0.4026,\n",
       "              0.4164,\n",
       "              0.3966,\n",
       "              0.403,\n",
       "              0.4038,\n",
       "              0.4022,\n",
       "              0.3984,\n",
       "              0.41,\n",
       "              0.4022,\n",
       "              0.41,\n",
       "              0.4044,\n",
       "              0.4024,\n",
       "              0.412,\n",
       "              0.414,\n",
       "              0.394,\n",
       "              0.4098,\n",
       "              0.3984,\n",
       "              0.4154,\n",
       "              0.4054,\n",
       "              0.413,\n",
       "              0.41,\n",
       "              0.4118,\n",
       "              0.3986,\n",
       "              0.41,\n",
       "              0.3988,\n",
       "              0.4044,\n",
       "              0.3988,\n",
       "              0.4154,\n",
       "              0.4104,\n",
       "              0.421,\n",
       "              0.4172,\n",
       "              0.3944,\n",
       "              0.4164,\n",
       "              0.4134,\n",
       "              0.4214,\n",
       "              0.4122,\n",
       "              0.4028,\n",
       "              0.412,\n",
       "              0.4012,\n",
       "              0.4124,\n",
       "              0.4216,\n",
       "              0.4122,\n",
       "              0.403,\n",
       "              0.4302,\n",
       "              0.411,\n",
       "              0.4116,\n",
       "              0.4128,\n",
       "              0.4042,\n",
       "              0.414,\n",
       "              0.4226,\n",
       "              0.4238,\n",
       "              0.4192,\n",
       "              0.427,\n",
       "              0.4142,\n",
       "              0.4264,\n",
       "              0.4236,\n",
       "              0.4242,\n",
       "              0.4248,\n",
       "              0.4346,\n",
       "              0.4178,\n",
       "              0.4294,\n",
       "              0.4128,\n",
       "              0.4294,\n",
       "              0.4234,\n",
       "              0.4178,\n",
       "              0.4202,\n",
       "              0.4234,\n",
       "              0.4288,\n",
       "              0.4114,\n",
       "              0.4196,\n",
       "              0.4176,\n",
       "              0.4226,\n",
       "              0.4274,\n",
       "              0.4328,\n",
       "              0.4244,\n",
       "              0.433,\n",
       "              0.4306,\n",
       "              0.4256,\n",
       "              0.435,\n",
       "              0.4292,\n",
       "              0.4362,\n",
       "              0.4204,\n",
       "              0.4278,\n",
       "              0.4316,\n",
       "              0.4252,\n",
       "              0.418,\n",
       "              0.4204,\n",
       "              0.4258,\n",
       "              0.4246,\n",
       "              0.4246,\n",
       "              0.4434,\n",
       "              0.4346,\n",
       "              0.4372,\n",
       "              0.424,\n",
       "              0.4324,\n",
       "              0.4336,\n",
       "              0.4412,\n",
       "              0.4272,\n",
       "              0.425,\n",
       "              0.4306,\n",
       "              0.435,\n",
       "              0.421,\n",
       "              0.4274,\n",
       "              0.4206,\n",
       "              0.4162,\n",
       "              0.4472,\n",
       "              0.4346,\n",
       "              0.4334,\n",
       "              0.4334,\n",
       "              0.4388,\n",
       "              0.432,\n",
       "              0.4336,\n",
       "              0.4394,\n",
       "              0.4378,\n",
       "              0.45,\n",
       "              0.4452,\n",
       "              0.431,\n",
       "              0.4332,\n",
       "              0.4348,\n",
       "              0.4372,\n",
       "              0.4382,\n",
       "              0.4364,\n",
       "              0.4462,\n",
       "              0.442,\n",
       "              0.4356,\n",
       "              0.4354,\n",
       "              0.4454,\n",
       "              0.4386,\n",
       "              0.4364,\n",
       "              0.4364,\n",
       "              0.4322,\n",
       "              0.4374,\n",
       "              0.4478,\n",
       "              0.4438,\n",
       "              0.4406,\n",
       "              0.443,\n",
       "              0.4418,\n",
       "              0.4392,\n",
       "              0.4476,\n",
       "              0.4402,\n",
       "              0.44,\n",
       "              0.4522,\n",
       "              0.443,\n",
       "              0.443,\n",
       "              0.4472,\n",
       "              0.4386,\n",
       "              0.431,\n",
       "              0.439,\n",
       "              0.447,\n",
       "              0.4426,\n",
       "              0.4404,\n",
       "              0.447,\n",
       "              0.4446,\n",
       "              0.447,\n",
       "              0.4408,\n",
       "              0.4492,\n",
       "              0.456,\n",
       "              0.4486,\n",
       "              0.446,\n",
       "              0.4416,\n",
       "              0.448,\n",
       "              0.4536,\n",
       "              0.4496,\n",
       "              0.4522,\n",
       "              0.4544,\n",
       "              0.4528,\n",
       "              0.4484,\n",
       "              0.4562,\n",
       "              0.4554,\n",
       "              0.4534,\n",
       "              0.452,\n",
       "              0.4512,\n",
       "              0.4524,\n",
       "              0.4514,\n",
       "              0.4504,\n",
       "              0.4572,\n",
       "              0.4464,\n",
       "              0.4506,\n",
       "              0.4514,\n",
       "              0.4538,\n",
       "              0.449,\n",
       "              0.4538,\n",
       "              0.4572,\n",
       "              0.4602,\n",
       "              0.4526,\n",
       "              0.4752,\n",
       "              0.4606,\n",
       "              0.4572,\n",
       "              0.4582,\n",
       "              0.4628,\n",
       "              0.4576,\n",
       "              0.4556,\n",
       "              0.4576,\n",
       "              0.46,\n",
       "              0.4642,\n",
       "              0.4634,\n",
       "              0.4656,\n",
       "              0.462,\n",
       "              0.4652,\n",
       "              0.466,\n",
       "              0.4642,\n",
       "              0.465,\n",
       "              0.4644,\n",
       "              0.4556,\n",
       "              0.4634,\n",
       "              0.46,\n",
       "              0.4728,\n",
       "              0.4676,\n",
       "              0.4592,\n",
       "              0.47,\n",
       "              0.4748,\n",
       "              0.468,\n",
       "              0.4666,\n",
       "              0.4614,\n",
       "              0.4682,\n",
       "              0.4638,\n",
       "              0.468,\n",
       "              0.4636,\n",
       "              0.464,\n",
       "              0.467,\n",
       "              0.4716,\n",
       "              0.471,\n",
       "              0.4666,\n",
       "              0.4744,\n",
       "              0.4676,\n",
       "              0.467,\n",
       "              0.4646,\n",
       "              0.4696,\n",
       "              0.477,\n",
       "              0.4706,\n",
       "              0.4754,\n",
       "              0.4674,\n",
       "              0.4688,\n",
       "              0.476,\n",
       "              0.4668,\n",
       "              0.4708,\n",
       "              0.4738,\n",
       "              0.4724,\n",
       "              0.482,\n",
       "              0.476,\n",
       "              0.4832,\n",
       "              0.4748,\n",
       "              0.471,\n",
       "              0.4752,\n",
       "              0.4712,\n",
       "              0.4728,\n",
       "              0.4802,\n",
       "              0.466,\n",
       "              0.4696,\n",
       "              0.471,\n",
       "              0.4706,\n",
       "              0.4756,\n",
       "              0.4716,\n",
       "              0.4782,\n",
       "              0.4734,\n",
       "              0.468,\n",
       "              0.4738,\n",
       "              0.4772,\n",
       "              0.477,\n",
       "              0.479,\n",
       "              0.4776,\n",
       "              0.48,\n",
       "              0.4764,\n",
       "              0.4702,\n",
       "              0.4782,\n",
       "              0.4758,\n",
       "              0.4794,\n",
       "              0.4854,\n",
       "              0.4814,\n",
       "              0.4842,\n",
       "              0.4814,\n",
       "              0.4818,\n",
       "              0.4854,\n",
       "              0.482,\n",
       "              0.4822,\n",
       "              0.481,\n",
       "              0.482,\n",
       "              0.4768,\n",
       "              0.4756,\n",
       "              0.4792,\n",
       "              0.4812,\n",
       "              0.482,\n",
       "              0.4778,\n",
       "              0.4832,\n",
       "              0.4822,\n",
       "              0.484,\n",
       "              0.4796,\n",
       "              0.4782,\n",
       "              0.4852,\n",
       "              0.4866,\n",
       "              0.4822,\n",
       "              0.4792,\n",
       "              0.4816,\n",
       "              0.4816,\n",
       "              0.4866,\n",
       "              0.4792,\n",
       "              0.4814,\n",
       "              0.4814,\n",
       "              0.4816,\n",
       "              0.4822,\n",
       "              0.4862,\n",
       "              0.4828,\n",
       "              0.4836,\n",
       "              0.4862,\n",
       "              0.4902,\n",
       "              0.4824,\n",
       "              0.4866,\n",
       "              0.4842,\n",
       "              0.4858,\n",
       "              0.4866,\n",
       "              0.4864,\n",
       "              0.4866,\n",
       "              0.491,\n",
       "              0.4892,\n",
       "              0.485,\n",
       "              0.478,\n",
       "              0.4838,\n",
       "              0.4892,\n",
       "              0.4872,\n",
       "              0.4882,\n",
       "              0.4874,\n",
       "              0.4904,\n",
       "              0.4884,\n",
       "              0.4916,\n",
       "              0.4884,\n",
       "              0.4892,\n",
       "              0.489,\n",
       "              0.4862,\n",
       "              0.4852,\n",
       "              0.4854,\n",
       "              0.4896,\n",
       "              0.4884,\n",
       "              0.4888,\n",
       "              0.4884,\n",
       "              0.4888,\n",
       "              0.4878,\n",
       "              0.4856,\n",
       "              0.4876,\n",
       "              0.4872,\n",
       "              0.4872,\n",
       "              0.4882,\n",
       "              0.4914,\n",
       "              0.4878,\n",
       "              0.4852,\n",
       "              0.4896,\n",
       "              0.4892,\n",
       "              0.4904,\n",
       "              0.4902,\n",
       "              0.4886,\n",
       "              0.4884,\n",
       "              0.4912,\n",
       "              0.4904,\n",
       "              0.489,\n",
       "              0.4856,\n",
       "              0.4892,\n",
       "              0.4896,\n",
       "              0.4882,\n",
       "              0.4902,\n",
       "              0.488,\n",
       "              0.4914,\n",
       "              0.4922,\n",
       "              0.4918,\n",
       "              0.4908,\n",
       "              0.49,\n",
       "              0.4906,\n",
       "              0.4896,\n",
       "              0.4908,\n",
       "              0.4906,\n",
       "              0.49,\n",
       "              0.489,\n",
       "              0.4894,\n",
       "              0.4908,\n",
       "              0.4906,\n",
       "              0.4912,\n",
       "              0.491,\n",
       "              0.4928,\n",
       "              0.4924,\n",
       "              0.4928,\n",
       "              0.4898,\n",
       "              0.491,\n",
       "              0.4906,\n",
       "              0.492,\n",
       "              0.491,\n",
       "              0.4912,\n",
       "              0.4918,\n",
       "              0.4912,\n",
       "              0.4906,\n",
       "              0.493,\n",
       "              0.4912,\n",
       "              0.4914,\n",
       "              0.4934,\n",
       "              0.4914,\n",
       "              0.4914,\n",
       "              0.4908,\n",
       "              0.4942]})"
      ]
     },
     "execution_count": 9,
     "metadata": {},
     "output_type": "execute_result"
    }
   ],
   "source": [
    "history"
   ]
  },
  {
   "cell_type": "code",
   "execution_count": 10,
   "metadata": {},
   "outputs": [
    {
     "data": {
      "text/plain": [
       "<matplotlib.legend.Legend at 0x155445e93bd0>"
      ]
     },
     "execution_count": 10,
     "metadata": {},
     "output_type": "execute_result"
    },
    {
     "data": {
      "image/png": "[encoded data removed]",
      "text/plain": [
       "<Figure size 640x480 with 1 Axes>"
      ]
     },
     "metadata": {},
     "output_type": "display_data"
    }
   ],
   "source": [
    "plt.plot(history['train_loss'], label='Train Loss')\n",
    "plt.plot(history['test_loss'], label='Test Loss')\n",
    "plt.title('Loss Curves')\n",
    "plt.xlabel('Epoch')\n",
    "plt.ylabel('Loss')\n",
    "plt.legend()"
   ]
  },
  {
   "cell_type": "code",
   "execution_count": 13,
   "metadata": {},
   "outputs": [
    {
     "data": {
      "text/plain": [
       "<matplotlib.legend.Legend at 0x15545050b450>"
      ]
     },
     "execution_count": 13,
     "metadata": {},
     "output_type": "execute_result"
    },
    {
     "data": {
      "image/png": "[encoded data removed]",
      "text/plain": [
       "<Figure size 640x480 with 1 Axes>"
      ]
     },
     "metadata": {},
     "output_type": "display_data"
    }
   ],
   "source": [
    "plt.plot(history['test_accuracy'], label='Test Accuracy')\n",
    "plt.title('Test Accuracy')\n",
    "plt.xlabel('Epoch')\n",
    "plt.ylabel('Accuracy')\n",
    "plt.legend()"
   ]
  }
 ],
 "metadata": {
  "kernelspec": {
   "display_name": "Python 3 (ipykernel)",
   "language": "python",
   "name": "python3"
  },
  "language_info": {
   "codemirror_mode": {
    "name": "ipython",
    "version": 3
   },
   "file_extension": ".py",
   "mimetype": "text/x-python",
   "name": "python",
   "nbconvert_exporter": "python",
   "pygments_lexer": "ipython3",
   "version": "3.11.3"
  }
 },
 "nbformat": 4,
 "nbformat_minor": 2
}
